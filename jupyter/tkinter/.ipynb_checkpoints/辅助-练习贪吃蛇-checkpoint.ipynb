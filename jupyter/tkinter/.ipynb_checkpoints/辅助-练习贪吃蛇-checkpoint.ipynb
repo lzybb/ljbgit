{
 "cells": [
  {
   "cell_type": "code",
   "execution_count": 12,
   "metadata": {},
   "outputs": [],
   "source": [
    "import tkinter\n",
    "import random\n",
    "tk = tkinter.Tk()\n",
    "canvas = tkinter.Canvas(tk, width=400,height=400,bg='gray')\n",
    "canvas.pack()\n",
    "\n",
    "class a():\n",
    "    \n",
    "    def __init__(self):\n",
    "        self.cs = canvas.create_rectangle(50,50,80,80,fill='red')\n",
    "    \n",
    "    def new(self):\n",
    "        canvas.delete(self.cs)\n",
    "        p=[[0,0],[0,0]]\n",
    "        p[0][0] = random.randrange(40,240,10)\n",
    "        p[0][1] = random.randrange(40,240,10)\n",
    "        p[1][0] = random.randrange(40,240,10)\n",
    "        p[1][1] = random.randrange(40,240,10)\n",
    "        self.cs = canvas.create_rectangle(p,fill='red')\n",
    "        \n",
    "c = a()\n",
    "def b(event):\n",
    "    c.new()\n",
    "canvas.bind('<Button-1>',b)\n",
    "        \n",
    "tk.mainloop()"
   ]
  },
  {
   "cell_type": "code",
   "execution_count": 14,
   "metadata": {},
   "outputs": [
    {
     "name": "stdout",
     "output_type": "stream",
     "text": [
      "3\n",
      "[[1, 2], [6, 4]]\n"
     ]
    }
   ],
   "source": [
    "p=[[1,2],[3,4]]\n",
    "print(p[1][0])\n",
    "p[1][0]=6\n",
    "print(p)"
   ]
  },
  {
   "cell_type": "code",
   "execution_count": 17,
   "metadata": {},
   "outputs": [
    {
     "name": "stdout",
     "output_type": "stream",
     "text": [
      "5\n"
     ]
    }
   ],
   "source": [
    "l=[1,2,3,4,5]\n",
    "print(len(l))"
   ]
  },
  {
   "cell_type": "code",
   "execution_count": 19,
   "metadata": {},
   "outputs": [
    {
     "name": "stdout",
     "output_type": "stream",
     "text": [
      "21\n"
     ]
    }
   ],
   "source": [
    "global c \n",
    "c = 15\n",
    "\n",
    "def a(b):\n",
    "    print(b+c)\n",
    "a(6)"
   ]
  },
  {
   "cell_type": "code",
   "execution_count": 53,
   "metadata": {},
   "outputs": [
    {
     "name": "stdout",
     "output_type": "stream",
     "text": [
      "17\n",
      "17\n"
     ]
    }
   ],
   "source": [
    "import random\n",
    "class a():\n",
    "    def __init__(self,b):\n",
    "        self.a = random.randrange(10) + b\n",
    "        self.c()\n",
    "    def c(self):\n",
    "        return self.a\n",
    "\n",
    "\n",
    "b = a(10).c()\n",
    "y = a(10).c()\n",
    "print(b)\n",
    "print(y)\n"
   ]
  },
  {
   "cell_type": "code",
   "execution_count": 55,
   "metadata": {},
   "outputs": [
    {
     "name": "stdout",
     "output_type": "stream",
     "text": [
      "1\n",
      "2\n"
     ]
    }
   ],
   "source": [
    "def a():\n",
    "    return 1,2\n",
    "x,y = a()\n",
    "print(x)\n",
    "print(y)"
   ]
  },
  {
   "cell_type": "code",
   "execution_count": 61,
   "metadata": {},
   "outputs": [
    {
     "name": "stdout",
     "output_type": "stream",
     "text": [
      "12\n",
      "1\n"
     ]
    }
   ],
   "source": [
    "print((13 // 2) * 2)\n",
    "print(int(1.2))"
   ]
  },
  {
   "cell_type": "code",
   "execution_count": 1,
   "metadata": {},
   "outputs": [],
   "source": [
    "class A():\n",
    "    def cs(self):\n",
    "        print('测试')\n",
    "\n",
    "class B(A):\n",
    "    pass\n",
    "\n",
    "c = B()"
   ]
  },
  {
   "cell_type": "code",
   "execution_count": 8,
   "metadata": {},
   "outputs": [
    {
     "name": "stdout",
     "output_type": "stream",
     "text": [
      "13\n",
      "24\n",
      "30\n"
     ]
    }
   ],
   "source": [
    "def A(a=6,b=7):\n",
    "    print(a+b)\n",
    "    \n",
    "A()\n",
    "A(17)\n",
    "A(17,13)\n",
    "\n",
    "    "
   ]
  },
  {
   "cell_type": "code",
   "execution_count": 9,
   "metadata": {},
   "outputs": [
    {
     "name": "stdout",
     "output_type": "stream",
     "text": [
      "<class 'tkinter.Tk'>\n"
     ]
    }
   ],
   "source": [
    "import tkinter\n",
    "\n",
    "print(tkinter.Tk)\n"
   ]
  }
 ],
 "metadata": {
  "kernelspec": {
   "display_name": "Python 3",
   "language": "python",
   "name": "python3"
  },
  "language_info": {
   "codemirror_mode": {
    "name": "ipython",
    "version": 3
   },
   "file_extension": ".py",
   "mimetype": "text/x-python",
   "name": "python",
   "nbconvert_exporter": "python",
   "pygments_lexer": "ipython3",
   "version": "3.7.1"
  }
 },
 "nbformat": 4,
 "nbformat_minor": 2
}
