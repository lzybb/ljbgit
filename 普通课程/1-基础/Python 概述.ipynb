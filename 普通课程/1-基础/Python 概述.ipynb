{
 "cells": [
  {
   "cell_type": "markdown",
   "metadata": {},
   "source": [
    "# Python 基础\n",
    "## Python概述\n",
    "    -计算机语言概述\n",
    "        -语言：\n",
    "        -计算机语言：人跟计算机交流的工具，翻译官\n",
    "        -Python是计算机语言里的一种\n",
    "        -Python编程语言\n",
    "            -代码：人类语言，通过代码命令机器，跟机器交流\n",
    "            -Python解释器：\n",
    "            -流程：\n",
    "                -写代码\n",
    "                -执行：由翻译官（Python解释器）把命令（code）翻译给机器，同时把结果翻译给我们\n",
    "        -Python读音问题\n",
    "        -Python简史\n",
    "            -1989年\n",
    "            -2008年：Python3.0诞生\n",
    "            -2017年：AI元年，Python崛起\n",
    "        -Python特点\n",
    "            -速度问题\n",
    "            -python跟其他语言的选择问题\n",
    "        -Python的应用领域\n",
    "            -全能\n",
    "            -设计哲学：平衡发展，样样通，简洁明了\n",
    "            \n",
    "            l=list\n",
    "            for i in range(len(l)):\n",
    "                 print(l(i))\n",
    "                 \n",
    "        -Python为什么这么火\n",
    "            -会不会持续火\n",
    "        -环境问题\n",
    "            -anaconda+pycharm\n",
    "            -python3.6\n",
    "        -环境\n",
    "            -学习环境\n",
    "                -直播课：网易云课堂\n",
    "                -讲义+代码：github\n",
    "                -教科书：gitbook\n",
    "            -工作环境\n",
    "                -环境安装：\n",
    "                    -gitbook上有\n",
    "                    -http://www.cnblogs.com/zhouzhishuai/p/8401103.html\n",
    "           \n",
    "            -操作系统\n",
    "                -windows\n",
    "                -Linux\n",
    "                -Macox\n",
    "                -我们的标准系统：windows下开虚拟机，虚拟机安装ubuntu\n",
    "            -软件环境：\n",
    "                -不使用Python解释器\n",
    "                -使用anaconda3+pycharm代替\n",
    "                -具体环境对各位讲师不做要求\n",
    "        -Python的执行方式\n",
    "            -本质上Python是一堆命令的集合\n",
    "            -执行过程是逐行执行，遇到问题即刻终止\n",
    "            -打印hello world\n",
    "        \n",
    "        "
   ]
  },
  {
   "cell_type": "code",
   "execution_count": 2,
   "metadata": {},
   "outputs": [
    {
     "name": "stdout",
     "output_type": "stream",
     "text": [
      "hello world\n",
      "图灵学院\n",
      "I love lzy\n"
     ]
    }
   ],
   "source": [
    "print(\"hello world\")\n",
    "print(\"图灵学院\")\n",
    "print(\"I love lzy\")"
   ]
  },
  {
   "cell_type": "code",
   "execution_count": null,
   "metadata": {
    "collapsed": true
   },
   "outputs": [],
   "source": []
  }
 ],
 "metadata": {
  "kernelspec": {
   "display_name": "Python 3",
   "language": "python",
   "name": "python3"
  },
  "language_info": {
   "codemirror_mode": {
    "name": "ipython",
    "version": 3
   },
   "file_extension": ".py",
   "mimetype": "text/x-python",
   "name": "python",
   "nbconvert_exporter": "python",
   "pygments_lexer": "ipython3",
   "version": "3.6.3"
  }
 },
 "nbformat": 4,
 "nbformat_minor": 2
}
