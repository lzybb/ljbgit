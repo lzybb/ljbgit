{
 "cells": [
  {
   "cell_type": "code",
   "execution_count": 34,
   "metadata": {},
   "outputs": [
    {
     "name": "stdout",
     "output_type": "stream",
     "text": [
      "* * * * *\n",
      "* * * * *\n",
      "* * * * *\n",
      "* * * * *\n"
     ]
    }
   ],
   "source": [
    "# 简单图形打印\n",
    "\n",
    "'''\n",
    "打印以下图形在输出上面\n",
    "* * * * *\n",
    "* * * * *\n",
    "* * * * *\n",
    "* * * * *\n",
    "'''\n",
    "\n",
    "print(\"* * * * *\")\n",
    "print(\"* * * * *\")\n",
    "print(\"* * * * *\")\n",
    "print(\"* * * * *\")\n",
    "\n"
   ]
  },
  {
   "cell_type": "code",
   "execution_count": 9,
   "metadata": {},
   "outputs": [
    {
     "name": "stdout",
     "output_type": "stream",
     "text": [
      "* * * * * \n",
      "* * * * * \n",
      "* * * * * \n",
      "* * * * * \n",
      "ok\n"
     ]
    }
   ],
   "source": [
    "# 利用for更改上面的代码\n",
    "\n",
    "for (_) in range(1,5):\n",
    "    print(\"* \"*5)\n",
    "\n",
    "\n",
    "print(\"ok\")"
   ]
  },
  {
   "cell_type": "code",
   "execution_count": 15,
   "metadata": {},
   "outputs": [
    {
     "name": "stdout",
     "output_type": "stream",
     "text": [
      "* * * * * \n",
      "* * * * * \n",
      "* * * * * \n",
      "* * * * * \n",
      "* * * * * \n"
     ]
    }
   ],
   "source": [
    "# 利用双层for更改上面的代码\n",
    "\n",
    "for (_) in range(5): #range(5)==range(0,5)\n",
    "    #利用for循环打印一行星号\n",
    "    for (_) in range(0,5):\n",
    "        # print默认自动换行\n",
    "        # 可以通过end参数控制\n",
    "        print(\"* \", end=\"\")\n",
    "    print()  \n",
    "    \n",
    "   \n"
   ]
  },
  {
   "cell_type": "code",
   "execution_count": 42,
   "metadata": {},
   "outputs": [
    {
     "name": "stdout",
     "output_type": "stream",
     "text": [
      "* * * * * \n",
      "*       *\n",
      "*       *\n",
      "*       *\n",
      "* * * * * \n"
     ]
    }
   ],
   "source": [
    "# 简单图形打印\n",
    "\n",
    "'''\n",
    "打印以下图形在输出上面\n",
    "* * * * *\n",
    "*       *\n",
    "*       *\n",
    "* * * * *\n",
    "'''\n",
    "\"\"\"\n",
    "思路：\n",
    "1. 正常利用for循环控制打印行\n",
    "2. 如果是第一行和最后一行，则完整打印\n",
    "3. 否则，判断打印列，如果是第一列或者最后一列，则打印星号，否则打印空格\n",
    "\"\"\"\n",
    "# 外层循环控制行\n",
    "for i in range(4):\n",
    "    if i == 0:\n",
    "        print(\"* \"*5)\n",
    "    if i == 3:\n",
    "        print(\"* \"*5)\n",
    "    else:\n",
    "        print(\"*       *\")"
   ]
  },
  {
   "cell_type": "code",
   "execution_count": 43,
   "metadata": {},
   "outputs": [
    {
     "name": "stdout",
     "output_type": "stream",
     "text": [
      "* * * * * \n",
      "*       *\n",
      "*       *\n",
      "* * * * * \n"
     ]
    }
   ],
   "source": [
    "# 更改上面写法\n",
    "for i in range(4):\n",
    "    if i == 0 or i == 3:\n",
    "        print(\"* \"*5)\n",
    "    else:\n",
    "        print(\"*       *\")"
   ]
  },
  {
   "cell_type": "code",
   "execution_count": 52,
   "metadata": {},
   "outputs": [
    {
     "name": "stdout",
     "output_type": "stream",
     "text": [
      "* * * * * \n",
      "*       * \n",
      "*       * \n",
      "* * * * * \n"
     ]
    }
   ],
   "source": [
    "# 自己写的\n",
    "for i in range(4):\n",
    "    if 0<i<3:\n",
    "        for j in range(5):\n",
    "            if 0<j<4:\n",
    "                print(\"  \",end=\"\")\n",
    "            else:\n",
    "                print(\"* \",end=\"\")\n",
    "        print()        \n",
    "    \n",
    "    else:\n",
    "        for j in range(5):\n",
    "            print(\"* \",end=\"\")\n",
    "        print()  "
   ]
  },
  {
   "cell_type": "code",
   "execution_count": 55,
   "metadata": {},
   "outputs": [
    {
     "name": "stdout",
     "output_type": "stream",
     "text": [
      "* * * * * \n",
      "*       * \n",
      "*       * \n",
      "* * * * * \n"
     ]
    }
   ],
   "source": [
    "# 更改上面写法\n",
    "for i in range(4):\n",
    "    if i == 0 or i == 3:\n",
    "        print(\"* \"*5)\n",
    "    else:\n",
    "        for j in range(5):\n",
    "            if 0<j<4:\n",
    "                print(\"  \",end=\"\")\n",
    "            else:\n",
    "                print(\"* \",end=\"\")\n",
    "        print()   \n",
    "    "
   ]
  },
  {
   "cell_type": "code",
   "execution_count": 56,
   "metadata": {
    "collapsed": true
   },
   "outputs": [],
   "source": [
    "# for\n",
    "# 逐次按行打印，这事基本是一样或者相似的，优先考虑循环"
   ]
  },
  {
   "cell_type": "code",
   "execution_count": 60,
   "metadata": {},
   "outputs": [
    {
     "name": "stdout",
     "output_type": "stream",
     "text": [
      "* \n",
      "* * \n",
      "* * * \n",
      "* * * * \n",
      "* * * * * \n"
     ]
    }
   ],
   "source": [
    "# 自编程序1\n",
    "for i in range(1,6):\n",
    "    print(\"* \"*i)"
   ]
  },
  {
   "cell_type": "code",
   "execution_count": 61,
   "metadata": {},
   "outputs": [
    {
     "name": "stdout",
     "output_type": "stream",
     "text": [
      "* \n",
      "* * \n",
      "* * * \n",
      "* * * * \n",
      "* * * * * \n"
     ]
    }
   ],
   "source": [
    "\n",
    "# 自编程序2\n",
    "j = 1\n",
    "for i in range(5):\n",
    "    print(\"* \"*j)\n",
    "    j+=1"
   ]
  },
  {
   "cell_type": "code",
   "execution_count": 63,
   "metadata": {},
   "outputs": [
    {
     "name": "stdout",
     "output_type": "stream",
     "text": [
      "* \n",
      "* * \n",
      "* * * \n",
      "* * * * \n",
      "* * * * * \n"
     ]
    }
   ],
   "source": [
    "for i in range(5):\n",
    "    for j in range(i+1):\n",
    "        print(\"* \",end=\"\")\n",
    "    print()"
   ]
  },
  {
   "cell_type": "code",
   "execution_count": 67,
   "metadata": {},
   "outputs": [
    {
     "name": "stdout",
     "output_type": "stream",
     "text": [
      "* \n",
      "* * \n",
      "*   * \n",
      "*     * \n",
      "* * * * * \n"
     ]
    }
   ],
   "source": [
    "\"\"\"\n",
    "#打印空心三角形\n",
    "*\n",
    "* *\n",
    "*   *\n",
    "*     *\n",
    "* * * * *\n",
    "\n",
    "\"\"\"\n",
    "\n",
    "# 自编程序1\n",
    "for i in range(5):\n",
    "    if 0<i<4:\n",
    "        for j in range(i+1):\n",
    "            if 0<j<i:\n",
    "                print(\"  \",end=\"\")\n",
    "                \n",
    "            else:\n",
    "                print(\"* \",end=\"\")\n",
    "        print()                \n",
    "    else:\n",
    "        for j in range(i+1):\n",
    "            print(\"* \",end=\"\")\n",
    "        print()"
   ]
  },
  {
   "cell_type": "code",
   "execution_count": 73,
   "metadata": {},
   "outputs": [
    {
     "name": "stdout",
     "output_type": "stream",
     "text": [
      "* \n",
      "* * \n",
      "*   * \n",
      "*     * \n",
      "* * * * * \n"
     ]
    }
   ],
   "source": [
    "# 自编程序2\n",
    "for i in range(5):\n",
    "    if 1<i<4:\n",
    "        for j in range(i+1):\n",
    "            if 0<j<i:\n",
    "                print(\"  \",end=\"\")\n",
    "            else:\n",
    "                print(\"* \",end=\"\")\n",
    "        print()\n",
    "        \n",
    "    else:\n",
    "        print(\"* \"*(i+1))"
   ]
  },
  {
   "cell_type": "code",
   "execution_count": 75,
   "metadata": {},
   "outputs": [
    {
     "name": "stdout",
     "output_type": "stream",
     "text": [
      "* * * * * \n",
      "* * * * \n",
      "* * * \n",
      "* * \n",
      "* \n"
     ]
    }
   ],
   "source": [
    "# 打印倒三角\n",
    "\"\"\"\n",
    "* * * * *\n",
    "* * * *\n",
    "* * *\n",
    "* *\n",
    "*\n",
    "\"\"\"\n",
    "\n",
    "# 自编程序1\n",
    "for i in range(5):\n",
    "    for j in range(5-i):\n",
    "        print(\"* \",end=\"\")\n",
    "    print()\n"
   ]
  },
  {
   "cell_type": "code",
   "execution_count": 77,
   "metadata": {},
   "outputs": [
    {
     "name": "stdout",
     "output_type": "stream",
     "text": [
      "* * * * * \n",
      "*     * \n",
      "*   * \n",
      "* * \n",
      "* \n"
     ]
    }
   ],
   "source": [
    "# 打印空心倒三角\n",
    "\"\"\"\n",
    "* * * * *\n",
    "*     *\n",
    "*   *\n",
    "* *\n",
    "*\n",
    "\"\"\"\n",
    "\n",
    "\n",
    "# 自编程序1\n",
    "for i in range(5):\n",
    "    if 0<i<4:\n",
    "        for j in range(5-i):\n",
    "            if 0<j<(4-i) :\n",
    "                print(\"  \",end=\"\")\n",
    "            else:\n",
    "                print(\"* \",end=\"\")\n",
    "        print()\n",
    "    else:\n",
    "        for j in range(5-i):\n",
    "            print(\"* \",end=\"\")\n",
    "        print()"
   ]
  },
  {
   "cell_type": "code",
   "execution_count": 5,
   "metadata": {
    "scrolled": true
   },
   "outputs": [
    {
     "name": "stdout",
     "output_type": "stream",
     "text": [
      "    *     \n",
      "   * *    \n",
      "  * * *   \n",
      " * * * *  \n",
      "* * * * * \n"
     ]
    }
   ],
   "source": [
    "# 打印三角形，正三角形\n",
    "\"\"\"\n",
    "    *\n",
    "   * *\n",
    "  * * *\n",
    " * * * *\n",
    "* * * * *\n",
    "\n",
    "\"\"\"\n",
    "\n",
    "# 自编程序1\n",
    "# i为行，j为列\n",
    "\n",
    "for i in range(5):\n",
    "    for j in range(5*2):\n",
    "        if (3-i)<j<(6+i) and (j+i)%2==0 : # 规定范围，余数数控制间隔\n",
    "            print(\"*\",end=\"\")\n",
    "        else:\n",
    "            print(\" \",end=\"\")\n",
    "    print()\n",
    "\n"
   ]
  },
  {
   "cell_type": "code",
   "execution_count": 9,
   "metadata": {},
   "outputs": [
    {
     "name": "stdout",
     "output_type": "stream",
     "text": [
      "    *     \n",
      "   * *    \n",
      "  *   *   \n",
      " *     *  \n",
      "* * * * * \n"
     ]
    }
   ],
   "source": [
    "# 打印三角形，正空心三角形\n",
    "\"\"\"\n",
    "    *\n",
    "   * *\n",
    "  *   *\n",
    " *     *\n",
    "* * * * *\n",
    "\n",
    "\"\"\"\n",
    "\n",
    "# 自编程序\n",
    "# i,j 规定行列\n",
    "\n",
    "for i in range(5):\n",
    "    if 1<i<4 :\n",
    "        for j in range(5*2):\n",
    "            if (j == 4-i ) or (j ==4+i ) :\n",
    "                print(\"*\",end=\"\")\n",
    "            else:\n",
    "                print(\" \",end=\"\")\n",
    "        print()\n",
    "        \n",
    "    else:\n",
    "        for j in range(5*2):\n",
    "            if (3-i)<j<(6+i) and (j+i)%2==0 : \n",
    "                print(\"*\",end=\"\")\n",
    "            else:\n",
    "                print(\" \",end=\"\")\n",
    "        print()\n",
    "\n",
    "\n"
   ]
  },
  {
   "cell_type": "code",
   "execution_count": 11,
   "metadata": {},
   "outputs": [
    {
     "name": "stdout",
     "output_type": "stream",
     "text": [
      "* * * * * \n",
      " * * * *  \n",
      "  * * *   \n",
      "   * *    \n",
      "    *     \n"
     ]
    }
   ],
   "source": [
    "# 打印三角形，倒正三角形\n",
    "\"\"\"\n",
    "* * * * *\n",
    " * * * *\n",
    "  * * *\n",
    "   * *\n",
    "    *\n",
    "\"\"\"\n",
    "\n",
    "# 自编程序\n",
    "# i,j规定行列\n",
    "\n",
    "for i in range(5):\n",
    "    for j in range(5*2):\n",
    "        if (i-1)<j<(10-i) and (j+i)%2==0 :\n",
    "            print(\"*\",end=\"\")\n",
    "            \n",
    "        else:\n",
    "            print(\" \",end=\"\")\n",
    "    print()\n"
   ]
  },
  {
   "cell_type": "code",
   "execution_count": 15,
   "metadata": {},
   "outputs": [
    {
     "name": "stdout",
     "output_type": "stream",
     "text": [
      "* * * * * \n",
      " *     *  \n",
      "  *   *   \n",
      "   * *    \n",
      "    *     \n"
     ]
    }
   ],
   "source": [
    "# 打印三角形，倒正空心三角形\n",
    "\"\"\"\n",
    "* * * * *\n",
    " *     *\n",
    "  *   *\n",
    "   * *\n",
    "    *\n",
    "\"\"\"\n",
    "\n",
    "# 自编程序\n",
    "# i,j控制行列\n",
    "\n",
    "for i in range(5):\n",
    "    if 0<i<4 :\n",
    "        for j in range(5*2):\n",
    "            if  (j==i) or (j==8-i) :\n",
    "                print(\"*\",end=\"\")\n",
    "            else:\n",
    "                print(\" \",end=\"\")\n",
    "        print()\n",
    "    else:\n",
    "        for j in range(5*2):\n",
    "            if  (i-1) <j<(10-i) and (i+j)%2==0 :\n",
    "                print(\"*\",end=\"\")\n",
    "            else   :\n",
    "                print(\" \",end=\"\")\n",
    "        print()"
   ]
  },
  {
   "cell_type": "code",
   "execution_count": 16,
   "metadata": {},
   "outputs": [
    {
     "name": "stdout",
     "output_type": "stream",
     "text": [
      "     * \n",
      "    * * \n",
      "   * * * \n",
      "  * * * * \n",
      " * * * * * \n"
     ]
    }
   ],
   "source": [
    "# 正三角指导程序\n",
    "# i控制行\n",
    "# j控制“ ”列\n",
    "# m控制 * 列\n",
    "\n",
    "\n",
    "for i in range(5):\n",
    "    for j in range(5-i):\n",
    "        print(\" \",end=\"\")\n",
    "    for m in range(i+1):\n",
    "        print(\"* \",end=\"\")\n",
    "    print()\n",
    "    "
   ]
  },
  {
   "cell_type": "code",
   "execution_count": 18,
   "metadata": {},
   "outputs": [
    {
     "name": "stdout",
     "output_type": "stream",
     "text": [
      "     * \n",
      "    * * \n",
      "   *   * \n",
      "  *     * \n",
      " * * * * * \n"
     ]
    }
   ],
   "source": [
    "\n",
    "for i in range(5):\n",
    "    for j in range(5-i):\n",
    "        print(\" \",end=\"\")\n",
    "    if 0<i<4 :\n",
    "        for m in range(i+1):\n",
    "            if m==0 or m==i :\n",
    "                print(\"* \",end=\"\")\n",
    "            else:\n",
    "                print(\"  \",end=\"\")\n",
    "    else:\n",
    "        for m in range(i+1):\n",
    "            print(\"* \",end=\"\")\n",
    "    print()"
   ]
  },
  {
   "cell_type": "code",
   "execution_count": 21,
   "metadata": {},
   "outputs": [
    {
     "name": "stdout",
     "output_type": "stream",
     "text": [
      "0 1 2 3 4 \n",
      "0 1 2 3 4 \n",
      "0 1 2 3 4 \n",
      "0 2 4 \n"
     ]
    }
   ],
   "source": [
    "# range() 函数说明\n",
    "\n",
    "# range()\n",
    "for i in range(0,5):\n",
    "    print(i,end=\" \")\n",
    "print()\n",
    "\n",
    "# range() 默认从0 开始\n",
    "for i in range(0,5):\n",
    "    print(i,end=\" \")\n",
    "print()\n",
    "\n",
    "# range() 默认递增+1\n",
    "for i in range(0,5,1):\n",
    "    print(i,end=\" \")\n",
    "print()\n",
    "\n",
    "# range()\n",
    "for i in range(0,5,2):\n",
    "    print(i,end=\" \")\n",
    "print()\n",
    "\n",
    "    "
   ]
  }
 ],
 "metadata": {
  "kernelspec": {
   "display_name": "Python 3",
   "language": "python",
   "name": "python3"
  },
  "language_info": {
   "codemirror_mode": {
    "name": "ipython",
    "version": 3
   },
   "file_extension": ".py",
   "mimetype": "text/x-python",
   "name": "python",
   "nbconvert_exporter": "python",
   "pygments_lexer": "ipython3",
   "version": "3.6.3"
  }
 },
 "nbformat": 4,
 "nbformat_minor": 2
}
