{
 "cells": [
  {
   "cell_type": "markdown",
   "metadata": {},
   "source": [
    "# 递归函数-习题练习"
   ]
  },
  {
   "cell_type": "code",
   "execution_count": 7,
   "metadata": {},
   "outputs": [
    {
     "name": "stdout",
     "output_type": "stream",
     "text": [
      "*5\n",
      "*4\n",
      "*3\n",
      "*2\n",
      "*1\n",
      "*0\n",
      "********************\n",
      "0\n",
      "1\n",
      "2\n",
      "3\n",
      "4\n",
      "5\n"
     ]
    }
   ],
   "source": [
    "# 注意程序运行的顺序和规则\n",
    "\n",
    "def dg(num):      # 逐行运行，起始为dg(5)\n",
    "    print('*'+str(num)) # str() 将参数 字符串 化\n",
    "    if num >0:\n",
    "        dg(num-1) # 运行到这，返回运行dg(4) 注意dg(5)没运行完，需要等dg(4)运行完才继续\n",
    "                  # 后续类推，一直到0(<0)了，跳过此行运行下面\n",
    "                  # dg(0)运行完，继续运行没结束的dg(1)，后续类推\n",
    "                \n",
    "    else:\n",
    "        print('*'*20)\n",
    "    print(num)\n",
    "\n",
    "dg(5)"
   ]
  },
  {
   "cell_type": "code",
   "execution_count": 2,
   "metadata": {},
   "outputs": [
    {
     "name": "stdout",
     "output_type": "stream",
     "text": [
      "A --> C\n",
      "A --> B\n",
      "C --> B\n",
      "A --> C\n",
      "B --> A\n",
      "B --> C\n",
      "A --> C\n"
     ]
    }
   ],
   "source": [
    "# 汉若塔\n",
    "def hrt(n,a,b,c):\n",
    "\n",
    "    if n == 1:\n",
    "        print(a, '-->', c)\n",
    "    else:\n",
    "        hrt((n-1), a, c, b)\n",
    "        print(a, '-->', c)    \n",
    "        hrt((n-1), b, a, c)\n",
    "        \n",
    "a = 'A'\n",
    "b = 'B'\n",
    "c = 'C'\n",
    "n = 3\n",
    "        \n",
    "hrt(n,a,b,c)"
   ]
  },
  {
   "cell_type": "code",
   "execution_count": 3,
   "metadata": {},
   "outputs": [
    {
     "name": "stdout",
     "output_type": "stream",
     "text": [
      "A --> B\n",
      "A --> C\n",
      "B --> C\n"
     ]
    }
   ],
   "source": [
    "a = 'A'\n",
    "b = 'B'\n",
    "c = 'C'\n",
    "n = 2\n",
    "hrt(n,a,b,c)"
   ]
  },
  {
   "cell_type": "code",
   "execution_count": null,
   "metadata": {},
   "outputs": [
    {
     "name": "stdout",
     "output_type": "stream",
     "text": [
      "7143\n"
     ]
    }
   ],
   "source": [
    "# 查看文件大小\n",
    "import os\n",
    "def getdirpath(dirpath):\n",
    "    total = 0   # 初始值为0\n",
    "    # 获取文件夹内子文件，并将子文件列表\n",
    "    allname = os.listdir(dirpath)\n",
    "    # 文件夹内子文件遍历\n",
    "    for name in allname:\n",
    "        fullpath = os.path.join(dirpath, name) # 获取单个子文件本身\n",
    "        if os.path.isfile(fullpath):           # 判定子文件是否是文件\n",
    "            total += os.path.getsize(fullpath) # 获取该文件的大小，并累加\n",
    "        elif os.path.isdir(fullpath):          # 判断文件是否是文件夹\n",
    "            total += getdirpath(fullpath)      # 是文件夹直接调用函数本身来获取大小，并累加\n",
    "    return total                               # 返回最终的大小\n",
    "\n",
    "dr = 'E:/xx/PycharmProjects/jupyter'\n",
    "size = getdirpath(dr)\n",
    "print(size)\n",
    "        "
   ]
  },
  {
   "cell_type": "code",
   "execution_count": null,
   "metadata": {},
   "outputs": [],
   "source": [
    "help(os)"
   ]
  }
 ],
 "metadata": {
  "kernelspec": {
   "display_name": "Python 3",
   "language": "python",
   "name": "python3"
  },
  "language_info": {
   "codemirror_mode": {
    "name": "ipython",
    "version": 3
   },
   "file_extension": ".py",
   "mimetype": "text/x-python",
   "name": "python",
   "nbconvert_exporter": "python",
   "pygments_lexer": "ipython3",
   "version": "3.7.1"
  }
 },
 "nbformat": 4,
 "nbformat_minor": 2
}
