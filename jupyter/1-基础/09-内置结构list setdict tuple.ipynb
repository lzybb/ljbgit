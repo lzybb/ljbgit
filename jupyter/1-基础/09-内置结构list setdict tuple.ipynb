{
 "cells": [
  {
   "cell_type": "code",
   "execution_count": 14,
   "metadata": {},
   "outputs": [
    {
     "name": "stdout",
     "output_type": "stream",
     "text": [
      "[1, 2, 3, 4, 5, 6]\n",
      "[1, 2, 300, 4, 5, 6]\n",
      "[1, 2, 300, 4, 5, 6]\n",
      "94419330415952\n",
      "139775686443912\n",
      "[1, 2, 300, 4, 5, 6]\n",
      "9\n",
      "109\n",
      "109\n",
      "94419330415952\n",
      "94419330706912\n",
      "9\n"
     ]
    }
   ],
   "source": [
    "# 传值和传地址的区别\n",
    "# 对于简单的数值，采用传值操作，即在函数内对参数的操作不影响外面的变量\n",
    "# 对于复杂变量，采用传地址操作，此时函数内的参数和外部变量是同一份内容\n",
    "# 任何地方对此内容的更改都影响另外的变量或参数的使用\n",
    "\n",
    "# 自我理解：函数掉用外部参数时：外部参数的id不会变，但id内的内容可以变\n",
    "def a(n):\n",
    "    n[2] = 300\n",
    "    print(n)\n",
    "    return None\n",
    "\n",
    "\n",
    "def b(n):\n",
    "    n += 100\n",
    "    print(n)\n",
    "    return None\n",
    "\n",
    "an = [1,2,3,4,5,6]\n",
    "bn = 9\n",
    "\n",
    "print(an)  # 自我理解：a()调用了参数bn，并明确对参数id地址内的内容做了改变；参数id不变\n",
    "a(an)\n",
    "print(id(a(an)))   # 调用函数并赋予参数时，系统会自动分配一个id给函数\n",
    "print(id(an))\n",
    "print(an)\n",
    "\n",
    "print(bn)  # 自我理解：b()调用了参数bn，产生的值为函数b()的值，参数bn的id地址不变内容不变\n",
    "b(bn)\n",
    "print(id(b(bn)))  # 调用函数并赋予参数时，系统会自动分配一个id给函数\n",
    "print(id(bn))\n",
    "print(bn)\n"
   ]
  },
  {
   "cell_type": "code",
   "execution_count": 15,
   "metadata": {},
   "outputs": [
    {
     "name": "stdout",
     "output_type": "stream",
     "text": [
      "[1, 2, 3]\n",
      "[1, 2, 3, 1, 2, 3]\n",
      "[1, 2, 3]\n"
     ]
    }
   ],
   "source": [
    "def c(n):\n",
    "    n = n*2\n",
    "    print(n)\n",
    "    return None\n",
    "cn = [1,2,3]\n",
    "\n",
    "print(cn)   \n",
    "c(cn)     # 调用c()函数并赋予cn参数，产生函数c()的新值(id)，参数cn值(id)不变\n",
    "print(cn)"
   ]
  },
  {
   "cell_type": "markdown",
   "metadata": {},
   "source": [
    "# 关于列表的函数"
   ]
  },
  {
   "cell_type": "code",
   "execution_count": 20,
   "metadata": {},
   "outputs": [
    {
     "name": "stdout",
     "output_type": "stream",
     "text": [
      "['a', 'i love lzy', 45, 565, (3+2j)]\n"
     ]
    }
   ],
   "source": [
    "l = ['a','i love lzy',45,565,(3+2j)]\n",
    "print(l)"
   ]
  },
  {
   "cell_type": "code",
   "execution_count": 71,
   "metadata": {},
   "outputs": [
    {
     "name": "stdout",
     "output_type": "stream",
     "text": [
      "[1, 2, 3, 4]\n",
      "[1, 2, 3, 4, 100]\n"
     ]
    }
   ],
   "source": [
    "# append 插入一个内容,在末尾追加\n",
    "a = [i for i in range(1,5)]\n",
    "print(a)\n",
    "a.append(100)\n",
    "print(a)"
   ]
  },
  {
   "cell_type": "code",
   "execution_count": 74,
   "metadata": {},
   "outputs": [
    {
     "name": "stdout",
     "output_type": "stream",
     "text": [
      "[1, 2, 4, 5, 6]\n",
      "[1, 5, 6]\n"
     ]
    }
   ],
   "source": [
    "b = [1,2,3,4,5,6]\n",
    "\n",
    "del b[2]\n",
    "\n",
    "print(b)\n",
    "\n",
    "del b[1:3]\n",
    "print(b)"
   ]
  },
  {
   "cell_type": "code",
   "execution_count": 68,
   "metadata": {},
   "outputs": [
    {
     "name": "stdout",
     "output_type": "stream",
     "text": [
      "[1, 2, 3, 4, 100]\n",
      "[1, 2, 3, 666, 4, 100]\n"
     ]
    }
   ],
   "source": [
    "# insert: 指定位置插入\n",
    "# insert(index,data)，插入位置是在index前面\n",
    "# insert每次运行都插入一次\n",
    "print(a)\n",
    "a.insert(3,666)\n",
    "print(a)"
   ]
  },
  {
   "cell_type": "code",
   "execution_count": 69,
   "metadata": {},
   "outputs": [
    {
     "name": "stdout",
     "output_type": "stream",
     "text": [
      "[1, 2, 3, 666, 4, 100]\n",
      "100\n",
      "[1, 2, 3, 666, 4]\n"
     ]
    }
   ],
   "source": [
    "# 删除\n",
    "# del 删除\n",
    "# pop，从对位拿出一个元素，即把最后一个元素拿出来\n",
    "# pop每次运行，都拿掉一个末尾元素\n",
    "print(a)\n",
    "last_ele = a.pop()\n",
    "print(last_ele)\n",
    "print(a)\n",
    "\n"
   ]
  },
  {
   "cell_type": "code",
   "execution_count": 88,
   "metadata": {},
   "outputs": [
    {
     "name": "stdout",
     "output_type": "stream",
     "text": [
      "[1, 2, 666, 3, 4, 5, 6]\n",
      "139775686393672\n",
      "94419330415952\n",
      "[1, 2, 3, 4, 5, 6]\n",
      "139775686393672\n"
     ]
    }
   ],
   "source": [
    "# remove: 在列表中删除指定的值的元素\n",
    "# 如果被删除的值没在list中，则报错\n",
    "# 即，删除list指定值的操作使用try....excepty语句，或者先行进行判断\n",
    "# if x in list：\n",
    "#    list.remove(x)\n",
    "a = [1,2,3,4,5,6]\n",
    "\n",
    "a.insert(2,666)\n",
    "print(a)\n",
    "print(id(a))\n",
    "print(id(a.remove(666)))\n",
    "print(a)\n",
    "print(id(a))\n",
    "\n",
    "# 输出两个id值一样，说明：remove操作是在原（id）list中直接操作"
   ]
  },
  {
   "cell_type": "code",
   "execution_count": 85,
   "metadata": {},
   "outputs": [
    {
     "name": "stdout",
     "output_type": "stream",
     "text": [
      "[1, 2, 3, 4, 5, 6]\n",
      "139775685635464\n",
      "None\n",
      "[]\n",
      "139775685635464\n"
     ]
    }
   ],
   "source": [
    "# clear:清空\n",
    "a = [1,2,3,4,5,6]\n",
    "\n",
    "print(a)\n",
    "print(id(a))\n",
    "a.clear()\n",
    "print(a.clear())\n",
    "print(a)\n",
    "print(id(a))\n",
    "\n",
    "# 如果不需要列表（id）地址保持不变，则清空列表可以使用以下方式\n",
    "# a = list()\n",
    "# a = []"
   ]
  },
  {
   "cell_type": "code",
   "execution_count": 84,
   "metadata": {},
   "outputs": [
    {
     "name": "stdout",
     "output_type": "stream",
     "text": [
      "[1, 2, 3, 4, 5]\n",
      "139775686417864\n",
      "None\n",
      "[1, 2, 3, 4, 5]\n",
      "139775686417864\n"
     ]
    }
   ],
   "source": [
    "# reverse: 翻转列表内容，原地翻转\n",
    "\n",
    "a = [1,2,3,4,5]\n",
    "print(a)\n",
    "print(id(a))\n",
    "\n",
    "a.reverse()\n",
    "print(a.reverse())\n",
    "print(a)\n",
    "print(id(a))"
   ]
  },
  {
   "cell_type": "code",
   "execution_count": 89,
   "metadata": {},
   "outputs": [
    {
     "name": "stdout",
     "output_type": "stream",
     "text": [
      "[1, 2, 3, 4, 5]\n",
      "139775685944328\n",
      "[1, 2, 3, 4, 5, 6, 7, 8, 9, 10]\n",
      "139775685944328\n"
     ]
    }
   ],
   "source": [
    "# extend:扩展列表，两个列表，把一个直接拼接到后一个上\n",
    "\n",
    "a = [1,2,3,4,5]\n",
    "b = [6,7,8,9,10]\n",
    "print(a)\n",
    "print(id(a))\n",
    "\n",
    "a.extend(b)\n",
    "print(a)\n",
    "print(id(a))\n"
   ]
  },
  {
   "cell_type": "code",
   "execution_count": 92,
   "metadata": {},
   "outputs": [
    {
     "name": "stdout",
     "output_type": "stream",
     "text": [
      "[1, 2, 3, 4, 3, 5, 6, 3]\n",
      "3\n"
     ]
    }
   ],
   "source": [
    "# count:查找列表中指定值或元素的个数\n",
    "a = [1,2,3,4,5,6]\n",
    "a.append(3)\n",
    "a.insert(4,3)\n",
    "print(a)\n",
    "a_len = a.count(3)\n",
    "print(a_len)"
   ]
  },
  {
   "cell_type": "code",
   "execution_count": 96,
   "metadata": {},
   "outputs": [
    {
     "name": "stdout",
     "output_type": "stream",
     "text": [
      "[1, 2, 3, 4, 5, 666]\n",
      "[1, 2, 3, 777, 5, 666]\n",
      "[1, 2, 3, 777, 5, 666]\n"
     ]
    }
   ],
   "source": [
    "# copy: 拷贝，此函数浅拷贝\n",
    "\n",
    "# 列表类型变量赋值示例\n",
    "a = [1,2,3,4,5,666]\n",
    "print(a)\n",
    "# list类型，简单赋值操作，是传地址\n",
    "b = a\n",
    "b[3] = 777\n",
    "print(a)\n",
    "print(b)"
   ]
  },
  {
   "cell_type": "code",
   "execution_count": 103,
   "metadata": {},
   "outputs": [
    {
     "name": "stdout",
     "output_type": "stream",
     "text": [
      "[1, 3, 4, 5, 6666]\n",
      "[1, 3, 4, 777, 6666]\n",
      "[1, 3, 4, 5, 6666]\n",
      "139775685867272\n",
      "139775685866952\n"
     ]
    }
   ],
   "source": [
    "# 为了解决上面问题，使用copy\n",
    "a = [1,3,4,5,6666]\n",
    "print(a)\n",
    "\n",
    "b = a.copy()\n",
    "b[3] = 777\n",
    "print(b)\n",
    "print(a)\n",
    "print(id(b))\n",
    "print(id(a))\n"
   ]
  },
  {
   "cell_type": "code",
   "execution_count": 104,
   "metadata": {},
   "outputs": [
    {
     "name": "stdout",
     "output_type": "stream",
     "text": [
      "139775685715080\n",
      "139775685898120\n",
      "139775686446536\n",
      "139775686446536\n",
      "[1, 2, 3, [10, 20, 666]]\n",
      "[1, 2, 3, [10, 20, 666]]\n"
     ]
    }
   ],
   "source": [
    "# 深拷贝跟浅拷贝的区别\n",
    "# 出现下列问题的原因是：copy函数是个浅拷贝，只拷贝一层内容\n",
    "# 深拷贝需要使用特定工具\n",
    "a = [1,2,3,[10,20,30]]\n",
    "b = a.copy()\n",
    "print(id(a))\n",
    "print(id(b))\n",
    "print(id(a[3]))\n",
    "print(id(b[3]))\n",
    "a[3][2] = 666\n",
    "print(a)\n",
    "print(b)"
   ]
  },
  {
   "cell_type": "markdown",
   "metadata": {},
   "source": [
    "# 元组-tuple\n",
    "- 元组可以看成是一个不可更改的list\n",
    "## 元组的创建"
   ]
  },
  {
   "cell_type": "code",
   "execution_count": 113,
   "metadata": {},
   "outputs": [
    {
     "name": "stdout",
     "output_type": "stream",
     "text": [
      "<class 'tuple'>\n",
      "******************************\n",
      "<class 'int'>\n",
      "1\n",
      "******************************\n",
      "<class 'tuple'>\n",
      "(1,)\n",
      "******************************\n",
      "<class 'tuple'>\n",
      "(1,)\n",
      "******************************\n",
      "<class 'tuple'>\n",
      "(1, 2, 3, 4, 5)\n",
      "******************************\n",
      "<class 'tuple'>\n",
      "(1, 2, 3, 4)\n",
      "******************************\n"
     ]
    }
   ],
   "source": [
    "# 创建空元组\n",
    "t = ()\n",
    "print(type(t))\n",
    "print('*'*30)\n",
    "# 创建一个只有一个值的元组\n",
    "t = (1)   # 没有（，）则被认为是数值整数\n",
    "print(type(t))\n",
    "print(t)\n",
    "print('*'*30)\n",
    "\n",
    "t = (1,)\n",
    "print(type(t))\n",
    "print(t)\n",
    "print('*'*30)\n",
    "\n",
    "t = 1,\n",
    "print(type(t))\n",
    "print(t)\n",
    "print('*'*30)\n",
    "\n",
    "# 创建多个值的元组\n",
    "t = (1,2,3,4,5)\n",
    "print(type(t))\n",
    "print(t)\n",
    "print('*'*30)\n",
    "\n",
    "# 使用其他结构创建\n",
    "l = [1,2,3,4]\n",
    "t = tuple(l)\n",
    "print(type(t))\n",
    "print(t)\n",
    "print('*'*30)\n"
   ]
  },
  {
   "cell_type": "markdown",
   "metadata": {},
   "source": [
    "## 元组的特性\n",
    "- 是序列表，有序列\n",
    "- 元组数据值可以访问，但不能更改，不能更改，不能更改\n",
    "- 元组数据可以是任意类型\n",
    "- 总之，list所有特性，除了可以更改外，元组都具有\n",
    "- 也就意味着：list具有的一些操作，比如索引，分片序列相加，相乘，成员资格操作等，一模一样"
   ]
  },
  {
   "cell_type": "code",
   "execution_count": 114,
   "metadata": {},
   "outputs": [
    {
     "name": "stdout",
     "output_type": "stream",
     "text": [
      "5\n"
     ]
    }
   ],
   "source": [
    "# 索引操作\n",
    "t = (1,2,3,4,5)\n",
    "print(t[4])"
   ]
  },
  {
   "cell_type": "code",
   "execution_count": 115,
   "metadata": {},
   "outputs": [
    {
     "ename": "IndexError",
     "evalue": "tuple index out of range",
     "output_type": "error",
     "traceback": [
      "\u001b[0;31m-----------------------------------------------------------------------\u001b[0m",
      "\u001b[0;31mIndexError\u001b[0m                            Traceback (most recent call last)",
      "\u001b[0;32m<ipython-input-115-db1be8928fa7>\u001b[0m in \u001b[0;36m<module>\u001b[0;34m()\u001b[0m\n\u001b[1;32m      1\u001b[0m \u001b[0;31m# 超标错误\u001b[0m\u001b[0;34m\u001b[0m\u001b[0;34m\u001b[0m\u001b[0m\n\u001b[1;32m      2\u001b[0m \u001b[0mt\u001b[0m \u001b[0;34m=\u001b[0m \u001b[0;34m(\u001b[0m\u001b[0;36m1\u001b[0m\u001b[0;34m,\u001b[0m\u001b[0;36m2\u001b[0m\u001b[0;34m,\u001b[0m\u001b[0;36m34\u001b[0m\u001b[0;34m,\u001b[0m\u001b[0;36m5\u001b[0m\u001b[0;34m)\u001b[0m\u001b[0;34m\u001b[0m\u001b[0m\n\u001b[0;32m----> 3\u001b[0;31m \u001b[0mprint\u001b[0m\u001b[0;34m(\u001b[0m\u001b[0mt\u001b[0m\u001b[0;34m[\u001b[0m\u001b[0;36m12\u001b[0m\u001b[0;34m]\u001b[0m\u001b[0;34m)\u001b[0m\u001b[0;34m\u001b[0m\u001b[0m\n\u001b[0m",
      "\u001b[0;31mIndexError\u001b[0m: tuple index out of range"
     ]
    }
   ],
   "source": [
    "# 超标错误\n",
    "t = (1,2,34,5)\n",
    "print(t[12])"
   ]
  },
  {
   "cell_type": "code",
   "execution_count": 122,
   "metadata": {},
   "outputs": [
    {
     "name": "stdout",
     "output_type": "stream",
     "text": [
      "(2, 3)\n",
      "139775722063872\n",
      "139775686754824\n",
      "******************************\n",
      "(2, 5)\n",
      "(2, 4, 6)\n",
      "******************************\n",
      "(3, 4, 5, 6, 7)\n"
     ]
    }
   ],
   "source": [
    "# 切片\n",
    "t = (1,2,3,4,5,6,7)\n",
    "t1 = t[1:3]\n",
    "print(t1)\n",
    "print(id(t))\n",
    "print(id(t1))\n",
    "\n",
    "\n",
    "print('*'*30)\n",
    "t2 = t[1::3]\n",
    "t3 = t[1:6:2]\n",
    "print(t2)\n",
    "print(t3)\n",
    "\n",
    "# 切片可以超标\n",
    "print('*'*30)\n",
    "m = t[2:100]\n",
    "print(m)\n"
   ]
  },
  {
   "cell_type": "code",
   "execution_count": 126,
   "metadata": {},
   "outputs": [
    {
     "name": "stdout",
     "output_type": "stream",
     "text": [
      "139775685607072\n",
      "(1, 2, 3, 5, 6, 7)\n",
      "139775687153416\n"
     ]
    },
    {
     "ename": "TypeError",
     "evalue": "'tuple' object does not support item assignment",
     "output_type": "error",
     "traceback": [
      "\u001b[0;31m-----------------------------------------------------------------------\u001b[0m",
      "\u001b[0;31mTypeError\u001b[0m                             Traceback (most recent call last)",
      "\u001b[0;32m<ipython-input-126-20fe3b9aa576>\u001b[0m in \u001b[0;36m<module>\u001b[0;34m()\u001b[0m\n\u001b[1;32m     15\u001b[0m \u001b[0;31m# tuple 的不可修改，指的是id内的内容不可修改\u001b[0m\u001b[0;34m\u001b[0m\u001b[0;34m\u001b[0m\u001b[0m\n\u001b[1;32m     16\u001b[0m \u001b[0;31m# 修改tuple id内的内容会导致报错\u001b[0m\u001b[0;34m\u001b[0m\u001b[0;34m\u001b[0m\u001b[0m\n\u001b[0;32m---> 17\u001b[0;31m \u001b[0mt1\u001b[0m\u001b[0;34m[\u001b[0m\u001b[0;36m1\u001b[0m\u001b[0;34m]\u001b[0m \u001b[0;34m=\u001b[0m \u001b[0;36m100\u001b[0m\u001b[0;34m\u001b[0m\u001b[0m\n\u001b[0m",
      "\u001b[0;31mTypeError\u001b[0m: 'tuple' object does not support item assignment"
     ]
    }
   ],
   "source": [
    "# 序列相加\n",
    "t1 = (1,2,3)\n",
    "t2 = (5,6,7)\n",
    "print(id(t1))\n",
    "\n",
    "# 传址操作\n",
    "t1 +=t2  \n",
    "print(t1)\n",
    "print(id(t1))\n",
    "\n",
    "# 以上操作，类似于\n",
    "t1 = (1,2,3)\n",
    "t1 = (2,2,3)\n",
    "\n",
    "# tuple 的不可修改，指的是id内的内容不可修改\n",
    "# 修改tuple id内的内容会导致报错\n",
    "t1[1] = 100"
   ]
  },
  {
   "cell_type": "code",
   "execution_count": 128,
   "metadata": {},
   "outputs": [
    {
     "name": "stdout",
     "output_type": "stream",
     "text": [
      "(1, 2, 3, 1, 2, 3, 1, 2, 3)\n"
     ]
    }
   ],
   "source": [
    "# 元组相乘\n",
    "t = (1,2,3)\n",
    "t = t * 3\n",
    "print(t)"
   ]
  },
  {
   "cell_type": "code",
   "execution_count": 129,
   "metadata": {},
   "outputs": [
    {
     "name": "stdout",
     "output_type": "stream",
     "text": [
      "yes\n"
     ]
    }
   ],
   "source": [
    "# 成员检测\n",
    "t = (1,2,3)\n",
    "if 2 in t:\n",
    "    print('yes')\n",
    "else:\n",
    "    print('no')"
   ]
  },
  {
   "cell_type": "code",
   "execution_count": 132,
   "metadata": {},
   "outputs": [
    {
     "name": "stdout",
     "output_type": "stream",
     "text": [
      "1 2 3 i love lzy \n"
     ]
    }
   ],
   "source": [
    "# 元组的遍历，一般采用for\n",
    "# 1. 单层元组遍历\n",
    "t = (1,2,3,'i','love lzy')\n",
    "for i in t:\n",
    "    print(i,end=' ')\n",
    "print()"
   ]
  },
  {
   "cell_type": "code",
   "execution_count": 137,
   "metadata": {},
   "outputs": [
    {
     "name": "stdout",
     "output_type": "stream",
     "text": [
      "(1, 2, 3)\n",
      "(3, 4, 5)\n",
      "('i', 'love ', 'lzy')\n",
      "******************************\n",
      "1 -- 2 -- 3\n",
      "3 -- 4 -- 5\n",
      "i -- love  -- lzy\n"
     ]
    }
   ],
   "source": [
    "# 2. 双层元组的遍历\n",
    "#t = ((1,2,3),(3,4,5),('i','love ','lzy'),'zj' )\n",
    "t = ((1,2,3),(3,4,5),('i','love ','lzy') )  \n",
    "\n",
    "# 对以上元组的遍历，可以如下\n",
    "# 1.\n",
    "for i in t:\n",
    "    print(i)\n",
    "print('*'*30)\n",
    "\n",
    "for i,j,k in t:   # 参数个数需要与单元内的个数一致\n",
    "    print(i, '--', j, '--', k)"
   ]
  },
  {
   "cell_type": "code",
   "execution_count": null,
   "metadata": {},
   "outputs": [],
   "source": []
  },
  {
   "cell_type": "code",
   "execution_count": null,
   "metadata": {
    "collapsed": true
   },
   "outputs": [],
   "source": []
  }
 ],
 "metadata": {
  "kernelspec": {
   "display_name": "Python 3",
   "language": "python",
   "name": "python3"
  },
  "language_info": {
   "codemirror_mode": {
    "name": "ipython",
    "version": 3
   },
   "file_extension": ".py",
   "mimetype": "text/x-python",
   "name": "python",
   "nbconvert_exporter": "python",
   "pygments_lexer": "ipython3",
   "version": "3.7.1"
  }
 },
 "nbformat": 4,
 "nbformat_minor": 2
}
