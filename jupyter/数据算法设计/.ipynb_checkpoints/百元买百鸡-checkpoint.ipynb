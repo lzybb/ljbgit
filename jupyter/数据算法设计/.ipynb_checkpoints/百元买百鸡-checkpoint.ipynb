{
 "cells": [
  {
   "cell_type": "code",
   "execution_count": 2,
   "metadata": {},
   "outputs": [
    {
     "name": "stdout",
     "output_type": "stream",
     "text": [
      "0 20 80\n",
      "5 11 84\n",
      "10 2 88\n"
     ]
    }
   ],
   "source": [
    "# 定义：公鸡5元，母鸡3元，小鸡0.5\n",
    "def f():\n",
    "    i=0\n",
    "    j=0\n",
    "    k=0\n",
    "    for i in range(0,12):\n",
    "        for j in range(0,21):\n",
    "            for k in range(80,91):\n",
    "                if i+j+k == 100 and i*5+j*3+k*0.5 == 100:\n",
    "                    print(i,j,k)\n",
    "                    \n",
    "f()"
   ]
  },
  {
   "cell_type": "code",
   "execution_count": 4,
   "metadata": {},
   "outputs": [
    {
     "name": "stdout",
     "output_type": "stream",
     "text": [
      "0 20 80\n",
      "5 11 84\n",
      "10 2 88\n"
     ]
    }
   ],
   "source": [
    "def f():\n",
    "    i=0\n",
    "    j=0\n",
    "    k=0\n",
    "    for i in range(0,20):\n",
    "        for j in range(0,33):\n",
    "            for k in range(0,100):\n",
    "                if i+j+k == 100 and i*5+j*3+k*0.5 == 100:\n",
    "                    print(i,j,k)\n",
    "f()"
   ]
  },
  {
   "cell_type": "code",
   "execution_count": null,
   "metadata": {},
   "outputs": [],
   "source": []
  }
 ],
 "metadata": {
  "kernelspec": {
   "display_name": "Python 3",
   "language": "python",
   "name": "python3"
  },
  "language_info": {
   "codemirror_mode": {
    "name": "ipython",
    "version": 3
   },
   "file_extension": ".py",
   "mimetype": "text/x-python",
   "name": "python",
   "nbconvert_exporter": "python",
   "pygments_lexer": "ipython3",
   "version": "3.7.1"
  }
 },
 "nbformat": 4,
 "nbformat_minor": 2
}
