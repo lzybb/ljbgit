{
 "cells": [
  {
   "cell_type": "code",
   "execution_count": 1,
   "metadata": {},
   "outputs": [
    {
     "name": "stdout",
     "output_type": "stream",
     "text": [
      "A\n",
      "A\n"
     ]
    },
    {
     "data": {
      "text/plain": [
       "<__main__.B at 0x1e25f9d2ac8>"
      ]
     },
     "execution_count": 1,
     "metadata": {},
     "output_type": "execute_result"
    }
   ],
   "source": [
    "class A():\n",
    "    def __init__(self):\n",
    "        print('A')\n",
    "    \n",
    "class B():\n",
    "    def __init__(self):\n",
    "        a1 = A()\n",
    "        a2 = A()\n",
    "        \n",
    "B()"
   ]
  },
  {
   "cell_type": "code",
   "execution_count": 2,
   "metadata": {},
   "outputs": [
    {
     "name": "stdout",
     "output_type": "stream",
     "text": [
      "ab\n"
     ]
    }
   ],
   "source": [
    "class A():\n",
    "    def __init__(self):\n",
    "        self.a = 'A'\n",
    "        self.c = ''\n",
    "        \n",
    "    def cs(self):\n",
    "        self.c = self.a + 'b'\n",
    "        print(self.c)\n",
    "        \n",
    "class B(A):\n",
    "    def __init__(self):\n",
    "        self.a = 'a'\n",
    "\n",
    "b = B()\n",
    "b.cs()"
   ]
  },
  {
   "cell_type": "code",
   "execution_count": 1,
   "metadata": {},
   "outputs": [
    {
     "name": "stdout",
     "output_type": "stream",
     "text": [
      "{1, 'b'}\n"
     ]
    }
   ],
   "source": [
    "s = set()\n",
    "s.add(1)\n",
    "s.add('b')\n",
    "print(s)"
   ]
  },
  {
   "cell_type": "code",
   "execution_count": 3,
   "metadata": {},
   "outputs": [
    {
     "name": "stdout",
     "output_type": "stream",
     "text": [
      "2\n"
     ]
    }
   ],
   "source": [
    "print(4//2)"
   ]
  },
  {
   "cell_type": "code",
   "execution_count": 6,
   "metadata": {},
   "outputs": [
    {
     "name": "stdout",
     "output_type": "stream",
     "text": [
      "1\n",
      "1\n",
      "1\n"
     ]
    }
   ],
   "source": [
    "for i in range(1,4):\n",
    "    print(1)\n"
   ]
  },
  {
   "cell_type": "code",
   "execution_count": 1,
   "metadata": {},
   "outputs": [
    {
     "name": "stdout",
     "output_type": "stream",
     "text": [
      "A\n",
      "删除了\n",
      "A\n"
     ]
    }
   ],
   "source": [
    "class A():\n",
    "    def __init__(self):\n",
    "        self.a = 'a'\n",
    "    def dlt(self):\n",
    "        # exit()\n",
    "        print('删除了')\n",
    "        \n",
    "class B(A):\n",
    "    def __init__(self):\n",
    "        self.a = 'A'\n",
    "        \n",
    "b = B()\n",
    "print(b.a)\n",
    "b.dlt()\n",
    "print(b.a)\n"
   ]
  },
  {
   "cell_type": "code",
   "execution_count": 9,
   "metadata": {},
   "outputs": [
    {
     "name": "stdout",
     "output_type": "stream",
     "text": [
      "1\n"
     ]
    },
    {
     "ename": "NameError",
     "evalue": "name 's' is not defined",
     "output_type": "error",
     "traceback": [
      "\u001b[1;31m---------------------------------------------------------------------------\u001b[0m",
      "\u001b[1;31mNameError\u001b[0m                                 Traceback (most recent call last)",
      "\u001b[1;32m<ipython-input-9-33a451980fbf>\u001b[0m in \u001b[0;36m<module>\u001b[1;34m\u001b[0m\n\u001b[0;32m      2\u001b[0m \u001b[0mprint\u001b[0m\u001b[1;33m(\u001b[0m\u001b[0ms\u001b[0m\u001b[1;33m)\u001b[0m\u001b[1;33m\u001b[0m\u001b[1;33m\u001b[0m\u001b[0m\n\u001b[0;32m      3\u001b[0m \u001b[1;32mdel\u001b[0m \u001b[0ms\u001b[0m\u001b[1;33m\u001b[0m\u001b[1;33m\u001b[0m\u001b[0m\n\u001b[1;32m----> 4\u001b[1;33m \u001b[0mprint\u001b[0m\u001b[1;33m(\u001b[0m\u001b[0ms\u001b[0m\u001b[1;33m)\u001b[0m\u001b[1;33m\u001b[0m\u001b[1;33m\u001b[0m\u001b[0m\n\u001b[0m",
      "\u001b[1;31mNameError\u001b[0m: name 's' is not defined"
     ]
    }
   ],
   "source": [
    "s=1\n",
    "print(s)\n",
    "del s"
   ]
  },
  {
   "cell_type": "code",
   "execution_count": 7,
   "metadata": {},
   "outputs": [
    {
     "name": "stdout",
     "output_type": "stream",
     "text": [
      "A\n",
      "B\n"
     ]
    }
   ],
   "source": [
    "class A():\n",
    "    a = 'A'\n",
    "    b = 'B'\n",
    "    def __init(self):\n",
    "        self.a = 'a'\n",
    "        self.b = 'b'\n",
    "        \n",
    "class B(A):\n",
    "    #def __init__(self):\n",
    "        #self.a = 'A'\n",
    "        pass\n",
    "        \n",
    "s = B()\n",
    "print(s.a)\n",
    "print(s.b)"
   ]
  },
  {
   "cell_type": "code",
   "execution_count": 85,
   "metadata": {},
   "outputs": [
    {
     "name": "stdout",
     "output_type": "stream",
     "text": [
      "17\n"
     ]
    }
   ],
   "source": [
    "import random\n",
    "\n",
    "x = random.randrange(1,20)\n",
    "print(x)"
   ]
  },
  {
   "cell_type": "code",
   "execution_count": 88,
   "metadata": {},
   "outputs": [
    {
     "name": "stdout",
     "output_type": "stream",
     "text": [
      "<class 'list'>\n",
      "s\n"
     ]
    }
   ],
   "source": [
    "l = []\n",
    "print(type(l))\n",
    "\n",
    "if l == []:\n",
    "    print('s')"
   ]
  },
  {
   "cell_type": "code",
   "execution_count": 12,
   "metadata": {},
   "outputs": [
    {
     "name": "stdout",
     "output_type": "stream",
     "text": [
      "1\n",
      "2\n",
      "0\n",
      "1\n"
     ]
    }
   ],
   "source": [
    "\n",
    "\n",
    "\n",
    "class A():\n",
    "     a = 0\n",
    "    \n",
    "class B(A):\n",
    "    def __init__(self):\n",
    "        A.a += 1\n",
    "        A.a %= 3\n",
    "        \n",
    "class C(A):\n",
    "    def __init__(self):\n",
    "        A.a += 1\n",
    "        A.a %= 3\n",
    "        \n",
    "        \n",
    "class Cs():\n",
    "    def __init__(self):\n",
    "        b = B()\n",
    "        print(A.a)\n",
    "        c = C()\n",
    "        print(A.a)\n",
    "        d = B()\n",
    "        print(A.a)\n",
    "        e = C()\n",
    "        print(A.a)\n",
    "        \n",
    "h = Cs()"
   ]
  },
  {
   "cell_type": "code",
   "execution_count": 19,
   "metadata": {},
   "outputs": [
    {
     "name": "stdout",
     "output_type": "stream",
     "text": [
      "3\n",
      "[<__main__.B object at 0x000001E84D60D390>, <__main__.B object at 0x000001E84D60D7F0>, <__main__.B object at 0x000001E84D60D438>]\n",
      "1\n",
      "2\n",
      "3\n"
     ]
    }
   ],
   "source": [
    "class A():\n",
    "    num = 0\n",
    "    a_list = list()\n",
    "    \n",
    "class B(A):\n",
    "    def __init__(self):\n",
    "        A.num += 1\n",
    "        A.a_list.append(self)\n",
    "        self.num = A.num\n",
    "        \n",
    "a = B()\n",
    "b = B()\n",
    "c = B()\n",
    "\n",
    "print(A.num)\n",
    "print(A.a_list)\n",
    "print(a.num)\n",
    "print(b.num)\n",
    "print(c.num)"
   ]
  },
  {
   "cell_type": "code",
   "execution_count": 20,
   "metadata": {},
   "outputs": [
    {
     "name": "stdout",
     "output_type": "stream",
     "text": [
      "1\n",
      "2\n"
     ]
    }
   ],
   "source": [
    "a=(1,2)\n",
    "x,y = a\n",
    "print(x)\n",
    "print(y)"
   ]
  },
  {
   "cell_type": "code",
   "execution_count": 32,
   "metadata": {},
   "outputs": [
    {
     "name": "stdout",
     "output_type": "stream",
     "text": [
      "测试\n"
     ]
    }
   ],
   "source": [
    "class A():\n",
    "    def __init__(self):\n",
    "        pass\n",
    "    def cs(self):\n",
    "        self.b = '测试'\n",
    "        print(self.b)\n",
    "        \n",
    "a = A()\n",
    "a.cs()\n",
    "    "
   ]
  },
  {
   "cell_type": "code",
   "execution_count": 36,
   "metadata": {},
   "outputs": [
    {
     "name": "stdout",
     "output_type": "stream",
     "text": [
      "a\n",
      "a\n",
      "a\n"
     ]
    }
   ],
   "source": [
    "a = [1,2,3]\n",
    "for i in a:\n",
    "    print('a')\n",
    "b = []\n",
    "for i in b:\n",
    "    print('b')\n"
   ]
  },
  {
   "cell_type": "code",
   "execution_count": null,
   "metadata": {},
   "outputs": [],
   "source": []
  }
 ],
 "metadata": {
  "kernelspec": {
   "display_name": "Python 3",
   "language": "python",
   "name": "python3"
  },
  "language_info": {
   "codemirror_mode": {
    "name": "ipython",
    "version": 3
   },
   "file_extension": ".py",
   "mimetype": "text/x-python",
   "name": "python",
   "nbconvert_exporter": "python",
   "pygments_lexer": "ipython3",
   "version": "3.7.1"
  }
 },
 "nbformat": 4,
 "nbformat_minor": 2
}
