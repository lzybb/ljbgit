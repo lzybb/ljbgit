{
 "cells": [
  {
   "cell_type": "markdown",
   "metadata": {},
   "source": [
    "# 常用模块\n",
    "- calendar\n",
    "- time\n",
    "- datetime\n",
    "- timeit\n",
    "- os\n",
    "- shutil\n",
    "- zip\n",
    "- math\n",
    "- string\n",
    "- 上述所有模块使用理论上都应该先导入，string是特例\n",
    "- calendar,time,datetime的区别参考中文意思"
   ]
  },
  {
   "cell_type": "markdown",
   "metadata": {},
   "source": [
    "# calendar\n",
    "- 跟日历相关的模块\n"
   ]
  },
  {
   "cell_type": "code",
   "execution_count": 1,
   "metadata": {},
   "outputs": [],
   "source": [
    "# 使用需要先导入\n",
    "import calendar"
   ]
  },
  {
   "cell_type": "code",
   "execution_count": 8,
   "metadata": {},
   "outputs": [
    {
     "name": "stdout",
     "output_type": "stream",
     "text": [
      "<class 'str'>\n",
      "                                  2019\n",
      "\n",
      "      January                   February                   March\n",
      "Mo Tu We Th Fr Sa Su      Mo Tu We Th Fr Sa Su      Mo Tu We Th Fr Sa Su\n",
      "    1  2  3  4  5  6                   1  2  3                   1  2  3\n",
      " 7  8  9 10 11 12 13       4  5  6  7  8  9 10       4  5  6  7  8  9 10\n",
      "14 15 16 17 18 19 20      11 12 13 14 15 16 17      11 12 13 14 15 16 17\n",
      "21 22 23 24 25 26 27      18 19 20 21 22 23 24      18 19 20 21 22 23 24\n",
      "28 29 30 31               25 26 27 28               25 26 27 28 29 30 31\n",
      "\n",
      "       April                      May                       June\n",
      "Mo Tu We Th Fr Sa Su      Mo Tu We Th Fr Sa Su      Mo Tu We Th Fr Sa Su\n",
      " 1  2  3  4  5  6  7             1  2  3  4  5                      1  2\n",
      " 8  9 10 11 12 13 14       6  7  8  9 10 11 12       3  4  5  6  7  8  9\n",
      "15 16 17 18 19 20 21      13 14 15 16 17 18 19      10 11 12 13 14 15 16\n",
      "22 23 24 25 26 27 28      20 21 22 23 24 25 26      17 18 19 20 21 22 23\n",
      "29 30                     27 28 29 30 31            24 25 26 27 28 29 30\n",
      "\n",
      "        July                     August                  September\n",
      "Mo Tu We Th Fr Sa Su      Mo Tu We Th Fr Sa Su      Mo Tu We Th Fr Sa Su\n",
      " 1  2  3  4  5  6  7                1  2  3  4                         1\n",
      " 8  9 10 11 12 13 14       5  6  7  8  9 10 11       2  3  4  5  6  7  8\n",
      "15 16 17 18 19 20 21      12 13 14 15 16 17 18       9 10 11 12 13 14 15\n",
      "22 23 24 25 26 27 28      19 20 21 22 23 24 25      16 17 18 19 20 21 22\n",
      "29 30 31                  26 27 28 29 30 31         23 24 25 26 27 28 29\n",
      "                                                    30\n",
      "\n",
      "      October                   November                  December\n",
      "Mo Tu We Th Fr Sa Su      Mo Tu We Th Fr Sa Su      Mo Tu We Th Fr Sa Su\n",
      "    1  2  3  4  5  6                   1  2  3                         1\n",
      " 7  8  9 10 11 12 13       4  5  6  7  8  9 10       2  3  4  5  6  7  8\n",
      "14 15 16 17 18 19 20      11 12 13 14 15 16 17       9 10 11 12 13 14 15\n",
      "21 22 23 24 25 26 27      18 19 20 21 22 23 24      16 17 18 19 20 21 22\n",
      "28 29 30 31               25 26 27 28 29 30         23 24 25 26 27 28 29\n",
      "                                                    30 31\n",
      "\n"
     ]
    }
   ],
   "source": [
    "# calendar: 获取一年的日历字符串\n",
    "# 参数\n",
    "# w = 每个日期之间的间隔字符数\n",
    "# l = 每周所占用的行数\n",
    "# c = 每个月之间的间隔字符数\n",
    "cal = calendar.calendar(2019)\n",
    "print(type(cal))\n",
    "print(cal)"
   ]
  },
  {
   "cell_type": "code",
   "execution_count": 9,
   "metadata": {},
   "outputs": [
    {
     "name": "stdout",
     "output_type": "stream",
     "text": [
      "                                 2019\n",
      "\n",
      "      January                  February                  March\n",
      "Mo Tu We Th Fr Sa Su     Mo Tu We Th Fr Sa Su     Mo Tu We Th Fr Sa Su\n",
      "    1  2  3  4  5  6                  1  2  3                  1  2  3\n",
      " 7  8  9 10 11 12 13      4  5  6  7  8  9 10      4  5  6  7  8  9 10\n",
      "14 15 16 17 18 19 20     11 12 13 14 15 16 17     11 12 13 14 15 16 17\n",
      "21 22 23 24 25 26 27     18 19 20 21 22 23 24     18 19 20 21 22 23 24\n",
      "28 29 30 31              25 26 27 28              25 26 27 28 29 30 31\n",
      "\n",
      "       April                     May                      June\n",
      "Mo Tu We Th Fr Sa Su     Mo Tu We Th Fr Sa Su     Mo Tu We Th Fr Sa Su\n",
      " 1  2  3  4  5  6  7            1  2  3  4  5                     1  2\n",
      " 8  9 10 11 12 13 14      6  7  8  9 10 11 12      3  4  5  6  7  8  9\n",
      "15 16 17 18 19 20 21     13 14 15 16 17 18 19     10 11 12 13 14 15 16\n",
      "22 23 24 25 26 27 28     20 21 22 23 24 25 26     17 18 19 20 21 22 23\n",
      "29 30                    27 28 29 30 31           24 25 26 27 28 29 30\n",
      "\n",
      "        July                    August                 September\n",
      "Mo Tu We Th Fr Sa Su     Mo Tu We Th Fr Sa Su     Mo Tu We Th Fr Sa Su\n",
      " 1  2  3  4  5  6  7               1  2  3  4                        1\n",
      " 8  9 10 11 12 13 14      5  6  7  8  9 10 11      2  3  4  5  6  7  8\n",
      "15 16 17 18 19 20 21     12 13 14 15 16 17 18      9 10 11 12 13 14 15\n",
      "22 23 24 25 26 27 28     19 20 21 22 23 24 25     16 17 18 19 20 21 22\n",
      "29 30 31                 26 27 28 29 30 31        23 24 25 26 27 28 29\n",
      "                                                  30\n",
      "\n",
      "      October                  November                 December\n",
      "Mo Tu We Th Fr Sa Su     Mo Tu We Th Fr Sa Su     Mo Tu We Th Fr Sa Su\n",
      "    1  2  3  4  5  6                  1  2  3                        1\n",
      " 7  8  9 10 11 12 13      4  5  6  7  8  9 10      2  3  4  5  6  7  8\n",
      "14 15 16 17 18 19 20     11 12 13 14 15 16 17      9 10 11 12 13 14 15\n",
      "21 22 23 24 25 26 27     18 19 20 21 22 23 24     16 17 18 19 20 21 22\n",
      "28 29 30 31              25 26 27 28 29 30        23 24 25 26 27 28 29\n",
      "                                                  30 31\n",
      "\n"
     ]
    }
   ],
   "source": [
    "cal = calendar.calendar(2019,w=1,l=0,c=5)\n",
    "print(cal)"
   ]
  },
  {
   "cell_type": "code",
   "execution_count": 10,
   "metadata": {},
   "outputs": [
    {
     "data": {
      "text/plain": [
       "False"
      ]
     },
     "execution_count": 10,
     "metadata": {},
     "output_type": "execute_result"
    }
   ],
   "source": [
    "# isleap: 判断某一年是否闰年\n",
    "calendar.isleap(2019)"
   ]
  },
  {
   "cell_type": "code",
   "execution_count": 11,
   "metadata": {},
   "outputs": [
    {
     "data": {
      "text/plain": [
       "9"
      ]
     },
     "execution_count": 11,
     "metadata": {},
     "output_type": "execute_result"
    }
   ],
   "source": [
    "# leapdays: 获取指定年份之间的闰年的个数\n",
    "calendar.leapdays(1983,2019)"
   ]
  },
  {
   "cell_type": "code",
   "execution_count": 12,
   "metadata": {},
   "outputs": [
    {
     "name": "stdout",
     "output_type": "stream",
     "text": [
      "Help on function leapdays in module calendar:\n",
      "\n",
      "leapdays(y1, y2)\n",
      "    Return number of leap years in range [y1, y2).\n",
      "    Assume y1 <= y2.\n",
      "\n"
     ]
    }
   ],
   "source": [
    "help(calendar.leapdays)"
   ]
  },
  {
   "cell_type": "code",
   "execution_count": 15,
   "metadata": {},
   "outputs": [
    {
     "name": "stdout",
     "output_type": "stream",
     "text": [
      "   February 2019\n",
      "Mo Tu We Th Fr Sa Su\n",
      "             1  2  3\n",
      " 4  5  6  7  8  9 10\n",
      "11 12 13 14 15 16 17\n",
      "18 19 20 21 22 23 24\n",
      "25 26 27 28\n",
      "\n"
     ]
    }
   ],
   "source": [
    "# month() 获取某个月的日历字符串\n",
    "# 格式：calendar.month(年，月)\n",
    "# 返回值：月日历的字符串\n",
    "m3 = calendar.month(2019,2)\n",
    "print(m3)"
   ]
  },
  {
   "cell_type": "code",
   "execution_count": 19,
   "metadata": {},
   "outputs": [
    {
     "name": "stdout",
     "output_type": "stream",
     "text": [
      "(4, 28)\n",
      "4\n",
      "28\n"
     ]
    }
   ],
   "source": [
    "# monthrange() 获取一个月的周几开始和天数\n",
    "# 格式： calendar.monthrange(年，月)\n",
    "# 返回值：元组(周几开始，总天数)\n",
    "# 注意: 周默认0-6 表示周一到周天\n",
    "t = calendar.monthrange(2019,2)\n",
    "print(t)\n",
    "\n",
    "i,j = calendar.monthrange(2019,2)\n",
    "print(i)\n",
    "print(j)"
   ]
  },
  {
   "cell_type": "code",
   "execution_count": 20,
   "metadata": {},
   "outputs": [
    {
     "name": "stdout",
     "output_type": "stream",
     "text": [
      "<class 'list'>\n",
      "[[0, 0, 0, 0, 1, 2, 3], [4, 5, 6, 7, 8, 9, 10], [11, 12, 13, 14, 15, 16, 17], [18, 19, 20, 21, 22, 23, 24], [25, 26, 27, 28, 0, 0, 0]]\n"
     ]
    }
   ],
   "source": [
    "# monthcalendar() 返回一个月每天的矩阵\n",
    "# 格式calendar.monthcalendar(年，月)\n",
    "# 返回值： 二级矩阵\n",
    "# 注意： 矩阵中没有天数用0表示\n",
    "m = calendar.monthcalendar(2019,2)\n",
    "print(type(m))\n",
    "print(m)"
   ]
  },
  {
   "cell_type": "code",
   "execution_count": 21,
   "metadata": {},
   "outputs": [
    {
     "name": "stdout",
     "output_type": "stream",
     "text": [
      "Help on method pryear in module calendar:\n",
      "\n",
      "pryear(theyear, w=0, l=0, c=6, m=3) method of calendar.TextCalendar instance\n",
      "    Print a year's calendar.\n",
      "\n"
     ]
    }
   ],
   "source": [
    "# prcal: print calendar 直接打印日历\n",
    "#calendar.prcal(2019)\n",
    "help(calendar.prcal)"
   ]
  },
  {
   "cell_type": "code",
   "execution_count": 23,
   "metadata": {},
   "outputs": [
    {
     "name": "stdout",
     "output_type": "stream",
     "text": [
      "   February 2019\n",
      "Mo Tu We Th Fr Sa Su\n",
      "             1  2  3\n",
      " 4  5  6  7  8  9 10\n",
      "11 12 13 14 15 16 17\n",
      "18 19 20 21 22 23 24\n",
      "25 26 27 28\n"
     ]
    }
   ],
   "source": [
    "# prmonth() 直接打印整个月的日历\n",
    "# 格式：calendar.prmonth(年，月)\n",
    "# 返回值：无\n",
    "calendar.prmonth(2019,2)"
   ]
  },
  {
   "cell_type": "code",
   "execution_count": 25,
   "metadata": {},
   "outputs": [
    {
     "name": "stdout",
     "output_type": "stream",
     "text": [
      "4\n"
     ]
    }
   ],
   "source": [
    "# weekday() 获取周几\n",
    "# 格式：calendar.weekday(年，月，日)\n",
    "# 返回值：周几对应的数字\n",
    "print(calendar.weekday(2019,2,15))"
   ]
  },
  {
   "cell_type": "markdown",
   "metadata": {},
   "source": [
    "# time模块\n",
    "### 时间戳\n",
    "    - 一个时间表示，根据不同语言，可以是整数或者浮点数\n",
    "    - 是从1970年1月1日0时0分0秒到现在经历的秒数\n",
    "    - 如果表示的时间是1970年以前或则太遥远的未来，可能出现异常\n",
    "    - 32位操作系统能够支持到2038年\n",
    "\n",
    "### UTC时间\n",
    "    - UTC又称为世界协调时间，以英国的格林尼治天文所在地区的时间作为参考的\n",
    "    时间，又叫做世界标准时间\n",
    "    - 中国时间是 UTC+8 东八区\n",
    "  \n",
    "### 夏令时\n",
    "    - 夏令时就是在夏天的时候将时间调快1小时，本意是督促大家早睡早起。\n",
    "\n",
    "### 时间元组\n",
    "    - 一个包含时间内容的普通元组\n",
    "    \n",
    "    索引    内容    属性     值\n",
    "    0      年     tm_year   2019\n",
    "    1      月     tm_mon    1~12\n",
    "    2      日     tm_mday   1~31\n",
    "    3      时     tm_hour   0~23\n",
    "    4      分     tm_min    0~59\n",
    "    5      秒     tm_sec    0~61 60表示闰秒 61保留值\n",
    "    6     周几     tm_wday   0~6\n",
    "    7     第几天    tm_yday   1~366\n",
    "    8     夏令时    tm_isdst  0,1,-1(表示夏令时)\n",
    "       "
   ]
  },
  {
   "cell_type": "code",
   "execution_count": 26,
   "metadata": {},
   "outputs": [],
   "source": [
    "# 使用需要单独导入\n",
    "import time"
   ]
  },
  {
   "cell_type": "code",
   "execution_count": 31,
   "metadata": {},
   "outputs": [
    {
     "name": "stdout",
     "output_type": "stream",
     "text": [
      "-28800\n",
      "-32400\n",
      "0\n"
     ]
    }
   ],
   "source": [
    "# 时间模块的属性\n",
    "# dir(time)\n",
    "# timezone:当前时区和UTC时间相差的秒数，在没有夏令时的情况下的间隔\n",
    "# 东八区的是：-28800\n",
    "print(time.timezone)\n",
    "\n",
    "# altzone: 获取当前时区和UTC时间相差的秒数\n",
    "# 在有夏令时的情况下的间隔\n",
    "print(time.altzone)\n",
    "\n",
    "# daylight 测试当前是否是夏令时时间状态，0表示是\n",
    "print(time.daylight)"
   ]
  },
  {
   "cell_type": "code",
   "execution_count": 33,
   "metadata": {},
   "outputs": [
    {
     "data": {
      "text/plain": [
       "1550308967.122749"
      ]
     },
     "execution_count": 33,
     "metadata": {},
     "output_type": "execute_result"
    }
   ],
   "source": [
    "# 得到时间戳\n",
    "time.time()\n",
    "# 表示距离1970年0时0分0秒相差多少秒"
   ]
  },
  {
   "cell_type": "code",
   "execution_count": 36,
   "metadata": {},
   "outputs": [
    {
     "name": "stdout",
     "output_type": "stream",
     "text": [
      "<class 'time.struct_time'>\n",
      "26\n"
     ]
    }
   ],
   "source": [
    "# localtime, 得到当前时间的时间结构\n",
    "# 可以通过点号（.)操作符得到相应的属性元素的内容\n",
    "t = time.localtime()\n",
    "print(type(t))\n",
    "# print(t)\n",
    "print(t.tm_min)"
   ]
  },
  {
   "cell_type": "code",
   "execution_count": 38,
   "metadata": {},
   "outputs": [
    {
     "name": "stdout",
     "output_type": "stream",
     "text": [
      "<class 'str'>\n",
      "Sat Feb 16 17:30:55 2019\n"
     ]
    }
   ],
   "source": [
    "# asctime() 返回元组的正常字符串化之后的格式\n",
    "# 格式：time.asctime(时间元组)\n",
    "# 返回值：字符串 周 月 日 时间(11:11:00) 年\n",
    "t = time.localtime()\n",
    "\n",
    "tm = time.asctime()\n",
    "print(type(tm))\n",
    "print(tm)"
   ]
  },
  {
   "cell_type": "code",
   "execution_count": 39,
   "metadata": {},
   "outputs": [
    {
     "name": "stdout",
     "output_type": "stream",
     "text": [
      "<class 'str'>\n",
      "Sat Feb 16 17:32:44 2019\n"
     ]
    }
   ],
   "source": [
    "# ctime: 获取字符串化的当前时间\n",
    "t = time.ctime()\n",
    "print(type(t))\n",
    "print(t)"
   ]
  },
  {
   "cell_type": "code",
   "execution_count": 40,
   "metadata": {},
   "outputs": [
    {
     "name": "stdout",
     "output_type": "stream",
     "text": [
      "<class 'float'>\n",
      "1550309715.0\n"
     ]
    }
   ],
   "source": [
    "# mktime() 使用时间元组获取对应的时间戳\n",
    "# 格式：time.mktime(时间元组)\n",
    "# 返回值：浮点数时间戳\n",
    "\n",
    "lt = time.localtime()\n",
    "ts = time.mktime(lt)\n",
    "print(type(ts))\n",
    "print(ts)"
   ]
  },
  {
   "cell_type": "code",
   "execution_count": 41,
   "metadata": {},
   "outputs": [],
   "source": [
    "# clock: 获取cpu时间，3.0-3.3 版本直接使用，3.6调用有问题"
   ]
  },
  {
   "cell_type": "code",
   "execution_count": 43,
   "metadata": {},
   "outputs": [
    {
     "name": "stdout",
     "output_type": "stream",
     "text": [
      "0\n",
      "1\n",
      "2\n",
      "3\n",
      "4\n",
      "5\n",
      "6\n",
      "7\n",
      "8\n",
      "9\n"
     ]
    }
   ],
   "source": [
    "# sleep: 使程序进入睡眠，n秒后继续\n",
    "# 格式： time.sleep(value)\n",
    "\n",
    "for i in range(10):\n",
    "    print(i)\n",
    "    time.sleep(0.5)"
   ]
  },
  {
   "cell_type": "code",
   "execution_count": 3,
   "metadata": {},
   "outputs": [
    {
     "name": "stderr",
     "output_type": "stream",
     "text": [
      "C:\\ProgramData\\Anaconda3\\lib\\site-packages\\ipykernel_launcher.py:5: DeprecationWarning: time.clock has been deprecated in Python 3.3 and will be removed from Python 3.8: use time.perf_counter or time.process_time instead\n",
      "  \"\"\"\n"
     ]
    },
    {
     "name": "stdout",
     "output_type": "stream",
     "text": [
      "3.002687862000016\n"
     ]
    },
    {
     "name": "stderr",
     "output_type": "stream",
     "text": [
      "C:\\ProgramData\\Anaconda3\\lib\\site-packages\\ipykernel_launcher.py:8: DeprecationWarning: time.clock has been deprecated in Python 3.3 and will be removed from Python 3.8: use time.perf_counter or time.process_time instead\n",
      "  \n"
     ]
    }
   ],
   "source": [
    "import time\n",
    "def p():\n",
    "    time.sleep(0.5)\n",
    "    \n",
    "t0 = time.clock()\n",
    "#P()\n",
    "time.sleep(3)\n",
    "t1=time.clock()\n",
    "\n",
    "print(t1-t0)"
   ]
  },
  {
   "cell_type": "code",
   "execution_count": 55,
   "metadata": {},
   "outputs": [
    {
     "name": "stdout",
     "output_type": "stream",
     "text": [
      "2019 year 02 moth 17 day 14:10\n"
     ]
    }
   ],
   "source": [
    "# strftime: 将时间元组转化为自定义的字符串格式\n",
    "import time\n",
    "'''\n",
    "格式     含义   备注\n",
    "%a  本地(locale)简化星期名称\n",
    "%A  本地完整星期名称\n",
    "%b  本地简化月份名称\n",
    "%B  本地完整月份名称\n",
    "%c  本地相应的日期和时间表示\n",
    "%d  一月中的第几天(01-31)\n",
    "%H  一天中的第几个小时(24小时制，00-23)\n",
    "%I  一天中的第几个小时(12小时制，01-12)\n",
    "%j  一年中的第几天(001- 366)\n",
    "%m  月份(01-12)\n",
    "%M  分钟数(00-59)\n",
    "%p  本地 am 或者 pm 的相应符 注1\n",
    "%S  秒(01-61) 注2\n",
    "%U  一年中的星期数(00-53星期天是一个星期的开始)第一个星期天之前的所有天数都放在\n",
    "%w  一个星期中的第几天(0-6，0是星期天) 注3\n",
    "%W  和%U基本相同，不同的是%W 以星期一为一个星期的开始\n",
    "%x  本地相应日期\n",
    "%X  本地相应时间\n",
    "%y  去掉世纪的年份(00-99)\n",
    "%Y  完整的年份\n",
    "%z  用+HHMM 或者 -HHMM 表示举例格林威治的时区偏移(H代表十进制的小时，M 代表十进制)\n",
    "%%  %号本身\n",
    "'''\n",
    "#  把时间表示成， 2019年 2月17日 12：36\n",
    "\n",
    "t= time.localtime()\n",
    "ft = time.strftime('%Y year %m moth %d day %H:%M', t)\n",
    "print(ft)\n",
    "# 此版本python 不支持('%Y年%m月%d日')中间夹中文字的写法"
   ]
  },
  {
   "cell_type": "code",
   "execution_count": 25,
   "metadata": {},
   "outputs": [
    {
     "name": "stdout",
     "output_type": "stream",
     "text": [
      "2019-02-17\n",
      "17\n",
      "2\n",
      "2019\n"
     ]
    }
   ],
   "source": [
    "# datetime 常见属性\n",
    "# datetime.date： 一个理想的日期，提供year，moth，day属性\n",
    "import datetime\n",
    "\n",
    "dt=datetime.date(2019,2,17)\n",
    "print(dt)\n",
    "print(dt.day)\n",
    "print(dt.month)\n",
    "print(dt.year)\n",
    "\n",
    "# datetime.time: 提供一个理想的时间，具有hour,minute,sec,microsec等内容\n",
    "# datetime.datetime:提供日期跟时间的组合\n",
    "# datetime.timedelta：提供一个时间差，时间长度"
   ]
  },
  {
   "cell_type": "code",
   "execution_count": 29,
   "metadata": {},
   "outputs": [
    {
     "name": "stdout",
     "output_type": "stream",
     "text": [
      "2019-02-17 13:02:14.494394\n",
      "2019-02-17 13:02:14.494393\n",
      "2019-02-17 13:02:14.494394\n"
     ]
    }
   ],
   "source": [
    "# datetime.datetime\n",
    "from datetime import datetime\n",
    "# 常用类方法：\n",
    "# today:\n",
    "# now\n",
    "# utcnow\n",
    "# fromtimestamp:从时间戳中返回本地时间\n",
    "dt = datetime(2019,2,17)\n",
    "print(dt.today())\n",
    "print(dt.now())\n",
    "\n",
    "print(dt.fromtimestamp(time.time()))\n"
   ]
  },
  {
   "cell_type": "code",
   "execution_count": 32,
   "metadata": {},
   "outputs": [
    {
     "name": "stdout",
     "output_type": "stream",
     "text": [
      "2019-02-17 13:07:21\n",
      "2019-02-17 14:07:21\n"
     ]
    }
   ],
   "source": [
    "# datetime.timedelta\n",
    "# 表示一个时间间隔\n",
    "\n",
    "from datetime import datetime,timedelta\n",
    "\n",
    "t1= datetime.now()\n",
    "print(t1.strftime('%Y-%m-%d %H:%M:%S'))\n",
    "# td 表示以小时的时间间隔\n",
    "td = timedelta(hours=1)\n",
    "# 当前时间加上时间间隔后，把得到的时间格式化输出\n",
    "print((t1+td).strftime('%Y-%m-%d %H:%M:%S'))"
   ]
  },
  {
   "cell_type": "code",
   "execution_count": 34,
   "metadata": {},
   "outputs": [
    {
     "name": "stdout",
     "output_type": "stream",
     "text": [
      "3.200009346008301\n"
     ]
    }
   ],
   "source": [
    "# timeit-时间测量工具\n",
    "# 测量程序运行时间间隔实验\n",
    "\n",
    "def p():\n",
    "    time.sleep(3.2)\n",
    "t1 = time.time()\n",
    "p()\n",
    "print(time.time() - t1)"
   ]
  },
  {
   "cell_type": "code",
   "execution_count": 39,
   "metadata": {},
   "outputs": [
    {
     "name": "stdout",
     "output_type": "stream",
     "text": [
      "3.5128417559999434\n",
      "6.915169977000005\n"
     ]
    }
   ],
   "source": [
    "import timeit\n",
    "# 生成列表两种方法的比较\n",
    "# 如果单纯比较生成一个列表的时间，可能很难实现\n",
    "c = '''\n",
    "sum = []\n",
    "for i in range(1000):\n",
    "    sum.append(i)\n",
    "'''\n",
    "# 利用timeit 调用代码，执行100000次，查看运行时间\n",
    "t1 = timeit.timeit(stmt='[i for i in range(1000)]',number=100000)\n",
    "# 测量代码c执行100000次运行结果\n",
    "t2 = timeit.timeit(stmt=c,number=100000)\n",
    "print(t1)\n",
    "print(t2)\n"
   ]
  },
  {
   "cell_type": "code",
   "execution_count": 41,
   "metadata": {},
   "outputs": [
    {
     "name": "stdout",
     "output_type": "stream",
     "text": [
      "Help on function timeit in module timeit:\n",
      "\n",
      "timeit(stmt='pass', setup='pass', timer=<built-in function perf_counter>, number=1000000, globals=None)\n",
      "    Convenience function to create Timer object and call timeit method.\n",
      "\n"
     ]
    }
   ],
   "source": [
    "help(timeit.timeit)"
   ]
  },
  {
   "cell_type": "code",
   "execution_count": 42,
   "metadata": {},
   "outputs": [
    {
     "name": "stdout",
     "output_type": "stream",
     "text": [
      "repeat for0\n",
      "repeat for1\n",
      "repeat for2\n",
      "repeat for0\n",
      "repeat for1\n",
      "repeat for2\n",
      "repeat for0\n",
      "repeat for1\n",
      "repeat for2\n",
      "repeat for0\n",
      "repeat for1\n",
      "repeat for2\n",
      "repeat for0\n",
      "repeat for1\n",
      "repeat for2\n",
      "repeat for0\n",
      "repeat for1\n",
      "repeat for2\n",
      "repeat for0\n",
      "repeat for1\n",
      "repeat for2\n",
      "repeat for0\n",
      "repeat for1\n",
      "repeat for2\n",
      "repeat for0\n",
      "repeat for1\n",
      "repeat for2\n",
      "repeat for0\n",
      "repeat for1\n",
      "repeat for2\n",
      "0.000809602000117593\n"
     ]
    }
   ],
   "source": [
    "# timeit 可以执行一个函数，来测量一个函数的执行时间\n",
    "def doIt():\n",
    "    num=3\n",
    "    for i in range(num):\n",
    "        print('repeat for{}'.format(i))\n",
    "        \n",
    "# 执行函数，重复10次        \n",
    "t=timeit.timeit(stmt=doIt,number=10)\n",
    "print(t)"
   ]
  },
  {
   "cell_type": "code",
   "execution_count": 49,
   "metadata": {},
   "outputs": [
    {
     "name": "stdout",
     "output_type": "stream",
     "text": [
      "repeat for0\n",
      "repeat for1\n",
      "repeat for2\n",
      "repeat for0\n",
      "repeat for1\n",
      "repeat for2\n",
      "repeat for0\n",
      "repeat for1\n",
      "repeat for2\n",
      "repeat for0\n",
      "repeat for1\n",
      "repeat for2\n",
      "repeat for0\n",
      "repeat for1\n",
      "repeat for2\n",
      "repeat for0\n",
      "repeat for1\n",
      "repeat for2\n",
      "repeat for0\n",
      "repeat for1\n",
      "repeat for2\n",
      "repeat for0\n",
      "repeat for1\n",
      "repeat for2\n",
      "repeat for0\n",
      "repeat for1\n",
      "repeat for2\n",
      "repeat for0\n",
      "repeat for1\n",
      "repeat for2\n",
      "1.6430003597633913e-06\n",
      "0.0007718310007476248\n"
     ]
    }
   ],
   "source": [
    "s='''\n",
    "def doIt(num):\n",
    "    for i in range(num):\n",
    "        print('repeat for{}'.format(i))\n",
    "'''\n",
    "# 执行doIt(num)\n",
    "# setup负责把环境变量准备好\n",
    "# 实际相当于给timeit创造一个小环境\n",
    "# 在创造的小环境中，代码执行的顺序大致是\n",
    "'''\n",
    "def doIt(num):\n",
    "    ....\n",
    "num = 3\n",
    "\n",
    "doIt(num)\n",
    "'''\n",
    "# t=timeit.timeit(stmt=s,setup=s+'num=3',number=10)\n",
    "# print(t)\n",
    "#  上述表达试只运行了 stmt=s 10次，并没有将3赋值给num\n",
    "t1=timeit.timeit('doIt(num)',setup=s+'num=3',number=10)\n",
    "print(t1)"
   ]
  },
  {
   "cell_type": "markdown",
   "metadata": {},
   "source": [
    "# datetime.datetime 模块\n",
    "- 提供比较好用的时间而已\n",
    "- 类定义\n",
    "    class datetime.datetime(year,month,day[,hour\n",
    "        [,minute\n",
    "        [,second\n",
    "        [,microsecond\n",
    "        [,tzinfo]]]]])\n",
    "    #The year,month and day arguments are required\n",
    "    MINYEAR<= year <= MAXYEAR\n",
    "    1 <= month<= 12\n",
    "    1 <= day <= n\n",
    "    0 <= hour <= 24\n",
    "    0 <= minute < 60\n",
    "    0 <= second < 60\n",
    "    0 <= microsecond <10**6\n",
    "- 类方法\n",
    "    datetime.today():返回当前本地datetime.随着 tzinfo None.\n",
    "        datetime.fromtimestamp(time.time())\n",
    "    datetime.now([tz]):返回当前本地日期和时间，如果可选参数tz\n",
    "        为None或没有详细说明，这个方法会像today()\n",
    "    datetime.utcnow()：返回当前的UTC日期和时间，如果tzinfo None,\n",
    "        那么与now()类似\n",
    "    datetime.fromtimestamp(timestamp[,tz]):根据时间戳返回本地的\n",
    "        日期和时间。tz指定时区\n",
    "    datetime.utcfromtimestamp(timestamp):根据时间戳返回UTC datetime\n",
    "    datetime.combine(date,time):根据date和time返回一个新的datetime\n",
    "    datetime.strptime(date_string,format):根据date_string和format\n",
    "        返回一个datetime\n",
    "\n",
    "- 实例方法\n",
    "    datetime.date()：返回相同年月日的date对象\n",
    "    datetime.time()：返回相同时分秒微秒的time对象\n",
    "    datetime.replace(kw): kw in [year,month,day,hour,minute,second,\n",
    "        microsecond,tzinfo]，与date类似\n",
    "\n",
    "- 实例属性(read-only)\n",
    "    datetime.year：1-9999\n",
    "    datetime.month: 1-12\n",
    "    datetime.day: 1-n\n",
    "    datetime.hour: In range(24) 0-23\n",
    "    datetime.minute: in range(60)\n",
    "    datetime.second: in range(60)\n",
    "    datetime.mincrosecond: in range(1000000)\n",
    "    "
   ]
  },
  {
   "cell_type": "code",
   "execution_count": 54,
   "metadata": {},
   "outputs": [
    {
     "name": "stdout",
     "output_type": "stream",
     "text": [
      "2019-02-17 14:06:18.570369\n"
     ]
    }
   ],
   "source": [
    "from datetime import datetime as dt\n",
    "\n",
    "print(dt.now())"
   ]
  },
  {
   "cell_type": "markdown",
   "metadata": {},
   "source": [
    "# os-操作系统相关\n",
    "- 跟操作系统相关，主要是文件操作\n",
    "- 于操作系统相关，主要包含在三个模块里\n",
    "    - os，操作系统目录相关\n",
    "    - os.path，系统路径相关操作\n",
    "    - shutil, 高级文件操作，目录树的操作，文件赋值，删除，移动\n",
    "- 路径：\n",
    "    - 绝对路径：总是从根目录上开始\n",
    "    - 相对路径：基本以当前环境为开始的一个相对的地方\n",
    "    "
   ]
  },
  {
   "cell_type": "markdown",
   "metadata": {},
   "source": [
    "# os 模块"
   ]
  },
  {
   "cell_type": "code",
   "execution_count": 57,
   "metadata": {},
   "outputs": [
    {
     "name": "stdout",
     "output_type": "stream",
     "text": [
      "E:\\xx\\PycharmProjects\\ljbgit\\jupyter\\3-高级语法\n"
     ]
    }
   ],
   "source": [
    "# getcwd() 获取当前的工作目录\n",
    "# 格式：os.getcwd()\n",
    "# 返回值：当前工作目录的字符串\n",
    "# 当前工作目录就是程序文件在进行文件相关操作，默认查找文件的目录\n",
    "import os\n",
    "\n",
    "mydir = os.getcwd()\n",
    "print(mydir)"
   ]
  },
  {
   "cell_type": "code",
   "execution_count": 59,
   "metadata": {},
   "outputs": [
    {
     "name": "stdout",
     "output_type": "stream",
     "text": [
      "E:\\xx\\PycharmProjects\\ljbgit\\jupyter\n"
     ]
    }
   ],
   "source": [
    "# chdir() 改变当前的工作目录\n",
    "# change directory 更改地址\n",
    "# 格式：os.chdir(路径)\n",
    "# 返回值：无\n",
    "\n",
    "os.chdir('E:\\\\xx\\\\PycharmProjects\\\\ljbgit\\\\jupyter')\n",
    "mydir = os.getcwd()\n",
    "print(mydir)"
   ]
  },
  {
   "cell_type": "code",
   "execution_count": 63,
   "metadata": {},
   "outputs": [
    {
     "name": "stdout",
     "output_type": "stream",
     "text": [
      "['1-基础', '2-面向对象', '3-高级语法', '数据算法设计']\n"
     ]
    }
   ],
   "source": [
    "# listdir() 获取一个目录中所有子目录和文件的名称列表\n",
    "# 格式：os.listdir(路径)\n",
    "# 返回值：所有子目录和文件名的列表\n",
    "\n",
    "ld = os.listdir()\n",
    "print(ld)"
   ]
  },
  {
   "cell_type": "code",
   "execution_count": 64,
   "metadata": {},
   "outputs": [
    {
     "name": "stdout",
     "output_type": "stream",
     "text": [
      "Help on built-in function listdir in module nt:\n",
      "\n",
      "listdir(path=None)\n",
      "    Return a list containing the names of the files in the directory.\n",
      "    \n",
      "    path can be specified as either str or bytes.  If path is bytes,\n",
      "      the filenames returned will also be bytes; in all other circumstances\n",
      "      the filenames returned will be str.\n",
      "    If path is None, uses the path='.'.\n",
      "    On some platforms, path may also be specified as an open file descriptor;\\\n",
      "      the file descriptor must refer to a directory.\n",
      "      If this functionality is unavailable, using it raises NotImplementedError.\n",
      "    \n",
      "    The list is in arbitrary order.  It does not include the special\n",
      "    entries '.' and '..' even if they are present in the directory.\n",
      "\n"
     ]
    }
   ],
   "source": [
    "help(os.listdir)"
   ]
  },
  {
   "cell_type": "code",
   "execution_count": 70,
   "metadata": {},
   "outputs": [
    {
     "name": "stdout",
     "output_type": "stream",
     "text": [
      "None\n"
     ]
    }
   ],
   "source": [
    "# makedirs() 递归创建文件夹\n",
    "# 格式：os.makedirs(递归路径)\n",
    "# 返回值：无\n",
    "# 递归路径：多个文件夹层层包含的路径就是递归路径 例如：a/b/c\n",
    "\n",
    "rst = os.makedirs('zj')\n",
    "print(rst)"
   ]
  },
  {
   "cell_type": "code",
   "execution_count": 71,
   "metadata": {},
   "outputs": [
    {
     "name": "stdout",
     "output_type": "stream",
     "text": [
      "Help on function makedirs in module os:\n",
      "\n",
      "makedirs(name, mode=511, exist_ok=False)\n",
      "    makedirs(name [, mode=0o777][, exist_ok=False])\n",
      "    \n",
      "    Super-mkdir; create a leaf directory and all intermediate ones.  Works like\n",
      "    mkdir, except that any intermediate path segment (not just the rightmost)\n",
      "    will be created if it does not exist. If the target directory already\n",
      "    exists, raise an OSError if exist_ok is False. Otherwise no exception is\n",
      "    raised.  This is recursive.\n",
      "\n"
     ]
    }
   ],
   "source": [
    "help(os.makedirs)"
   ]
  },
  {
   "cell_type": "code",
   "execution_count": 5,
   "metadata": {},
   "outputs": [
    {
     "name": "stdout",
     "output_type": "stream",
     "text": [
      "Help on built-in function system in module nt:\n",
      "\n",
      "system(command)\n",
      "    Execute the command in a subshell.\n",
      "\n"
     ]
    }
   ],
   "source": [
    "# system() 运行系统shell命令\n",
    "# 格式：os.system(系统命令)\n",
    "# 返回值：打开一个shell或者终端界面\n",
    "# 一般推荐使用subprocess代替\n",
    "help(os.system)"
   ]
  },
  {
   "cell_type": "code",
   "execution_count": null,
   "metadata": {},
   "outputs": [],
   "source": [
    "# ls是列出当前文件和文件夹的系统命令\n",
    "# rst = os.system('ls')\n",
    "# print(rst)\n",
    "\n",
    "# 当前目录下创建一个ljb.haha的文件\n",
    "# rst = os.system('touch ljb.haha')\n",
    "# print(rst)"
   ]
  },
  {
   "cell_type": "code",
   "execution_count": 6,
   "metadata": {},
   "outputs": [
    {
     "name": "stdout",
     "output_type": "stream",
     "text": [
      "nt\n"
     ]
    }
   ],
   "source": [
    "import os\n",
    "print(os.name)"
   ]
  },
  {
   "cell_type": "code",
   "execution_count": 8,
   "metadata": {},
   "outputs": [
    {
     "name": "stdout",
     "output_type": "stream",
     "text": [
      "C:\\ProgramData\\Anaconda3;C:\\ProgramData\\Anaconda3\\Library\\mingw-w64\\bin;C:\\ProgramData\\Anaconda3\\Library\\usr\\bin;C:\\ProgramData\\Anaconda3\\Library\\bin;C:\\ProgramData\\Anaconda3\\Scripts;C:\\ProgramData\\Anaconda3\\bin;C:\\ProgramData\\Anaconda3;C:\\ProgramData\\Anaconda3\\Library\\mingw-w64\\bin;C:\\ProgramData\\Anaconda3\\Library\\usr\\bin;C:\\ProgramData\\Anaconda3\\Library\\bin;C:\\ProgramData\\Anaconda3\\Scripts;C:\\windows\\system32;C:\\windows;C:\\windows\\System32\\Wbem;C:\\windows\\System32\\WindowsPowerShell\\v1.0\\;C:\\Program Files\\Git\\cmd;\"C:\\Program Files\\Java\\jdk-11.0.2\\bin\";C:\\Program Files\\Java\\jdk-11.0.2\\bin;C:\\Program Files\\Java\\jdk-11.0.2\\jre\\bin;C:\\Users\\Administrator\\AppData\\Local\\Microsoft\\WindowsApps;\n"
     ]
    }
   ],
   "source": [
    "# getenv() 获取指定的系统环境变量值\n",
    "# 相应的还有putenv\n",
    "# 格式：os.getenv('环境变量名')\n",
    "# 返回值：指定环境变量名对应的值\n",
    "rst = os.getenv('PATH')\n",
    "print(rst)"
   ]
  },
  {
   "cell_type": "code",
   "execution_count": 9,
   "metadata": {},
   "outputs": [],
   "source": [
    "# exit() 推出当前程序\n",
    "# 格式：exit()\n",
    "# 返回值：无\n"
   ]
  },
  {
   "cell_type": "markdown",
   "metadata": {},
   "source": [
    "# 值部分\n",
    "- os.curdir: curretn dir ,当前目录\n",
    "- os.pardir: parent dir, 父目录\n",
    "- os.sep：当前系统的路径分隔符\n",
    "    - windows:'\\'\n",
    "    - linux:'/'\n",
    "- os.linesep：当前系统的换行符\n",
    "    - windows:'\\r\\n'\n",
    "    - unix,linux,macos:'\\n'\n",
    "- os.name：当前系统名称\n",
    "    - windows: nt\n",
    "    - mac,unix,linux:posix"
   ]
  },
  {
   "cell_type": "code",
   "execution_count": 10,
   "metadata": {},
   "outputs": [
    {
     "name": "stdout",
     "output_type": "stream",
     "text": [
      "..\n",
      ".\n"
     ]
    }
   ],
   "source": [
    "print(os.pardir)\n",
    "print(os.curdir)"
   ]
  },
  {
   "cell_type": "code",
   "execution_count": 12,
   "metadata": {},
   "outputs": [
    {
     "name": "stdout",
     "output_type": "stream",
     "text": [
      "\\\n",
      "\r\n",
      "\n"
     ]
    }
   ],
   "source": [
    "print(os.sep)\n",
    "print(os.linesep)"
   ]
  },
  {
   "cell_type": "code",
   "execution_count": 13,
   "metadata": {},
   "outputs": [
    {
     "name": "stdout",
     "output_type": "stream",
     "text": [
      "/home/tlxy/ljb\n"
     ]
    }
   ],
   "source": [
    "# 在路径相关的操作中，不要手动拼写地址，因为手动拼写的路径可能不具有可移植性\n",
    "path = '/home/tlxy' + '/'+ 'ljb'\n",
    "print(path)"
   ]
  },
  {
   "cell_type": "code",
   "execution_count": 15,
   "metadata": {},
   "outputs": [
    {
     "name": "stdout",
     "output_type": "stream",
     "text": [
      "nt\n"
     ]
    }
   ],
   "source": [
    "\n",
    "print(os.name)"
   ]
  },
  {
   "cell_type": "markdown",
   "metadata": {},
   "source": [
    "# os.path 模块，跟路径相关的模块"
   ]
  },
  {
   "cell_type": "code",
   "execution_count": 19,
   "metadata": {},
   "outputs": [],
   "source": [
    "import os.path as op"
   ]
  },
  {
   "cell_type": "code",
   "execution_count": 21,
   "metadata": {},
   "outputs": [
    {
     "name": "stdout",
     "output_type": "stream",
     "text": [
      "E:\\xx\\PycharmProjects\\ljbgit\\jupyter\\3-高级语法\n",
      "E:\\xx\\PycharmProjects\\ljbgit\\jupyter\n"
     ]
    }
   ],
   "source": [
    "# abspath() 将路径转化为绝对路径\n",
    "# 格式：os.path.abspath('路径')\n",
    "# 返回值： 路径的绝对路径形式\n",
    "\n",
    "# linux 中\n",
    "# .点号，代表当前目录\n",
    "# ..双点，代表父目录\n",
    "absp = op.abspath(\".\")\n",
    "print(absp)\n",
    "absp1 = op.abspath(\"..\")\n",
    "print(absp1)"
   ]
  },
  {
   "cell_type": "code",
   "execution_count": 17,
   "metadata": {},
   "outputs": [
    {
     "name": "stdout",
     "output_type": "stream",
     "text": [
      "Help on function abspath in module ntpath:\n",
      "\n",
      "abspath(path)\n",
      "    Return the absolute version of a path.\n",
      "\n"
     ]
    }
   ],
   "source": [
    "help(os.path.abspath)"
   ]
  },
  {
   "cell_type": "code",
   "execution_count": 24,
   "metadata": {},
   "outputs": [
    {
     "name": "stdout",
     "output_type": "stream",
     "text": [
      "jupyter\n",
      "zj\n"
     ]
    }
   ],
   "source": [
    "# basename() 获取路径中的文件名部分\n",
    "# 格式：os.path.basename('路径')\n",
    "# 返回值：文件名字符串\n",
    "\n",
    "bn= op.basename('E:\\\\xx\\\\PycharmProjects\\\\ljbgit\\\\jupyter')\n",
    "print(bn)\n",
    "bn= op.basename('E:\\\\xx\\\\PycharmProjects\\\\ljbgit\\\\jupyter\\\\zj')\n",
    "print(bn)"
   ]
  },
  {
   "cell_type": "code",
   "execution_count": 27,
   "metadata": {},
   "outputs": [
    {
     "name": "stdout",
     "output_type": "stream",
     "text": [
      "E:\\xx\\PycharmProjects\\ljbgit\\jupyter\\zj\n"
     ]
    }
   ],
   "source": [
    "# join() 将多个路径拼合成一个路径\n",
    "# 格式：os.path.join(路径1，路径2...)\n",
    "# 返回值： 组合之后的新路径字符串\n",
    "\n",
    "bd = 'E:\\\\xx\\\\PycharmProjects\\\\ljbgit\\\\jupyter'\n",
    "fn = 'zj'\n",
    "\n",
    "p = op.join(bd,fn)\n",
    "print(p)"
   ]
  },
  {
   "cell_type": "code",
   "execution_count": 28,
   "metadata": {},
   "outputs": [
    {
     "name": "stdout",
     "output_type": "stream",
     "text": [
      "Help on function join in module ntpath:\n",
      "\n",
      "join(path, *paths)\n",
      "    # Join two (or more) paths.\n",
      "\n"
     ]
    }
   ],
   "source": [
    "help(os.path.join)"
   ]
  },
  {
   "cell_type": "code",
   "execution_count": 32,
   "metadata": {},
   "outputs": [
    {
     "name": "stdout",
     "output_type": "stream",
     "text": [
      "('E:\\\\xx\\\\PycharmProjects\\\\ljbgit\\\\jupyter', 'zj')\n",
      "E:\\xx\\PycharmProjects\\ljbgit\\jupyter\n",
      "zj\n"
     ]
    }
   ],
   "source": [
    "# split() 将路径切割为文件夹部分和当前文件部分\n",
    "# 格式： os.path.split(路径)\n",
    "# 返回值： 路径和文件名组成的元组\n",
    "\n",
    "# t = os.path.split(E:\\\\xx\\\\PycharmProjects\\\\ljbgit\\\\jupyter\\\\zj) \n",
    "t = op.split('E:\\\\xx\\\\PycharmProjects\\\\ljbgit\\\\jupyter\\\\zj')\n",
    "print(t)\n",
    "\n",
    "d,p = op.split('E:\\\\xx\\\\PycharmProjects\\\\ljbgit\\\\jupyter\\\\zj')\n",
    "print(d)\n",
    "print(p)"
   ]
  },
  {
   "cell_type": "code",
   "execution_count": 34,
   "metadata": {},
   "outputs": [
    {
     "name": "stdout",
     "output_type": "stream",
     "text": [
      "True\n"
     ]
    }
   ],
   "source": [
    "# isdir() 检测是否是目录\n",
    "# 格式：os.path.isdir('路径')\n",
    "# 返回值： 布尔值\n",
    "\n",
    "rst = op.isdir('E:\\\\xx\\\\PycharmProjects\\\\ljbgit\\\\jupyter\\\\zj')\n",
    "print(rst)"
   ]
  },
  {
   "cell_type": "code",
   "execution_count": 38,
   "metadata": {},
   "outputs": [
    {
     "name": "stdout",
     "output_type": "stream",
     "text": [
      "False\n"
     ]
    }
   ],
   "source": [
    "# exists() 检测文件或者目录是否存在\n",
    "# 格式： os.path.exists('路径')\n",
    "# 返回值：布尔值\n",
    "\n",
    "e = op.exists('E:\\\\xx\\\\PycharmProjects\\\\ljbgit\\\\jupyter\\\\jj')\n",
    "print(e)"
   ]
  },
  {
   "cell_type": "markdown",
   "metadata": {},
   "source": [
    "# shutil 模块\n"
   ]
  },
  {
   "cell_type": "code",
   "execution_count": 39,
   "metadata": {},
   "outputs": [],
   "source": [
    "import shutil"
   ]
  },
  {
   "cell_type": "code",
   "execution_count": 42,
   "metadata": {},
   "outputs": [
    {
     "name": "stdout",
     "output_type": "stream",
     "text": [
      "E:\\xx\\zjy.txt\n"
     ]
    }
   ],
   "source": [
    "# copy() 复制文件\n",
    "# 格式：shutil.copy('来源路径','目标路径')\n",
    "# 返回值：返回目标路径\n",
    "# copy的同时，可以给文件重新命名\n",
    "\n",
    "rst = shutil.copy('E:\\\\xx\\\\PycharmProjects\\\\ljbgit\\\\jupyter\\\\zj\\\\lzy.txt','E:\\\\xx\\\\zjy.txt')\n",
    "print(rst)"
   ]
  },
  {
   "cell_type": "code",
   "execution_count": 46,
   "metadata": {},
   "outputs": [
    {
     "name": "stdout",
     "output_type": "stream",
     "text": [
      "E:\\xx\\zjy.txt\n"
     ]
    }
   ],
   "source": [
    "# copy2() 复制文件，保留元数据(文件信息)\n",
    "# 格式：shutil.copy2('来源路径','目标路径')\n",
    "# 返回值：返回目标路径\n",
    "# 注意：copy与copy2的唯一区别在于copy2复制文件时尽量保留元数据\n",
    "\n"
   ]
  },
  {
   "cell_type": "code",
   "execution_count": 47,
   "metadata": {},
   "outputs": [
    {
     "name": "stdout",
     "output_type": "stream",
     "text": [
      "E:\\xx\\zjy.txt\n"
     ]
    }
   ],
   "source": [
    "# copyfile() 将一个文件中的内容复制到另一个文件中\n",
    "# 格式：shutil.copyfile('来源路径','目标路径')\n",
    "# 返回值：无\n",
    "\n",
    "rst=shutil.copyfile('E:\\\\xx\\\\PycharmProjects\\\\ljbgit\\\\jupyter\\\\zj\\\\lzy.txt','E:\\\\xx\\\\zjy.txt')\n",
    "print(rst)"
   ]
  },
  {
   "cell_type": "code",
   "execution_count": 48,
   "metadata": {},
   "outputs": [
    {
     "name": "stdout",
     "output_type": "stream",
     "text": [
      "Help on function copyfile in module shutil:\n",
      "\n",
      "copyfile(src, dst, *, follow_symlinks=True)\n",
      "    Copy data from src to dst.\n",
      "    \n",
      "    If follow_symlinks is not set and src is a symbolic link, a new\n",
      "    symlink will be created instead of copying the file it points to.\n",
      "\n"
     ]
    }
   ],
   "source": [
    "help(shutil.copyfile)"
   ]
  },
  {
   "cell_type": "code",
   "execution_count": 50,
   "metadata": {},
   "outputs": [],
   "source": [
    "# move() 移动文件/文件夹\n",
    "# 格式：shutil.move('来源路径','目标路径')\n",
    "# 返回值： 目标路径\n",
    "\n",
    "# rst = shutil.move('E:\\\\xx\\\\PycharmProjects\\\\ljbgit\\\\jupyter\\\\zj','E:\\\\xx')\n",
    "# print(rst)\n",
    "                  "
   ]
  },
  {
   "cell_type": "markdown",
   "metadata": {},
   "source": [
    "# 归档和压缩\n",
    "- 归档：把多个文件或着文件夹合并到一个文件当中\n",
    "- 压缩：用算法把多个文件或者文件夹无损或者有损合并到一个文件当中"
   ]
  },
  {
   "cell_type": "code",
   "execution_count": 54,
   "metadata": {},
   "outputs": [
    {
     "name": "stdout",
     "output_type": "stream",
     "text": [
      "E:\\xx\\PycharmProjects\\ljbgit\\jupyter\\jb.zip\n"
     ]
    }
   ],
   "source": [
    "# make_archive() 归档操作\n",
    "# 格式：shutil.make_archive('归档之后的目录和文件名','后缀','需要归档的文件夹')\n",
    "# 返回值：归档之后的地址\n",
    "\n",
    "\n",
    "# 是想得到一个叫jb.my的归档文件\n",
    "rst = shutil.make_archive('E:\\\\xx\\\\PycharmProjects\\\\ljbgit\\\\jupyter\\\\jb','zip','E:\\\\xx\\\\PycharmProjects\\\\ljbgit\\\\jupyter\\\\zj')\n",
    "print(rst)"
   ]
  },
  {
   "cell_type": "code",
   "execution_count": 55,
   "metadata": {},
   "outputs": [
    {
     "name": "stdout",
     "output_type": "stream",
     "text": [
      "Help on function make_archive in module shutil:\n",
      "\n",
      "make_archive(base_name, format, root_dir=None, base_dir=None, verbose=0, dry_run=0, owner=None, group=None, logger=None)\n",
      "    Create an archive file (eg. zip or tar).\n",
      "    \n",
      "    'base_name' is the name of the file to create, minus any format-specific\n",
      "    extension; 'format' is the archive format: one of \"zip\", \"tar\", \"gztar\",\n",
      "    \"bztar\", or \"xztar\".  Or any other registered format.\n",
      "    \n",
      "    'root_dir' is a directory that will be the root directory of the\n",
      "    archive; ie. we typically chdir into 'root_dir' before creating the\n",
      "    archive.  'base_dir' is the directory where we start archiving from;\n",
      "    ie. 'base_dir' will be the common prefix of all files and\n",
      "    directories in the archive.  'root_dir' and 'base_dir' both default\n",
      "    to the current directory.  Returns the name of the archive file.\n",
      "    \n",
      "    'owner' and 'group' are used when creating a tar archive. By default,\n",
      "    uses the current owner and group.\n",
      "\n"
     ]
    }
   ],
   "source": [
    "help(shutil.make_archive)"
   ]
  },
  {
   "cell_type": "code",
   "execution_count": 56,
   "metadata": {},
   "outputs": [],
   "source": [
    "# unpack_archive() 解包操作\n",
    "# 格式：shutil.unpack_archive('归档文件地址','解包之后的地址')\n",
    "# 返回值： 解包之后的地址"
   ]
  },
  {
   "cell_type": "markdown",
   "metadata": {},
   "source": [
    "# zip- 压缩包\n",
    "- 模块名称叫：zipfile"
   ]
  },
  {
   "cell_type": "code",
   "execution_count": 59,
   "metadata": {},
   "outputs": [],
   "source": [
    "import zipfile"
   ]
  },
  {
   "cell_type": "code",
   "execution_count": 61,
   "metadata": {},
   "outputs": [],
   "source": [
    "# zipfile.ZipFile(file[,mode[,compression[,allowZip64]]])\n",
    "# 创建一个ZipFile对象，表示一个zip文件，参数file表示文件的路径或者类文件对象\n",
    "\n",
    "zf = zipfile.ZipFile('E:\\\\xx\\\\PycharmProjects\\\\ljbgit\\\\jupyter\\\\jb.zip')\n"
   ]
  },
  {
   "cell_type": "code",
   "execution_count": 63,
   "metadata": {},
   "outputs": [
    {
     "name": "stdout",
     "output_type": "stream",
     "text": [
      "<ZipInfo filename='lzy.txt' compress_type=deflate filemode='-rw-rw-rw-' file_size=17 compress_size=16>\n"
     ]
    }
   ],
   "source": [
    "# ZipFile.getinfo(name)\n",
    "# 获取zip文档内指定文件的信息，返回一个zipfile.ZipInfo对象，它包括文件的详细信息\n",
    "\n",
    "rst = zf.getinfo('lzy.txt')\n",
    "print(rst)"
   ]
  },
  {
   "cell_type": "code",
   "execution_count": 64,
   "metadata": {},
   "outputs": [
    {
     "name": "stdout",
     "output_type": "stream",
     "text": [
      "['lzy.txt', 'zjy.txt']\n"
     ]
    }
   ],
   "source": [
    "# ZipFile.namelist()\n",
    "# 获取zip文档内所有文件的名称列表\n",
    "\n",
    "nl = zf.namelist()\n",
    "print(nl)"
   ]
  },
  {
   "cell_type": "code",
   "execution_count": 65,
   "metadata": {},
   "outputs": [
    {
     "name": "stdout",
     "output_type": "stream",
     "text": [
      "None\n"
     ]
    }
   ],
   "source": [
    "# ZipFile.extractall([path[,memberst[,pwd]]])\n",
    "# 解压zip文档中的所有文件到当前目录，\n",
    "# 参数members的默认值为zip文档内的所有文件名称列表\n",
    "\n",
    "rst = zf.extractall('E:\\\\xx\\\\PycharmProjects')\n",
    "print(rst)"
   ]
  },
  {
   "cell_type": "markdown",
   "metadata": {},
   "source": [
    "# random\n",
    "- 随机数\n",
    "- 所有的随机模块都是伪随机"
   ]
  },
  {
   "cell_type": "code",
   "execution_count": 66,
   "metadata": {},
   "outputs": [],
   "source": [
    "import random"
   ]
  },
  {
   "cell_type": "code",
   "execution_count": 68,
   "metadata": {},
   "outputs": [
    {
     "name": "stdout",
     "output_type": "stream",
     "text": [
      "0.7161732896104632\n"
     ]
    }
   ],
   "source": [
    "# random() 获取0-1之间的随机小数\n",
    "# 格式：random.random()\n",
    "# 返回值：随机0-1之间的小数\n",
    "\n",
    "print(random.random())\n",
    "\n",
    "# 作业：利用random函数，注意是函数，生成0-100之间的整数"
   ]
  },
  {
   "cell_type": "code",
   "execution_count": 91,
   "metadata": {},
   "outputs": [
    {
     "name": "stdout",
     "output_type": "stream",
     "text": [
      "16\n"
     ]
    }
   ],
   "source": [
    "print(random.randrange(0,101))"
   ]
  },
  {
   "cell_type": "code",
   "execution_count": 115,
   "metadata": {},
   "outputs": [
    {
     "name": "stdout",
     "output_type": "stream",
     "text": [
      "B\n"
     ]
    }
   ],
   "source": [
    "# choice() 随机返回序列中的某个值\n",
    "# 格式：random.choice(序列)\n",
    "# 返回：序列中的某个值\n",
    "\n",
    "# string.ascii_letters 表示所有大小写字母\n",
    "import string\n",
    "l = string.ascii_letters\n",
    "rst = random.choice(l)\n",
    "print(rst)"
   ]
  },
  {
   "cell_type": "code",
   "execution_count": 126,
   "metadata": {},
   "outputs": [
    {
     "name": "stdout",
     "output_type": "stream",
     "text": [
      "2694310604424\n",
      "2694310604424\n"
     ]
    }
   ],
   "source": [
    "# shuffle() 随机打乱列表\n",
    "# 格式：random.shuffle(列表)\n",
    "# 将参数列表原地打乱\n",
    "# 返回值：None\n",
    "\n",
    "l = string.ascii_letters\n",
    "l = list(l)\n",
    "print(id(l))\n",
    "random.shuffle(l)\n",
    "# print(l)\n",
    "print(id(l))"
   ]
  },
  {
   "cell_type": "code",
   "execution_count": 127,
   "metadata": {},
   "outputs": [
    {
     "name": "stdout",
     "output_type": "stream",
     "text": [
      "18\n",
      "Help on method randint in module random:\n",
      "\n",
      "randint(a, b) method of random.Random instance\n",
      "    Return random integer in range [a, b], including both end points.\n",
      "\n"
     ]
    }
   ],
   "source": [
    "#  random.randint(a,b): 返回一个[a,b]之间的随机整数\n",
    "print(random.randint(0,100))\n",
    "help(random.randint)"
   ]
  },
  {
   "cell_type": "code",
   "execution_count": 97,
   "metadata": {},
   "outputs": [],
   "source": [
    "import string"
   ]
  },
  {
   "cell_type": "code",
   "execution_count": 96,
   "metadata": {},
   "outputs": [
    {
     "name": "stdout",
     "output_type": "stream",
     "text": [
      "abcdefghijklmnopqrstuvwxyzABCDEFGHIJKLMNOPQRSTUVWXYZ\n"
     ]
    }
   ],
   "source": [
    "print(string.ascii_letters)"
   ]
  }
 ],
 "metadata": {
  "kernelspec": {
   "display_name": "Python 3",
   "language": "python",
   "name": "python3"
  },
  "language_info": {
   "codemirror_mode": {
    "name": "ipython",
    "version": 3
   },
   "file_extension": ".py",
   "mimetype": "text/x-python",
   "name": "python",
   "nbconvert_exporter": "python",
   "pygments_lexer": "ipython3",
   "version": "3.7.1"
  }
 },
 "nbformat": 4,
 "nbformat_minor": 2
}
