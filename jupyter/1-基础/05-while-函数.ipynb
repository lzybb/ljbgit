{
 "cells": [
  {
   "cell_type": "markdown",
   "metadata": {},
   "source": [
    "# while循环\n",
    "- 一个循环语句\n",
    "- 表示当某条件成立的时候，就循环\n",
    "- 不知道具体循环次数，但能确定循环的条件的时候用while循环\n",
    "- while语法：\n",
    "\n",
    "        while 条件表达式：\n",
    "            语句块\n",
    "            \n",
    "        #另外一种表达式\n",
    "        while 条件表达式：\n",
    "            语句块1\n",
    "        else:\n",
    "            语句块2"
   ]
  },
  {
   "cell_type": "code",
   "execution_count": 5,
   "metadata": {},
   "outputs": [
    {
     "name": "stdout",
     "output_type": "stream",
     "text": [
      "第1年拿了106700.0块钱\n",
      "第2年拿了113848.9块钱\n",
      "第3年拿了121476.77629999998块钱\n",
      "第4年拿了129615.72031209998块钱\n",
      "第5年拿了138299.97357301068块钱\n",
      "第6年拿了147566.07180240238块钱\n",
      "第7年拿了157452.99861316333块钱\n",
      "第8年拿了168002.34952024528块钱\n",
      "第9年拿了179258.5069381017块钱\n",
      "第10年拿了191268.8269029545块钱\n",
      "第11年拿了204083.83830545243块钱\n"
     ]
    }
   ],
   "source": [
    "# 如果年利率是6.7%，本利是每年翻滚，则多少年后本钱会翻倍\n",
    "\n",
    "bq = 100000\n",
    "y = 0\n",
    "\n",
    "while bq < 200000 :\n",
    "    bq = bq * (1+6.7e-2)\n",
    "    y +=1\n",
    "    print(\"第{0}年拿了{1}块钱\".format(y,bq)  )\n"
   ]
  },
  {
   "cell_type": "code",
   "execution_count": 7,
   "metadata": {},
   "outputs": [
    {
     "name": "stdout",
     "output_type": "stream",
     "text": [
      "第11年拿了204083.83830545243块钱\n",
      "终于11年后翻倍了\n"
     ]
    }
   ],
   "source": [
    "while bq < 200000 :\n",
    "    bq = bq * (1+6.7e-2)\n",
    "    y +=1\n",
    "    \n",
    "else:\n",
    "    print(\"第{0}年拿了{1}块钱\".format(y,bq)  )\n",
    "    print(\"终于{0}年后翻倍了\".format(y) )"
   ]
  },
  {
   "cell_type": "markdown",
   "metadata": {},
   "source": [
    "# 函数\n",
    "- 代码的一种组织形式\n",
    "- 一个函数一般完成一项特定的功能\n",
    "- 函数使用\n",
    "    - 函数需要先定义\n",
    "    - 使用函数，俗称调用"
   ]
  },
  {
   "cell_type": "code",
   "execution_count": 9,
   "metadata": {
    "collapsed": true
   },
   "outputs": [],
   "source": [
    "# 定义一个函数\n",
    "# 只是定义的话不会执行\n",
    "# 1.def关键字，后面跟一个空格\n",
    "# 2.函数名，自己定义，起名需要遵循命名规则，约定俗成，大驼峰命名只给类用\n",
    "# 3.后面括号和冒号不能省，括号内可以有参数\n",
    "# 4.函数内所有代码缩进\n",
    "\n",
    "def func():\n",
    "    print(\"我是一个函数\")\n",
    "    print(\"我要完成一定功能\")\n",
    "    print(\"我结束了\")"
   ]
  },
  {
   "cell_type": "code",
   "execution_count": 11,
   "metadata": {},
   "outputs": [
    {
     "name": "stdout",
     "output_type": "stream",
     "text": [
      "我是一个函数\n",
      "我要完成一定功能\n",
      "我结束了\n"
     ]
    }
   ],
   "source": [
    "# 函数的调用\n",
    "# 直接函数名后面跟括号\n",
    "func()"
   ]
  },
  {
   "cell_type": "markdown",
   "metadata": {},
   "source": [
    "### 函数的参数和返回值\n",
    "- 参数： 负责给函数传递一些必要的数据或者信息\n",
    "    - 形参（形式参数）：在函数定义的时候用到的参数没有具体值，只是一个站位的符号，成为形参\n",
    "    - 实参（实际参数）：在调用函数的时候输入的值\n",
    "- 返回值：函数的执行结果\n",
    "    - 使用return关键字\n",
    "    - 如果没有return，默认返回一个none\n",
    "    - 函数一旦执行return语句，则无条件返回，即结束函数的执行"
   ]
  },
  {
   "cell_type": "code",
   "execution_count": 14,
   "metadata": {},
   "outputs": [
    {
     "name": "stdout",
     "output_type": "stream",
     "text": [
      "lzy,你怎么了啊?\n",
      "Sir,你不理我就走啊！\n"
     ]
    }
   ],
   "source": [
    "# 参数的定义和使用\n",
    "# 参数person只是一个符号，代表的是调用的时候的某一个数据\n",
    "# 调用的时候，会被p的值代替函数中所有的person\n",
    "def hello(person):\n",
    "    print(\"{0},你怎么了啊?\".format(person)  )\n",
    "    print(\"Sir,你不理我就走啊！\")\n",
    "\n",
    "p = \"lzy\"\n",
    "hello(p)\n",
    "    "
   ]
  },
  {
   "cell_type": "code",
   "execution_count": 33,
   "metadata": {},
   "outputs": [
    {
     "name": "stdout",
     "output_type": "stream",
     "text": [
      "lzy,你怎么了啊?\n",
      "Sir,你不理我就走啊！\n",
      "\n",
      "我已经跟lzy打过招呼了，lzy不理我\n"
     ]
    }
   ],
   "source": [
    "# return语句的基本使用\n",
    "# 函数打完招呼后返回一句话\n",
    "def hello(person):\n",
    "    print(\"{0},你怎么了啊?\".format(person)  )\n",
    "    print(\"Sir,你不理我就走啊！\")\n",
    "    \n",
    "    return \"我已经跟{0}打过招呼了，{1}不理我\".format(person,person)\n",
    "\n",
    "p = \"lzy\"\n",
    "rst = hello(p)\n",
    "print()\n",
    "\n",
    "print(rst)"
   ]
  },
  {
   "cell_type": "code",
   "execution_count": 34,
   "metadata": {},
   "outputs": [
    {
     "name": "stdout",
     "output_type": "stream",
     "text": [
      "Help on built-in function print in module builtins:\n",
      "\n",
      "print(...)\n",
      "    print(value, ..., sep=' ', end='\\n', file=sys.stdout, flush=False)\n",
      "    \n",
      "    Prints the values to a stream, or to sys.stdout by default.\n",
      "    Optional keyword arguments:\n",
      "    file:  a file-like object (stream); defaults to the current sys.stdout.\n",
      "    sep:   string inserted between values, default a space.\n",
      "    end:   string appended after the last value, default a newline.\n",
      "    flush: whether to forcibly flush the stream.\n",
      "\n"
     ]
    }
   ],
   "source": [
    "# 查找函数帮助文档\n",
    "# 1.用help函数\n",
    "help(print)"
   ]
  },
  {
   "cell_type": "code",
   "execution_count": 18,
   "metadata": {},
   "outputs": [
    {
     "name": "stdout",
     "output_type": "stream",
     "text": [
      "lzy,你怎么了啊?\n",
      "哈哈，我提前结束了\n"
     ]
    }
   ],
   "source": [
    "# return案例2\n",
    "\n",
    "def hello(person):\n",
    "    print(\"{0},你怎么了啊?\".format(person)  )\n",
    "    return \"哈哈，我提前结束了\"\n",
    "    print(\"Sir,你不理我就走啊！\")    \n",
    "    return \"我已经跟{0}打过招呼了，{1}不理我\".format(person,person)\n",
    "\n",
    "p = \"lzy\"\n",
    "rst = hello(p)\n",
    "print(rst)"
   ]
  },
  {
   "cell_type": "code",
   "execution_count": 44,
   "metadata": {},
   "outputs": [
    {
     "name": "stdout",
     "output_type": "stream",
     "text": [
      "1--1 \n",
      "2--2 4 \n",
      "3--3 6 9 \n",
      "4--4 8 12 16 \n",
      "5--5 10 15 20 25 \n",
      "6--6 12 18 24 30 36 \n",
      "7--7 14 21 28 35 42 49 \n",
      "8--8 16 24 32 40 48 56 64 \n",
      "9--9 18 27 36 45 54 63 72 81 \n"
     ]
    }
   ],
   "source": [
    "# 九九乘法表\n",
    "# 自编程序\n",
    "\n",
    "# 定义一个函数\n",
    "def printline(i):\n",
    "    for j in range(i+1):\n",
    "        print( (j+1)*(i+1),end=\" \" )\n",
    "    print()\n",
    "\n",
    "\n",
    "for i in range(9):\n",
    "    print(\"{0}--\".format(i+1),end=\"\" )\n",
    "    p = printline(i)\n"
   ]
  },
  {
   "cell_type": "markdown",
   "metadata": {},
   "source": [
    "## 参数详解\n",
    "- [参考资料](https://www.cnblogs.com/bingabcd/p/6671368.html)\n",
    "- python参考资料： headfirst python -> 零基础入门学习python（小甲鱼）->习题->后期考虑公开免费课\n",
    "- 参数分类\n",
    "    - 普通参数\n",
    "    - 默认参数\n",
    "    - 关键字参数\n",
    "    - 收集参数\n",
    "    \n",
    "- 普通参数\n",
    "    - c参见上例\n",
    "    - 定义的时候直接定义变量名\n",
    "    - 调用的时候直接把变量或者值放入指定位置\n",
    "    \n",
    "    \n",
    "    \n",
    "                    def 函数名（参数1，参数2，...）:\n",
    "                        函数体\n",
    "                        \n",
    "                    #调用\n",
    "                    函数名（value1,value2，...)\n",
    "                    \n",
    "                    #调用的时候，具体值参考的是位置，按位置赋值\n",
    "                    \n",
    "- 默认参数\n",
    "    - 形参带有默认值\n",
    "    - 调用到时候，如果没有对相应形参赋值，则使用默认值\n",
    "    \n",
    "               def func_name(p1=v1,p2=v2....):\n",
    "                   func_block\n",
    "                   \n",
    "               #调用1\n",
    "               func_name()\n",
    "               \n",
    "               #调用2\n",
    "               value1 =100\n",
    "               value2 =200\n",
    "               func_name(value1,value2)\n",
    "                        \n",
    "\n"
   ]
  },
  {
   "cell_type": "code",
   "execution_count": 1,
   "metadata": {
    "collapsed": true
   },
   "outputs": [],
   "source": [
    "# 默认参数示例\n",
    "# 报名函数，需要知道学生性别\n",
    "# 学习python的学生基本都是男生，所以，报名的时候如果没有特别指定，我们人物是男生\n",
    "def reg(name,age,gender=\"male\" ):\n",
    "    if gender == \"male\":\n",
    "        print(\"{0} is {1},and he is a good student \".format(name,age) )\n",
    "    else:\n",
    "        print(\"{0} is {1},and she is a good student \".format(name,age) )"
   ]
  },
  {
   "cell_type": "code",
   "execution_count": 4,
   "metadata": {},
   "outputs": [
    {
     "name": "stdout",
     "output_type": "stream",
     "text": [
      "lzy is 6,and he is a good student \n",
      "zj is 33,and she is a good student \n"
     ]
    }
   ],
   "source": [
    "# 调用默认参数函数案例1\n",
    "\n",
    "reg(\"lzy\",6)\n",
    "\n",
    "reg(\"zj\",33,\"female\")"
   ]
  },
  {
   "cell_type": "code",
   "execution_count": 7,
   "metadata": {},
   "outputs": [
    {
     "name": "stdout",
     "output_type": "stream",
     "text": [
      "lzy今天是周日,好好玩吧\n",
      "zj今天是周六,好好玩吧\n",
      "ljb今天是周二,努力工作吧\n"
     ]
    }
   ],
   "source": [
    "# 自编程序\n",
    "# 周末不上班，好好玩\n",
    "\n",
    "def  work(name,day=\"周日\" ):\n",
    "    if day == \"周六\" or day == \"周日\":\n",
    "        print(\"{0}今天是{1},好好玩吧\".format(name,day) )\n",
    "    else:\n",
    "        print(\"{0}今天是{1},努力工作吧\".format(name,day) )\n",
    "        \n",
    "        \n",
    "work(\"lzy\",\"周日\") \n",
    "work(\"zj\",\"周六\")\n",
    "work(\"ljb\",\"周二\")\n"
   ]
  }
 ],
 "metadata": {
  "kernelspec": {
   "display_name": "Python 3",
   "language": "python",
   "name": "python3"
  },
  "language_info": {
   "codemirror_mode": {
    "name": "ipython",
    "version": 3
   },
   "file_extension": ".py",
   "mimetype": "text/x-python",
   "name": "python",
   "nbconvert_exporter": "python",
   "pygments_lexer": "ipython3",
   "version": "3.6.3"
  }
 },
 "nbformat": 4,
 "nbformat_minor": 2
}
