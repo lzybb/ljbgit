{
 "cells": [
  {
   "cell_type": "markdown",
   "metadata": {},
   "source": [
    "# Log模块资料\n",
    "- https://www.cnblogs.com/yyds/p/6901864.html"
   ]
  },
  {
   "cell_type": "markdown",
   "metadata": {},
   "source": [
    "# Python语言的高级特性"
   ]
  },
  {
   "cell_type": "markdown",
   "metadata": {},
   "source": [
    "## 函数式编程(FunctionalProgramming)\n",
    "- 基于lambda演算的一种编程方式\n",
    "    - 程序中只有函数\n",
    "    - 函数可以作为参数，同样可以作为返回值\n",
    "    - 纯函数式编程语言：LISP,Haskell\n",
    "    \n",
    "- Python函数式编程只是借鉴函数式编程的一些特点，可以理解成一半函数式一半Python\n",
    "- 需要讲述\n",
    "    - 高阶函数\n",
    "    - 返回函数\n",
    "    - 匿名函数\n",
    "    - 装饰器\n",
    "    - 偏函数"
   ]
  },
  {
   "cell_type": "markdown",
   "metadata": {},
   "source": [
    "### lambda表达式\n",
    "- 函数：最大程度复用代码\n",
    "    - 存在问题：如果函数很小，很短，则会造成啰嗦\n",
    "    - 如果函数被调用次数少，则会造成浪费\n",
    "    - 对于阅读者来说，造成阅读流程的被迫中断\n",
    "    \n",
    "- lambda表达式（匿名函数）：\n",
    "    - 一个表达式，函数体相对简单\n",
    "    - 不是一个代码块，仅仅是一个表达式\n",
    "    - 可以有参数，有多个参数也可以，用,逗号隔开"
   ]
  },
  {
   "cell_type": "code",
   "execution_count": 2,
   "metadata": {},
   "outputs": [
    {
     "name": "stdout",
     "output_type": "stream",
     "text": [
      "AAAAA\n"
     ]
    }
   ],
   "source": [
    "# '小'函数举例\n",
    "def printA():\n",
    "    print('AAAAA')\n",
    "    \n",
    "printA()"
   ]
  },
  {
   "cell_type": "code",
   "execution_count": 4,
   "metadata": {},
   "outputs": [
    {
     "name": "stdout",
     "output_type": "stream",
     "text": [
      "<function <lambda> at 0x000002223EC7DC80>\n"
     ]
    },
    {
     "data": {
      "text/plain": [
       "8900"
      ]
     },
     "execution_count": 4,
     "metadata": {},
     "output_type": "execute_result"
    }
   ],
   "source": [
    "# lambda 表达式的用法\n",
    "# 1. 以lambda开头\n",
    "# 2. 紧跟一定的参数（如果有的话）\n",
    "# 3. 参数后用冒号和表达式主体隔开\n",
    "# 4. 只是一个表达式，所以没有return\n",
    "\n",
    "# 计算一个数字的100倍\n",
    "# 因为就是一个表达式，所以没有return\n",
    "stm = lambda x: x*100\n",
    "print(stm)\n",
    "# 使用上跟函数调用一模一样\n",
    "stm(89)"
   ]
  },
  {
   "cell_type": "code",
   "execution_count": 6,
   "metadata": {},
   "outputs": [
    {
     "data": {
      "text/plain": [
       "246"
      ]
     },
     "execution_count": 6,
     "metadata": {},
     "output_type": "execute_result"
    }
   ],
   "source": [
    "stm2 = lambda x,y,z: x+y*10+z*32\n",
    "stm2(4,5,6)"
   ]
  },
  {
   "cell_type": "markdown",
   "metadata": {},
   "source": [
    "### 高阶函数\n",
    "- 把函数作为参数使用的函数，叫高阶函数\n"
   ]
  },
  {
   "cell_type": "code",
   "execution_count": 7,
   "metadata": {},
   "outputs": [],
   "source": [
    "# 变量可以赋值\n",
    "a=100\n",
    "b=a"
   ]
  },
  {
   "cell_type": "code",
   "execution_count": 10,
   "metadata": {},
   "outputs": [
    {
     "name": "stdout",
     "output_type": "stream",
     "text": [
      "<function funA at 0x000002223EC7D8C8>\n",
      "In funA\n"
     ]
    }
   ],
   "source": [
    "# 函数名称就是一个变量\n",
    "def funA():\n",
    "    print('In funA')\n",
    "print(funA)\n",
    "\n",
    "funB= funA\n",
    "funB()"
   ]
  },
  {
   "cell_type": "markdown",
   "metadata": {},
   "source": [
    "### 以上代码得出的结论：\n",
    "- 函数名称是变量\n",
    "- funB 和 funA只是名称不一样而已\n",
    "- 既然函数名称是变量，则应该可以被当作参数传入另一个函数中"
   ]
  },
  {
   "cell_type": "code",
   "execution_count": 16,
   "metadata": {},
   "outputs": [
    {
     "name": "stdout",
     "output_type": "stream",
     "text": [
      "2100\n",
      "2100\n",
      "672\n"
     ]
    }
   ],
   "source": [
    "# 高阶函数举例\n",
    "# funA是普通函数，返回一个传入数字的100倍\n",
    "\n",
    "def funA(n):\n",
    "    return n*100\n",
    "\n",
    "# 再写一个函数，把传入参数*12倍，利用高阶函数\n",
    "def funB(n):\n",
    "    return funA(n)*3\n",
    "\n",
    "print(funB(7))\n",
    "\n",
    "# 写一个高阶函数\n",
    "def funC(n,f):\n",
    "    return f(n)*3\n",
    "print(funC(7,funA))\n",
    "\n",
    "# 比较funC和funB，显然funC的写法要优于funB:比较灵活可以随时换参数函数\n",
    "\n",
    "def funD(n):\n",
    "    return n*32\n",
    "\n",
    "print(funC(7,funD))\n",
    "\n"
   ]
  },
  {
   "cell_type": "markdown",
   "metadata": {},
   "source": [
    "### 系统高阶函数-map\n",
    "- 原意就是映射，即把集合或者列表中的元素，每一个元素按照一定规则\n",
    "    进行操作，生成一个新的列表或者集合\n",
    "- map函数是系统提供的具有映射功能的函数，返回值是一个迭代对象"
   ]
  },
  {
   "cell_type": "code",
   "execution_count": 15,
   "metadata": {},
   "outputs": [
    {
     "name": "stdout",
     "output_type": "stream",
     "text": [
      "[0, 10, 20, 30, 40, 50, 60, 70, 80, 90]\n",
      "<class 'map'>\n",
      "<map object at 0x00000247DAE31CF8>\n",
      "[0, 12, 24, 36, 48, 60, 72, 84, 96, 108]\n",
      "['s', 's', 's', 's', 's', 's', 's']\n",
      "[]\n",
      "[]\n",
      "[1, 2, 3, 4]\n"
     ]
    },
    {
     "data": {
      "text/plain": [
       "'\\n自我暂时理解：[i for i in l3]此表达式运行顺序应该是：\\n1. 先执行[l3]生成一个新的list[]\\n2. 然后执行for循环 i*1 相当于每次循环执行的内容\\n3. 但是此表达式优先执行了[l3]，list[]为空后面的for循环没有执行\\n\\n'"
      ]
     },
     "execution_count": 15,
     "metadata": {},
     "output_type": "execute_result"
    }
   ],
   "source": [
    "# map举例\n",
    "# 有一列表，想对表中每一个元素*10，并得到新的列表\n",
    "\n",
    "l1=[i for i in range(10)]\n",
    "l2=[]\n",
    "for i in l1:\n",
    "    l2.append(i*10)\n",
    "print(l2)\n",
    "\n",
    "# 利用map实现\n",
    "def fun(n):\n",
    "    return n*12\n",
    "\n",
    "l3=map(fun,l1)\n",
    "print(type(l3))\n",
    "print(l3)\n",
    "# map类型是一个可迭代的结构，所以可以使用for遍历\n",
    "l4 = []\n",
    "num=0\n",
    "for i in l3:\n",
    "    l4.append(i)\n",
    "    \n",
    "print(l4)\n",
    "\n",
    "\n",
    "# 以下列表生成式得到的结果为空，why?\n",
    "l5 = ['s' for i in (1,2,3,4,5,6,7)]\n",
    "print(l5)\n",
    "print(['s' for i in l3])\n",
    "\n",
    "print(list(l3))\n",
    "print(list((1,2,3,4)))\n",
    "'''\n",
    "自我暂时理解：[i for i in l3]此表达式运行顺序应该是：\n",
    "1. 先执行[l3]生成一个新的list[]\n",
    "2. 然后执行for循环 i*1 相当于每次循环执行的内容\n",
    "3. 但是此表达式优先执行了[l3]，list[]为空后面的for循环没有执行\n",
    "\n",
    "'''\n"
   ]
  },
  {
   "cell_type": "code",
   "execution_count": null,
   "metadata": {},
   "outputs": [],
   "source": []
  },
  {
   "cell_type": "code",
   "execution_count": 19,
   "metadata": {},
   "outputs": [
    {
     "name": "stdout",
     "output_type": "stream",
     "text": [
      "Help on class map in module builtins:\n",
      "\n",
      "class map(object)\n",
      " |  map(func, *iterables) --> map object\n",
      " |  \n",
      " |  Make an iterator that computes the function using arguments from\n",
      " |  each of the iterables.  Stops when the shortest iterable is exhausted.\n",
      " |  \n",
      " |  Methods defined here:\n",
      " |  \n",
      " |  __getattribute__(self, name, /)\n",
      " |      Return getattr(self, name).\n",
      " |  \n",
      " |  __iter__(self, /)\n",
      " |      Implement iter(self).\n",
      " |  \n",
      " |  __next__(self, /)\n",
      " |      Implement next(self).\n",
      " |  \n",
      " |  __reduce__(...)\n",
      " |      Return state information for pickling.\n",
      " |  \n",
      " |  ----------------------------------------------------------------------\n",
      " |  Static methods defined here:\n",
      " |  \n",
      " |  __new__(*args, **kwargs) from builtins.type\n",
      " |      Create and return a new object.  See help(type) for accurate signature.\n",
      "\n"
     ]
    }
   ],
   "source": [
    "help(map)"
   ]
  },
  {
   "cell_type": "markdown",
   "metadata": {},
   "source": [
    "### reduce\n",
    "- 原意式归并，缩减\n",
    "- 把一个可迭代对象最后归并成一个结果\n",
    "- 对于作为参数的函数有要求：必须有两个参数，必须有返回结果\n",
    "- reduce([1,2,3,4,5]) == f(f(f(f(1,2),3),4),5)\n",
    "- reduce 需要导入functools包"
   ]
  },
  {
   "cell_type": "code",
   "execution_count": 22,
   "metadata": {},
   "outputs": [
    {
     "name": "stdout",
     "output_type": "stream",
     "text": [
      "21\n"
     ]
    }
   ],
   "source": [
    "from functools import reduce\n",
    "\n",
    "# 定义一个操作函数\n",
    "# 加入操作函数只是相加\n",
    "def myAdd(x,y):\n",
    "    return x+y\n",
    "\n",
    "l = [1,2,3,4,5,6]\n",
    "# 对于列表l执行myAdd的reduce操作\n",
    "print(reduce(myAdd,l))"
   ]
  },
  {
   "cell_type": "markdown",
   "metadata": {},
   "source": [
    "### filter函数\n",
    "- 过滤函数：对一组数据进行过滤，符合条件的数据会生成一个新的列表并返回\n",
    "- 跟map相比较：\n",
    "    - 相同点：都对列表的每一个元素逐一操作\n",
    "    - 不同点：\n",
    "        - map会生成一个跟原来数据相对应的新队列\n",
    "        - filter不一定，只要符合条件的才会进入新的数据集合\n",
    "        \n",
    "    - filter函数怎么写：\n",
    "        - 利用给定函数进行判断\n",
    "        - 返回值一定是个布尔值\n",
    "        - 调用格式：filter(f,date)，f是过滤函数，date是数据"
   ]
  },
  {
   "cell_type": "code",
   "execution_count": 24,
   "metadata": {},
   "outputs": [
    {
     "name": "stdout",
     "output_type": "stream",
     "text": [
      "<class 'filter'>\n",
      "<filter object at 0x0000014DFC735B38>\n",
      "[2, 4, 6, 8]\n"
     ]
    }
   ],
   "source": [
    "# filter案例\n",
    "# 对一个列表进行过滤，偶数组成一个新列表\n",
    "# 需要定义过滤函数\n",
    "# 过滤函数要求有输入，返回布尔值\n",
    "def A1(a):\n",
    "    return a%2 == 0\n",
    "\n",
    "l= [1,2,3,4,5,6,7,8]\n",
    "rst= filter(A1,l)\n",
    "# 返回的filter内容是一个可迭代对象\n",
    "print(type(rst))\n",
    "print(rst)\n",
    "\n",
    "print([i for i in rst])\n"
   ]
  },
  {
   "cell_type": "markdown",
   "metadata": {},
   "source": [
    "### 高阶函数-排序\n",
    "- 把一个序列按照给定算法进行排序\n",
    "- key:在排序前对每一个元素进行key函数运算，可以理解成按照key函数定义的逻辑进行排序"
   ]
  },
  {
   "cell_type": "code",
   "execution_count": 29,
   "metadata": {},
   "outputs": [
    {
     "name": "stdout",
     "output_type": "stream",
     "text": [
      "Help on built-in function sorted in module builtins:\n",
      "\n",
      "sorted(iterable, /, *, key=None, reverse=False)\n",
      "    Return a new list containing all items from the iterable in ascending order.\n",
      "    \n",
      "    A custom key function can be supplied to customize the sort order, and the\n",
      "    reverse flag can be set to request the result in descending order.\n",
      "\n"
     ]
    }
   ],
   "source": [
    "help(sorted)"
   ]
  },
  {
   "cell_type": "code",
   "execution_count": 32,
   "metadata": {},
   "outputs": [
    {
     "name": "stdout",
     "output_type": "stream",
     "text": [
      "[22312, 678, 234, 123, 45, 34]\n"
     ]
    }
   ],
   "source": [
    "# 排序案例\n",
    "\n",
    "a = [234,22312,123,45,678,34]\n",
    "al = sorted(a, reverse=True)\n",
    "print(al)"
   ]
  },
  {
   "cell_type": "code",
   "execution_count": 35,
   "metadata": {},
   "outputs": [
    {
     "name": "stdout",
     "output_type": "stream",
     "text": [
      "[-789, 456, -43, 34, 23, -12]\n"
     ]
    }
   ],
   "source": [
    "# 排序案例2\n",
    "\n",
    "a = [-43,23,-12,34,456,-789]\n",
    "# 按照绝对值进行排序\n",
    "# abs是求绝对值的意思\n",
    "al = sorted(a,key=abs,reverse=True)\n",
    "print(al)"
   ]
  },
  {
   "cell_type": "code",
   "execution_count": 37,
   "metadata": {},
   "outputs": [
    {
     "name": "stdout",
     "output_type": "stream",
     "text": [
      "['Lzy', 'ljb', 'zj', 'zjy']\n",
      "['zjy', 'zj', 'Lzy', 'ljb']\n"
     ]
    }
   ],
   "source": [
    "# sorted 案例\n",
    "\n",
    "astr=['ljb','zj','Lzy','zjy']\n",
    "\n",
    "s1 = sorted(astr)\n",
    "print(s1)\n",
    "\n",
    "s2= sorted(astr,key=str.lower,reverse=True)\n",
    "print(s2)"
   ]
  },
  {
   "cell_type": "markdown",
   "metadata": {},
   "source": [
    "### 返回函数\n",
    "- 函数可以返回具体的值\n",
    "- 也可以返回一个函数作为结果"
   ]
  },
  {
   "cell_type": "code",
   "execution_count": 41,
   "metadata": {},
   "outputs": [
    {
     "name": "stdout",
     "output_type": "stream",
     "text": [
      "in myF\n",
      "None\n"
     ]
    }
   ],
   "source": [
    "# 定义一个普通函数\n",
    "def myF(a):\n",
    "    print('in myF')\n",
    "    return None\n",
    "a = myF(8)\n",
    "print(a)"
   ]
  },
  {
   "cell_type": "code",
   "execution_count": 43,
   "metadata": {},
   "outputs": [],
   "source": [
    "# 函数作为返回值返回，被返回的函数在函数体内定义\n",
    "\n",
    "def myF2():\n",
    "    \n",
    "    def myF3():\n",
    "        print('in myF3')\n",
    "        return 3\n",
    "    return myF3"
   ]
  },
  {
   "cell_type": "code",
   "execution_count": 45,
   "metadata": {},
   "outputs": [
    {
     "name": "stdout",
     "output_type": "stream",
     "text": [
      "<class 'function'>\n",
      "<function myF2.<locals>.myF3 at 0x0000014DFC7292F0>\n",
      "in myF3\n"
     ]
    },
    {
     "data": {
      "text/plain": [
       "3"
      ]
     },
     "execution_count": 45,
     "metadata": {},
     "output_type": "execute_result"
    }
   ],
   "source": [
    "# 使用上面定义\n",
    "# 调用myF2，返回一个函数myF3，赋值给f3\n",
    "f3=myF2()\n",
    "print(type(f3))\n",
    "print(f3)\n",
    "\n",
    "f3()"
   ]
  },
  {
   "cell_type": "code",
   "execution_count": 50,
   "metadata": {},
   "outputs": [
    {
     "name": "stdout",
     "output_type": "stream",
     "text": [
      "55\n",
      "73\n"
     ]
    }
   ],
   "source": [
    "# 复杂一点的返回函数的例子\n",
    "# args：参数列表\n",
    "# 1. myF4定义函数，返回内部定义的函数myF5\n",
    "# 2. myF5使用了外部的变量，变量就是myF4的参数\n",
    "\n",
    "def myF4( *args):\n",
    "    def myF5():\n",
    "        rst = 0\n",
    "        for i in args:\n",
    "            rst += i\n",
    "        return rst\n",
    "    return myF5\n",
    "\n",
    "f5 = myF4(1,2,3,4,5,6,7,8,9,10)\n",
    "\n",
    "# f5的调用方式\n",
    "print(f5())\n",
    "\n",
    "f6 = myF4(10,23,11,14,15)\n",
    "print(f6())"
   ]
  },
  {
   "cell_type": "markdown",
   "metadata": {},
   "source": [
    "## 闭包(closure)\n",
    "- 当一个函数在内部定义函数，并且内部的函数应用外部函数的参数或者局部变量，\n",
    "    当内部函数被当作返回值的时候，相关参数和变量保存在返回的函数中，\n",
    "    这种结果，叫闭包\n",
    "- 上面定义的myF4是一个标准闭包结构"
   ]
  },
  {
   "cell_type": "code",
   "execution_count": 58,
   "metadata": {},
   "outputs": [
    {
     "data": {
      "text/plain": [
       "[<function __main__.c.<locals>.f()>,\n",
       " <function __main__.c.<locals>.f()>,\n",
       " <function __main__.c.<locals>.f()>]"
      ]
     },
     "execution_count": 58,
     "metadata": {},
     "output_type": "execute_result"
    }
   ],
   "source": [
    "# 闭包常见坑\n",
    "def c():\n",
    "    # 定义列表，\n",
    "    fs=[]\n",
    "    for i in range(1,4):\n",
    "        # 定义了一个函数f\n",
    "        # f是一个闭包结构\n",
    "        def f():\n",
    "            return i*i\n",
    "        fs.append(f)\n",
    "    return fs\n",
    "f1,f2,f3 = c()\n",
    "print(f1())\n",
    "print(f2())\n",
    "print(f3())"
   ]
  },
  {
   "cell_type": "markdown",
   "metadata": {},
   "source": [
    "### 出现的问题：\n",
    "- 造成上述状况的原因是：返回函数引用了变量i,i并非立即执行,而是等到三个函数都返回的时候才统一使用，此时i已经变成3了，最终调用的时候，都是返回3*3\n",
    "- 此问题描述：返回闭包时，返回函数不能引用任何循环变量\n",
    "- 解决方案：再创建一个函数，用该函数的参数绑定循环变量的当前值，无论该循环变量以后如何改变，已经绑定的函数参数值不再改变"
   ]
  },
  {
   "cell_type": "code",
   "execution_count": 66,
   "metadata": {},
   "outputs": [
    {
     "name": "stdout",
     "output_type": "stream",
     "text": [
      "1\n",
      "4\n",
      "9\n"
     ]
    }
   ],
   "source": [
    "# 修改上述函数\n",
    "def c1():\n",
    "    def f(j):\n",
    "        def g():\n",
    "            return j*j\n",
    "        return g\n",
    "    fs=[]\n",
    "    for i in range(1,4):\n",
    "        fs.append(f(i))\n",
    "    return fs\n",
    "f1,f2,f3 = c1()\n",
    "print(f1())\n",
    "print(f2())\n",
    "print(f3())"
   ]
  },
  {
   "cell_type": "markdown",
   "metadata": {},
   "source": [
    "### 装饰器\n"
   ]
  },
  {
   "cell_type": "code",
   "execution_count": 72,
   "metadata": {},
   "outputs": [
    {
     "name": "stdout",
     "output_type": "stream",
     "text": [
      "hello world\n",
      "hello world\n",
      "1434459664168\n",
      "1434459664168\n",
      "hello\n",
      "hello\n"
     ]
    }
   ],
   "source": [
    "def hello():\n",
    "    print('hello world')\n",
    "hello()\n",
    "f=hello\n",
    "f()\n",
    "\n",
    "print(id(f))\n",
    "print(id(hello))\n",
    "\n",
    "print(f.__name__)\n",
    "print(hello.__name__)"
   ]
  },
  {
   "cell_type": "code",
   "execution_count": 73,
   "metadata": {},
   "outputs": [],
   "source": [
    "#  现在有新的需求：\n",
    "# 对Hello功能进行扩展，每次打印hello之前打印当前系统时间\n",
    "# 而实现这个功能又不能改动现有代码\n",
    "# ==>使用装饰器"
   ]
  },
  {
   "cell_type": "markdown",
   "metadata": {},
   "source": [
    "### 装饰器（Decrator）\n",
    "- 在不动函数代码的基础上无限制扩展函数功能的一种机制，本质上讲：装饰器是一个返回函数的高阶函数\n",
    "- 装饰器的使用： 使用@语法，即在每次要扩展到函数定义前使用@+函数名"
   ]
  },
  {
   "cell_type": "code",
   "execution_count": 83,
   "metadata": {},
   "outputs": [],
   "source": [
    "# 任务：\n",
    "# 对hello函数进行功能扩展，每次执行hello答应当前时间\n",
    "\n",
    "import time\n",
    "\n",
    "# 高阶函数，以函数作为参数\n",
    "\n",
    "def pt(f):\n",
    "    def w(*args,**kwargs):\n",
    "        print('Time:',time.ctime())\n",
    "        return f(*args,**kwargs)    \n",
    "    return w\n",
    "\n",
    "def zs(f):\n",
    "    def w(*args,**kwargs):\n",
    "        print('调用了装饰器zs')\n",
    "        return f(*args,**kwargs)\n",
    "    return w\n"
   ]
  },
  {
   "cell_type": "code",
   "execution_count": 77,
   "metadata": {},
   "outputs": [
    {
     "name": "stdout",
     "output_type": "stream",
     "text": [
      "Time: Mon Feb 18 16:26:37 2019\n",
      "Hello world\n"
     ]
    }
   ],
   "source": [
    "# 上面定义了装饰器，使用的时候需要用到@，此符号是python的语法糖\n",
    "@pt\n",
    "def hello():\n",
    "    print('Hello world')\n",
    "\n",
    "hello()"
   ]
  },
  {
   "cell_type": "code",
   "execution_count": 80,
   "metadata": {},
   "outputs": [
    {
     "name": "stdout",
     "output_type": "stream",
     "text": [
      "Time: Mon Feb 18 16:29:36 2019\n",
      "今天需要看2节课程\n",
      "有点累啊\n"
     ]
    }
   ],
   "source": [
    "# 装饰器的好处是，一旦定义，则可以装饰任意函数\n",
    "# 一旦被其装饰，则把装饰器的功能能直接添加到定义函数的功能上\n",
    "\n",
    "@pt\n",
    "def h2():\n",
    "    print('今天需要看2节课程')\n",
    "    print('有点累啊')\n",
    "    \n",
    "h2()"
   ]
  },
  {
   "cell_type": "code",
   "execution_count": 84,
   "metadata": {},
   "outputs": [
    {
     "name": "stdout",
     "output_type": "stream",
     "text": [
      "Time: Mon Feb 18 16:33:29 2019\n",
      "调用了装饰器zs\n",
      "测试装饰器\n"
     ]
    }
   ],
   "source": [
    "# 装饰器器可以无限添加，示例如下：\n",
    "@pt\n",
    "@zs\n",
    "def h3():\n",
    "    print('测试装饰器')\n",
    "\n",
    "h3()"
   ]
  },
  {
   "cell_type": "code",
   "execution_count": 111,
   "metadata": {},
   "outputs": [
    {
     "name": "stdout",
     "output_type": "stream",
     "text": [
      "Time: Mon Feb 18 16:59:05 2019\n",
      "我是手动执行的\n",
      "Time: Mon Feb 18 16:59:05 2019\n",
      "我是手动执行的\n",
      "Time: Mon Feb 18 16:59:05 2019\n",
      "Time: Mon Feb 18 16:59:05 2019\n",
      "我是手动执行的\n"
     ]
    }
   ],
   "source": [
    "# 上面对函数的装饰使用了系统定义的语法糖\n",
    "# 下面开始手动执行下装饰器\n",
    "# 先定义函数\n",
    "\n",
    "def hello3():\n",
    "    print('我是手动执行的')\n",
    "f = pt(hello3)\n",
    "f()\n",
    "f2 = pt(hello3)\n",
    "f2()\n",
    "hello3=pt(hello3)\n",
    "f1 = pt(hello3)\n",
    "f1()\n",
    "# 注意比较上面的区别: 后面打印2次Time是因为：\n",
    "# hello3 被 pt(hello3)重新赋值了\n",
    "# 相当于 f1 = pt(pt(hello3))"
   ]
  },
  {
   "cell_type": "markdown",
   "metadata": {},
   "source": [
    "### 偏函数"
   ]
  },
  {
   "cell_type": "code",
   "execution_count": 116,
   "metadata": {},
   "outputs": [
    {
     "data": {
      "text/plain": [
       "5349"
      ]
     },
     "execution_count": 116,
     "metadata": {},
     "output_type": "execute_result"
    }
   ],
   "source": [
    "# 把字符串转化成十进制数字\n",
    "int('12345')\n",
    "# 求八进制的字符串12345，表示成十进制的数字是多少\n",
    "int('12345',base=8)\n",
    "# 此处的 base  表示前面的变量是什么进制的\n",
    "# int() 返回的是十进制的"
   ]
  },
  {
   "cell_type": "code",
   "execution_count": 16,
   "metadata": {},
   "outputs": [
    {
     "name": "stdout",
     "output_type": "stream",
     "text": [
      "请输入16进制的数：12212\n"
     ]
    },
    {
     "data": {
      "text/plain": [
       "74258"
      ]
     },
     "execution_count": 16,
     "metadata": {},
     "output_type": "execute_result"
    }
   ],
   "source": [
    "# 新建一个函数，此函数是默认输入的字符串是16进制数字\n",
    "# 把此字符串返回十进制的数字\n",
    "\n",
    "def f():\n",
    "    l=input('请输入16进制的数：')\n",
    "    return int(l,base=16)\n",
    "\n",
    "f()\n"
   ]
  },
  {
   "cell_type": "markdown",
   "metadata": {},
   "source": [
    "### 偏函数\n",
    "- 参数固定的函数，相当于一个由特定参数的函数体\n",
    "- functools.partial的作用是，把一个函数某些函数固定，返回一个新函数"
   ]
  },
  {
   "cell_type": "code",
   "execution_count": 18,
   "metadata": {},
   "outputs": [
    {
     "data": {
      "text/plain": [
       "74565"
      ]
     },
     "execution_count": 18,
     "metadata": {},
     "output_type": "execute_result"
    }
   ],
   "source": [
    "import functools\n",
    "# 实现上面int16的功能\n",
    "\n",
    "int16 = functools.partial(int,base=16)\n",
    "\n",
    "int16('12345')\n"
   ]
  }
 ],
 "metadata": {
  "kernelspec": {
   "display_name": "Python 3",
   "language": "python",
   "name": "python3"
  },
  "language_info": {
   "codemirror_mode": {
    "name": "ipython",
    "version": 3
   },
   "file_extension": ".py",
   "mimetype": "text/x-python",
   "name": "python",
   "nbconvert_exporter": "python",
   "pygments_lexer": "ipython3",
   "version": "3.7.1"
  }
 },
 "nbformat": 4,
 "nbformat_minor": 2
}
