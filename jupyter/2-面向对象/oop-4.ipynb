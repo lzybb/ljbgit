{
 "cells": [
  {
   "cell_type": "code",
   "execution_count": 4,
   "metadata": {},
   "outputs": [
    {
     "name": "stdout",
     "output_type": "stream",
     "text": [
      "Hi,my name is LJB\n",
      "Hi,my name is ZHAO JIN\n"
     ]
    }
   ],
   "source": [
    "# 属性案例\n",
    "# 创建Student类，描述学生类\n",
    "# 学生具有Student.name属性\n",
    "# 但name格式并不统一\n",
    "class Student():\n",
    "    \n",
    "    def setName(self,name):\n",
    "        self.name = name.upper()\n",
    "    \n",
    "    def __init__(self,name,age):\n",
    "        self.name = name\n",
    "        self.age = age\n",
    "        # 如果不想修改代码\n",
    "        self.setName(name)\n",
    "        \n",
    "    def intro(self):\n",
    "        print('Hi,my name is {0}'.format(self.name))\n",
    "           \n",
    "s1 = Student('LJB',37)\n",
    "s2 = Student('zhao jin',34)\n",
    "s1.intro()\n",
    "s2.intro()\n",
    "        "
   ]
  },
  {
   "cell_type": "code",
   "execution_count": 127,
   "metadata": {},
   "outputs": [
    {
     "name": "stdout",
     "output_type": "stream",
     "text": [
      "TULINGTULING\n"
     ]
    }
   ],
   "source": [
    "# property案例\n",
    "# 定义一个Person类，具有name,age属性\n",
    "# 对于任意输入的姓名，我们希望都用大写方式保存\n",
    "# age，我们希望内部统一用整数保存\n",
    "# x = property(fget,fset,fdel.doc)\n",
    "class Person():\n",
    "    # 函数的名称可以任意\n",
    "    def fget(self):\n",
    "        return self._name*2\n",
    "    def fset(self,name):\n",
    "        # 所有输入的姓名以大写形式保存\n",
    "        self._name = name.upper()\n",
    "    def fdel(self):\n",
    "        self._name = \"Noname\"\n",
    "    \n",
    "    name = property(fget,fset,fdel,'对name进行了操作')\n",
    "    \n",
    "p1 = Person()\n",
    "p1.name = \"TuLing\"\n",
    "print(p1.name)\n",
    "    "
   ]
  },
  {
   "cell_type": "code",
   "execution_count": 8,
   "metadata": {},
   "outputs": [],
   "source": [
    "# 作业：\n",
    "# 1. 在用户输入年龄的时候可以输入整数，小数，浮点数\n",
    "# 2. 但内部为了数据清洁，我们统一需要保存整数，直接舍去小数"
   ]
  },
  {
   "cell_type": "code",
   "execution_count": 94,
   "metadata": {},
   "outputs": [
    {
     "name": "stdout",
     "output_type": "stream",
     "text": [
      "你的虚岁为15\n",
      "None\n"
     ]
    }
   ],
   "source": [
    "class Student():\n",
    "    #def __init__(self):\n",
    "        #self._age = input('请输入你的周岁：')\n",
    "    def fget(self):\n",
    "        print('你的虚岁为{0}'.format(self._age+1))\n",
    "    def fset(self,age):\n",
    "        self._age = float(age)\n",
    "        self._age = round(self._age)\n",
    "        self._age = int(self._age)\n",
    "    def fdel(self):\n",
    "        del self.age\n",
    "    age = property(fget,fset,fdel,'age已处理')\n",
    "    \n",
    "s1 = Student()\n",
    "s1.age = 13.6\n",
    "print(s1.age)\n",
    "    "
   ]
  },
  {
   "cell_type": "code",
   "execution_count": 77,
   "metadata": {},
   "outputs": [
    {
     "name": "stdout",
     "output_type": "stream",
     "text": [
      "请输入你的周岁：13\n",
      "你的虚岁为14\n",
      "None\n"
     ]
    }
   ],
   "source": [
    "# 构造函数内的赋值貌似不起作用？？？\n",
    "# 自我调试理解为：构造函数运行后,只运行了fget()没有运行fset() \n",
    "# 注意replace(),isdigit(),isalpha()\n",
    "class Student():\n",
    "    def __init__(self):\n",
    "        p = input('请输入你的周岁：')\n",
    "        if p.replace('.','').isdigit():\n",
    "            p = float(p)\n",
    "            p = round(p)\n",
    "            self._age = int(p)\n",
    "        else:\n",
    "            print('请按规定输入')\n",
    "\n",
    "    def fget(self):\n",
    "        print('你的虚岁为{0}'.format(self._age+1))\n",
    "    def fset(self,age):\n",
    "        self._age = float(self._age)\n",
    "        self._age = round(self._age)\n",
    "        self._age = int(self._age)\n",
    "    def fdel(self):\n",
    "        self._age=0\n",
    "    age = property(fget,fset,fdel,'已经对年龄处理过了')\n",
    "    \n",
    "s1 = Student()\n",
    "print(s1.age)\n"
   ]
  },
  {
   "cell_type": "code",
   "execution_count": 63,
   "metadata": {},
   "outputs": [
    {
     "name": "stdout",
     "output_type": "stream",
     "text": [
      "请输入：ljb\n",
      "ljb\n"
     ]
    }
   ],
   "source": [
    "class A():\n",
    "    def __init__(self):\n",
    "        self.name = input('请输入：')\n",
    "\n",
    "a = A()\n",
    "print(a.name)"
   ]
  },
  {
   "cell_type": "code",
   "execution_count": 12,
   "metadata": {},
   "outputs": [
    {
     "name": "stdout",
     "output_type": "stream",
     "text": [
      "0.8500000000000001\n"
     ]
    }
   ],
   "source": [
    "b=0.55\n",
    "print(b+0.3)"
   ]
  },
  {
   "cell_type": "code",
   "execution_count": 81,
   "metadata": {},
   "outputs": [
    {
     "name": "stdout",
     "output_type": "stream",
     "text": [
      "aaaa*****aaaa**\n",
      "aaaa****baaaabb\n",
      "aaaabbbbbaaaabb\n",
      "True\n"
     ]
    }
   ],
   "source": [
    "s = 'aaaabbbbbaaaabb'\n",
    "print(s.replace('b','*'))\n",
    "print(s.replace('b', '*', 4))\n",
    "print(s.replace('c','*'))\n",
    "# replace() 替换的字符没有，就不做处理，不会报错\n",
    "\n",
    "s1 = '李'\n",
    "print(s1.isalpha())"
   ]
  },
  {
   "cell_type": "code",
   "execution_count": 106,
   "metadata": {},
   "outputs": [
    {
     "name": "stdout",
     "output_type": "stream",
     "text": [
      "10\n",
      "15\n",
      "18\n",
      "None\n",
      "******************************\n",
      "15\n",
      "17\n",
      "20\n",
      "None\n"
     ]
    }
   ],
   "source": [
    "class A():\n",
    "    def __init__(self,size=10):\n",
    "        self.size=size\n",
    "    def fget(self):\n",
    "        print(self.size+3)\n",
    "    def fset(self,v):\n",
    "        self.size = v+2\n",
    "    def fdel(self):\n",
    "        del sel.size\n",
    "    x = property(fget,fset,fdel)\n",
    "    \n",
    "a = A()\n",
    "print(a.size)\n",
    "a.size= 15\n",
    "print(a.size)\n",
    "print(a.x)\n",
    "# 注意上下的区别（）\n",
    "print('*'*30)\n",
    "b = A()\n",
    "print(a.size)\n",
    "b.x= 15\n",
    "print(b.size)\n",
    "print(b.x)"
   ]
  },
  {
   "cell_type": "code",
   "execution_count": 176,
   "metadata": {},
   "outputs": [
    {
     "name": "stdout",
     "output_type": "stream",
     "text": [
      "t\n",
      "tth\n",
      "tt\n",
      "tttt\n",
      "tttt\n",
      "tttttttt\n"
     ]
    }
   ],
   "source": [
    "class A():\n",
    "    def __init__(self,size='k'):\n",
    "        self.size=size\n",
    "    def fget(self):\n",
    "        print(self.size)\n",
    "        self.size = self.size*2\n",
    "        return self.size\n",
    "    def fset(self,v):\n",
    "        self.size = v\n",
    "    def fdel(self):\n",
    "        print('delete')\n",
    "    def test(self):\n",
    "        print('test')\n",
    "    def test1(self,v):\n",
    "        print('test-1') \n",
    "    x = property(fget,fset,fdel,'mm')\n",
    "    y = property(fget,fset,fdel,'mm')\n",
    "    \n",
    "a = A()\n",
    "a.x='t'\n",
    "b = a.x+'h'\n",
    "print(b)\n",
    "print(a.x)\n",
    "c= a.x+'c'\n",
    "d= a.x\n",
    "\n",
    "\n",
    "\n",
    "# 自我理解:1.property()最多4个参数,前3个参数必需有，并且参数类型为函数\n",
    "# 2.获取property()的值时会运行一次第一个参数函数,获取一次运行一次\n",
    "# 3.property()赋值时运行一次第二个参数,赋值一次运行一次，注意参数函数的参数有两个\n",
    "# 一个为对象，一个为赋的值\n",
    "# 4.property()删除时运行一次第三个参数函数,删除一次运行一次\n",
    "# 5.第4个参数暂时不知道如何使用(显示是文档字符串，应该是用作说明的)"
   ]
  },
  {
   "cell_type": "code",
   "execution_count": 177,
   "metadata": {},
   "outputs": [
    {
     "name": "stdout",
     "output_type": "stream",
     "text": [
      "Help on class property in module builtins:\n",
      "\n",
      "class property(object)\n",
      " |  property(fget=None, fset=None, fdel=None, doc=None)\n",
      " |  \n",
      " |  Property attribute.\n",
      " |  \n",
      " |    fget\n",
      " |      function to be used for getting an attribute value\n",
      " |    fset\n",
      " |      function to be used for setting an attribute value\n",
      " |    fdel\n",
      " |      function to be used for del'ing an attribute\n",
      " |    doc\n",
      " |      docstring\n",
      " |  \n",
      " |  Typical use is to define a managed attribute x:\n",
      " |  \n",
      " |  class C(object):\n",
      " |      def getx(self): return self._x\n",
      " |      def setx(self, value): self._x = value\n",
      " |      def delx(self): del self._x\n",
      " |      x = property(getx, setx, delx, \"I'm the 'x' property.\")\n",
      " |  \n",
      " |  Decorators make defining new properties or modifying existing ones easy:\n",
      " |  \n",
      " |  class C(object):\n",
      " |      @property\n",
      " |      def x(self):\n",
      " |          \"I am the 'x' property.\"\n",
      " |          return self._x\n",
      " |      @x.setter\n",
      " |      def x(self, value):\n",
      " |          self._x = value\n",
      " |      @x.deleter\n",
      " |      def x(self):\n",
      " |          del self._x\n",
      " |  \n",
      " |  Methods defined here:\n",
      " |  \n",
      " |  __delete__(self, instance, /)\n",
      " |      Delete an attribute of instance.\n",
      " |  \n",
      " |  __get__(self, instance, owner, /)\n",
      " |      Return an attribute of instance, which is of type owner.\n",
      " |  \n",
      " |  __getattribute__(self, name, /)\n",
      " |      Return getattr(self, name).\n",
      " |  \n",
      " |  __init__(self, /, *args, **kwargs)\n",
      " |      Initialize self.  See help(type(self)) for accurate signature.\n",
      " |  \n",
      " |  __set__(self, instance, value, /)\n",
      " |      Set an attribute of instance to value.\n",
      " |  \n",
      " |  deleter(...)\n",
      " |      Descriptor to change the deleter on a property.\n",
      " |  \n",
      " |  getter(...)\n",
      " |      Descriptor to change the getter on a property.\n",
      " |  \n",
      " |  setter(...)\n",
      " |      Descriptor to change the setter on a property.\n",
      " |  \n",
      " |  ----------------------------------------------------------------------\n",
      " |  Static methods defined here:\n",
      " |  \n",
      " |  __new__(*args, **kwargs) from builtins.type\n",
      " |      Create and return a new object.  See help(type) for accurate signature.\n",
      " |  \n",
      " |  ----------------------------------------------------------------------\n",
      " |  Data descriptors defined here:\n",
      " |  \n",
      " |  __isabstractmethod__\n",
      " |  \n",
      " |  fdel\n",
      " |  \n",
      " |  fget\n",
      " |  \n",
      " |  fset\n",
      "\n"
     ]
    }
   ],
   "source": [
    "help(property)"
   ]
  },
  {
   "cell_type": "code",
   "execution_count": 182,
   "metadata": {},
   "outputs": [
    {
     "name": "stdout",
     "output_type": "stream",
     "text": [
      "{'__module__': '__main__', '__doc__': '\\n    这是一个人的类，他有属性\\n    ', 'fget': <function Person.fget at 0x00000202FE3D26A8>, 'fset': <function Person.fset at 0x00000202FE3D28C8>, 'fdel': <function Person.fdel at 0x00000202FE3D2840>, 'name': <property object at 0x00000202FE3FCB38>, '__dict__': <attribute '__dict__' of 'Person' objects>, '__weakref__': <attribute '__weakref__' of 'Person' objects>}\n",
      "\n",
      "    这是一个人的类，他有属性\n",
      "    \n",
      "Person\n",
      "(<class 'object'>,)\n"
     ]
    }
   ],
   "source": [
    "# 类的内置属性举例\n",
    "class Person():\n",
    "    '''\n",
    "    这是一个人的类，他有属性\n",
    "    '''\n",
    "    # 函数的名称可以任意\n",
    "    def fget(self):\n",
    "        return self._name*2\n",
    "    def fset(self,name):\n",
    "        self._name = name.upper()\n",
    "    def fdel(self):\n",
    "        self._name = \"Noname\"    \n",
    "    name = property(fget,fset,fdel,'对name进行了操作')\n",
    "    \n",
    "print(Person.__dict__)\n",
    "print(Person.__doc__)\n",
    "print(Person.__name__)\n",
    "print(Person.__bases__)"
   ]
  },
  {
   "cell_type": "code",
   "execution_count": 2,
   "metadata": {},
   "outputs": [
    {
     "name": "stdout",
     "output_type": "stream",
     "text": [
      "被调用了\n"
     ]
    }
   ],
   "source": [
    "# init 举例：\n",
    "class A():\n",
    "    def __init__(self,name=0):\n",
    "        print('被调用了')\n",
    "a=A()"
   ]
  },
  {
   "cell_type": "code",
   "execution_count": 5,
   "metadata": {},
   "outputs": [
    {
     "name": "stdout",
     "output_type": "stream",
     "text": [
      "lala\n",
      "被调用了\n"
     ]
    }
   ],
   "source": [
    "# __call__举例：\n",
    "class A():\n",
    "    def __init__(self,name=0):\n",
    "        print('lala')\n",
    "    def __call__(self,name=0):\n",
    "        print(\"被调用了\")\n",
    "a = A()\n",
    "a()"
   ]
  },
  {
   "cell_type": "code",
   "execution_count": 9,
   "metadata": {},
   "outputs": [
    {
     "name": "stdout",
     "output_type": "stream",
     "text": [
      "lala\n",
      "我是字符串\n"
     ]
    }
   ],
   "source": [
    "class A():\n",
    "    def __init__(self,name=0):\n",
    "        print('lala')\n",
    "    def __call__(self,name=0):\n",
    "        print(\"被调用了\")\n",
    "    def __str__(self,name=0):\n",
    "        return '我是字符串'\n",
    "a = A()\n",
    "print(a)"
   ]
  },
  {
   "cell_type": "code",
   "execution_count": 14,
   "metadata": {},
   "outputs": [
    {
     "name": "stdout",
     "output_type": "stream",
     "text": [
      "Noname\n",
      "没找到\n",
      "addr\n",
      "None\n"
     ]
    }
   ],
   "source": [
    "# __getattr__ 举例：有默认返回值None\n",
    "class A():\n",
    "    name = 'Noname'\n",
    "    age = 0\n",
    "    def __getattr__(self,x):\n",
    "        print('没找到')\n",
    "        print(x)\n",
    "a=A()\n",
    "print(a.name)\n",
    "print(a.addr)\n",
    "# 作业：\n",
    "# 为什么会打印第四句话None"
   ]
  },
  {
   "cell_type": "code",
   "execution_count": 3,
   "metadata": {},
   "outputs": [
    {
     "name": "stdout",
     "output_type": "stream",
     "text": [
      "{}\n",
      "设置属性：age\n"
     ]
    }
   ],
   "source": [
    "# __setattr__案例：\n",
    "class Person():\n",
    "    def __init__(self):\n",
    "        pass\n",
    "    def __setattr__(self,name,value):\n",
    "        print('设置属性：{0}'.format(name))\n",
    "        # 下面语句会导致问题，死循环\n",
    "        #self.name = value\n",
    "        # 会一直递归调用__setattr__()\n",
    "        # 此种情况，为了避免死循环，规定统一调用父类魔法函数\n",
    "        super().__setattr__(name,value)\n",
    "p = Person()\n",
    "print(p.__dict__)\n",
    "p.age = 18"
   ]
  },
  {
   "cell_type": "code",
   "execution_count": 9,
   "metadata": {},
   "outputs": [
    {
     "name": "stdout",
     "output_type": "stream",
     "text": [
      "哈哈，<__main__.Student object at 0x00000198D1D7DB70>会比<__main__.Student object at 0x00000198D1D7D9B0>大吗？\n",
      "False\n"
     ]
    }
   ],
   "source": [
    "# __gt__举例：\n",
    "class Student():\n",
    "    def __init__(self,name):\n",
    "        self._name = name\n",
    "        \n",
    "    def __gt__(self,obj):\n",
    "        print('哈哈，{0}会比{1}大吗？'.format(self,obj))\n",
    "        return self._name>obj._name\n",
    "\n",
    "# 作业：\n",
    "# 字符串的比较是按什么规则\n",
    "\n",
    "s1 = Student('one')\n",
    "s2 = Student('two')\n",
    "print(s1 > s2)\n",
    "\n",
    "# 作业：\n",
    "# 下面显示结果不太美观，能否改成形如'哈哈，one会比two大吗？'"
   ]
  },
  {
   "cell_type": "code",
   "execution_count": 13,
   "metadata": {},
   "outputs": [
    {
     "name": "stdout",
     "output_type": "stream",
     "text": [
      "哈哈，one会比two大吗？\n",
      "False\n"
     ]
    }
   ],
   "source": [
    "class Student():\n",
    "    def __init__(self,name):\n",
    "        self._name = name\n",
    "        \n",
    "    def __gt__(self,obj):\n",
    "        print('哈哈，{0}会比{1}大吗？'.format(self._name,obj._name))\n",
    "        return self._name>obj._name\n",
    "    \n",
    "s1 = Student('one')\n",
    "s2 = Student('two')\n",
    "print(s1 > s2)"
   ]
  },
  {
   "cell_type": "code",
   "execution_count": 20,
   "metadata": {},
   "outputs": [
    {
     "name": "stdout",
     "output_type": "stream",
     "text": [
      "<__main__.Person object at 0x00000198D1E14780>\n",
      "eating...\n",
      "<class '__main__.Person'>\n",
      "playing...\n",
      "<class '__main__.Person'>\n",
      "playing...\n",
      "saying....\n",
      "saying....\n"
     ]
    }
   ],
   "source": [
    "# 三种方法的案例\n",
    "class Person():\n",
    "    # 实例方法\n",
    "    def eat(self):\n",
    "        print(self)\n",
    "        print('eating...')\n",
    "        \n",
    "    # 类方法\n",
    "    # 类方法的第一个参数，一般命名cls,区别于self\n",
    "    @classmethod\n",
    "    def play(cls):\n",
    "        print(cls)\n",
    "        print('playing...')\n",
    "    \n",
    "    # 静态方法\n",
    "    # 不需要参数\n",
    "    @staticmethod\n",
    "    def say():\n",
    "        print('saying....')\n",
    "        \n",
    "ljb = Person()\n",
    "\n",
    "#实例方法\n",
    "ljb.eat()\n",
    "# 类方法\n",
    "Person.play()\n",
    "ljb.play() # 实例对象调用时，将对象当成类\n",
    "# 静态方法\n",
    "Person.say()\n",
    "ljb.say() # 实例对象调用时，将对象当成类\n",
    "\n",
    "# 作业：\n",
    "# 自行查找三种方法内存使用方面的区别"
   ]
  },
  {
   "cell_type": "code",
   "execution_count": 43,
   "metadata": {},
   "outputs": [
    {
     "name": "stdout",
     "output_type": "stream",
     "text": [
      "3\n"
     ]
    }
   ],
   "source": [
    "# @classmethod 练习\n",
    "class A():\n",
    "    _num=0\n",
    "    @classmethod\n",
    "    def numAdd(cls):\n",
    "        A._num+=1\n",
    "    @classmethod\n",
    "    def numGet(cls):\n",
    "        return A._num\n",
    "           \n",
    "    def __new__(self):\n",
    "        A.numAdd()\n",
    "        super().__new__(self) # 此处作用是提醒：防止无限递归调用\n",
    "        \n",
    "class B(A):\n",
    "    def __init__(self):\n",
    "        self.name=name\n",
    "a = B()\n",
    "b = B()\n",
    "c = B()\n",
    "print(A.numGet())\n",
    "# __new__实例化类时第一优先级别执行\n",
    "\n",
    "# 装饰器@classmethod 暂时自我理解：后期调用可以不加参数"
   ]
  },
  {
   "cell_type": "code",
   "execution_count": 49,
   "metadata": {},
   "outputs": [
    {
     "name": "stdout",
     "output_type": "stream",
     "text": [
      "15:15:37\n",
      "15:15:37\n",
      "2:10:12\n"
     ]
    }
   ],
   "source": [
    "import time\n",
    "class timeTset():\n",
    "    def __init__(self,hour,minute,second):\n",
    "        self.hour=hour\n",
    "        self.minute=minute\n",
    "        self.second=second\n",
    "    def time(self):\n",
    "        return ('{0}:{1}:{2}'.format(self.hour,self.minute,self.second))\n",
    "    \n",
    "    @staticmethod\n",
    "    def showTime():\n",
    "        return time.strftime('%H:%M:%S',time.localtime())\n",
    "        \n",
    "print(timeTset.showTime())\n",
    "t=timeTset(2,10,12)\n",
    "nowTime=t.showTime()\n",
    "print(nowTime)\n",
    "print(t.time())\n",
    "\n",
    "# @staticmethod 暂时自我理解：1.此函数与所在类本身没什么联系，\n",
    "# 2.类正常运行时一般不会使用到它\n",
    "# 3.所以@staticmethod不需要参数"
   ]
  },
  {
   "cell_type": "code",
   "execution_count": 66,
   "metadata": {},
   "outputs": [
    {
     "name": "stdout",
     "output_type": "stream",
     "text": [
      "C\n",
      "B\n",
      "A\n",
      "测试\n",
      "B\n",
      "E\n",
      "A\n"
     ]
    }
   ],
   "source": [
    "# __new__自我试验\n",
    "class A():\n",
    "    def __new__(self):\n",
    "        print('A')\n",
    "        return super().__new__(self)\n",
    "        \n",
    "class B(A):\n",
    "    def __new__(self):\n",
    "        print('B')\n",
    "        return super().__new__(self)\n",
    "        \n",
    "class C(B):\n",
    "    def __new__(self):\n",
    "        print('C')\n",
    "        return super().__new__(self)\n",
    "        \n",
    "c=C()\n",
    "class E(A):\n",
    "    def __new__(self):\n",
    "        print('E')\n",
    "        return super().__new__(self)\n",
    "\n",
    "\n",
    "class D(B,E):\n",
    "    def __new__(self):\n",
    "        print('测试')\n",
    "        return super().__new__(self)\n",
    "\n",
    "d=D()\n",
    "\n",
    "# super()暂时自我理解：相当于直属一级的所有父类，向上如果没有就指向object\n",
    "# 暂时自我理解：__new__很多时候与__init__比较像"
   ]
  },
  {
   "cell_type": "code",
   "execution_count": 72,
   "metadata": {},
   "outputs": [
    {
     "name": "stdout",
     "output_type": "stream",
     "text": [
      "B\n",
      "A\n",
      "执行了B\n"
     ]
    }
   ],
   "source": [
    "class A():\n",
    "    def __new__(self):\n",
    "        print('A')\n",
    "        return super().__new__(self)\n",
    "    def __init__(self):\n",
    "        print('执行了A')\n",
    "    \n",
    "class C():\n",
    "    def __new__(self):\n",
    "        print('C')\n",
    "        return super().__new__(self)\n",
    "    def __init__(self):\n",
    "        print('执行了C')\n",
    "    \n",
    "class B(A):\n",
    "    def __new__(self):\n",
    "        print('B')\n",
    "        return A.__new__(self)\n",
    "    def __init__(self):\n",
    "        print('执行了B')\n",
    "        \n",
    "b=B()\n",
    "\n",
    "# 自我摸索：__new__(self)之后必须要返回一个父类.__new__(self)或类似父类.__new__，\n",
    "# 此时注意出现无限递归调用的问题\n",
    "# 之后才能继续执行__init__"
   ]
  }
 ],
 "metadata": {
  "kernelspec": {
   "display_name": "Python 3",
   "language": "python",
   "name": "python3"
  },
  "language_info": {
   "codemirror_mode": {
    "name": "ipython",
    "version": 3
   },
   "file_extension": ".py",
   "mimetype": "text/x-python",
   "name": "python",
   "nbconvert_exporter": "python",
   "pygments_lexer": "ipython3",
   "version": "3.7.1"
  }
 },
 "nbformat": 4,
 "nbformat_minor": 2
}
