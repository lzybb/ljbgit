{
 "cells": [
  {
   "cell_type": "code",
   "execution_count": 5,
   "metadata": {},
   "outputs": [
    {
     "name": "stdout",
     "output_type": "stream",
     "text": [
      "ljb\n"
     ]
    }
   ],
   "source": [
    "class A():\n",
    "    name = 'ljb'\n",
    "    age = 36\n",
    "    pass\n",
    "\n",
    "A.__dict__\n",
    "\n",
    "# 实例化\n",
    "ljb = A()\n",
    "ljb.__dict__\n",
    "print(ljb.name)"
   ]
  },
  {
   "cell_type": "code",
   "execution_count": 11,
   "metadata": {},
   "outputs": [
    {
     "name": "stdout",
     "output_type": "stream",
     "text": [
      "ljb\n",
      "36\n",
      "2827095173472\n",
      "140716499253168\n",
      "********************\n",
      "ljb\n",
      "36\n",
      "2827095173472\n",
      "140716499253168\n",
      "********************\n",
      "ljb\n",
      "36\n",
      "2827095174088\n",
      "140716499252208\n"
     ]
    }
   ],
   "source": [
    "class B():\n",
    "    name = 'ljb'\n",
    "    age = 36\n",
    "    \n",
    "    # 注意函数的写法，参数有一个self\n",
    "    def say(self):\n",
    "        self.name = 'zjy'\n",
    "        self.age = 1\n",
    "\n",
    "# 此案例说明：\n",
    "# 1，类的属性单独存在\n",
    "# 2，对象的属性没赋值前，指向类的属性；赋值后指向赋值的id\n",
    "        \n",
    "        \n",
    "# 此时，B称为类实例\n",
    "print(B.name)\n",
    "print(B.age)\n",
    "print(id(B.name))\n",
    "print(id(B.age))\n",
    "print('*'* 20)\n",
    "b = B()\n",
    "print(b.name)\n",
    "print(b.age)\n",
    "print(id(b.name))\n",
    "print(id(b.age))\n",
    "print('*'* 20)\n",
    "\n",
    "# 对象赋值\n",
    "bb = B()\n",
    "bb.name = 'lzy'\n",
    "bb.age = 6\n",
    "print(B.name)\n",
    "print(B.age)\n",
    "print(id(bb.name))\n",
    "print(id(bb.age))\n"
   ]
  },
  {
   "cell_type": "code",
   "execution_count": 14,
   "metadata": {},
   "outputs": [
    {
     "name": "stdout",
     "output_type": "stream",
     "text": [
      "{'__module__': '__main__', 'name': 'ljb', 'age': 36, 'say': <function B.say at 0x000002923C0D9D90>, '__dict__': <attribute '__dict__' of 'B' objects>, '__weakref__': <attribute '__weakref__' of 'B' objects>, '__doc__': None}\n",
      "{}\n",
      "{'__module__': '__main__', 'name': 'ljb', 'age': 36, 'say': <function B.say at 0x000002923C0D9D90>, '__dict__': <attribute '__dict__' of 'B' objects>, '__weakref__': <attribute '__weakref__' of 'B' objects>, '__doc__': None}\n",
      "{'name': 'lzy', 'age': 6}\n"
     ]
    }
   ],
   "source": [
    "class B():\n",
    "    name = 'ljb'\n",
    "    age = 36\n",
    "    \n",
    "    # 注意函数的写法，参数有一个self\n",
    "    def say(self):\n",
    "        self.name = 'zjy'\n",
    "        self.age = 1\n",
    "        \n",
    "b = B()\n",
    "print(B.__dict__)\n",
    "print(b.__dict__)\n",
    "b.name = 'lzy'\n",
    "b.age = 6\n",
    "print(B.__dict__)\n",
    "print(b.__dict__)"
   ]
  },
  {
   "cell_type": "code",
   "execution_count": 25,
   "metadata": {},
   "outputs": [
    {
     "name": "stdout",
     "output_type": "stream",
     "text": [
      "我叫zjy\n",
      "我今年1岁了\n",
      "我叫zjy\n",
      "我今年1岁了\n",
      "********************\n",
      "我叫zjy\n",
      "我今年1岁了\n"
     ]
    }
   ],
   "source": [
    "class Student():\n",
    "    name = 'ljb'\n",
    "    age = 36\n",
    "    \n",
    "    def say(self):\n",
    "        self.name = 'zjy'\n",
    "        self.age = 1\n",
    "        print('我叫{0}'.format(self.name))\n",
    "        print('我今年{0}岁了'.format(self.age))\n",
    "\n",
    "    def sayAgain(s):\n",
    "        print('我叫{0}'.format(s.name))\n",
    "        print('我今年{0}岁了'.format(s.age))\n",
    "\n",
    "ljb = Student()\n",
    "# self不是关键字\n",
    "ljb.say()\n",
    "ljb.sayAgain()\n",
    "print('*'*20)\n",
    "ljb.name = 'ljb'\n",
    "ljb.age = 36\n",
    "ljb.say()\n"
   ]
  },
  {
   "cell_type": "code",
   "execution_count": 34,
   "metadata": {},
   "outputs": [
    {
     "name": "stdout",
     "output_type": "stream",
     "text": [
      "我叫zjy\n",
      "我今年1岁了\n",
      "又来了\n"
     ]
    }
   ],
   "source": [
    "class Student():\n",
    "    name = 'ljb'\n",
    "    age = 36\n",
    "    \n",
    "    def say(self):\n",
    "        self.name = 'zjy'\n",
    "        self.age = 1\n",
    "        print('我叫{0}'.format(self.name))\n",
    "        print('我今年{0}岁了'.format(self.age))\n",
    "    def sayAgain():\n",
    "        print('又来了')    \n",
    "        \n",
    "ljb = Student()       \n",
    "ljb.say()\n",
    "# 调用绑定类的函数要使用类名\n",
    "# ljb.sayAgain()\n",
    "Student.sayAgain()\n"
   ]
  },
  {
   "cell_type": "code",
   "execution_count": 41,
   "metadata": {},
   "outputs": [
    {
     "name": "stdout",
     "output_type": "stream",
     "text": [
      "我ljb又回来啦\n",
      "啊，36年后，我再来\n",
      "我叫ljb\n",
      "我今年36岁了\n"
     ]
    }
   ],
   "source": [
    "class Student():\n",
    "    name = 'ljb'\n",
    "    age = 36\n",
    "    \n",
    "    def say(self):\n",
    "        self.name = 'zjy'\n",
    "        self.age = 1\n",
    "       #调用类本身的成员变量需要用__class__.\n",
    "        print('我叫{0}'.format(__class__.name))\n",
    "        print('我今年{0}岁了'.format(__class__.age))\n",
    "    def sayAgain(): \n",
    "        print('我{0}又回来啦'.format(__class__.name))\n",
    "        print('啊，{0}年后，我再来'.format(__class__.age))\n",
    "Student.sayAgain()\n",
    "\n",
    "zj = Student()\n",
    "zj.name = 'zj'\n",
    "zj.age = 33\n",
    "zj.say()\n",
    "# 对象成员赋值后影响不到类的成员"
   ]
  },
  {
   "cell_type": "code",
   "execution_count": 42,
   "metadata": {},
   "outputs": [
    {
     "name": "stdout",
     "output_type": "stream",
     "text": [
      "我叫zj\n",
      "我今年33岁了\n"
     ]
    }
   ],
   "source": [
    "class Student():\n",
    "    name = 'ljb'\n",
    "    age = 36\n",
    "    \n",
    "    def say(self):\n",
    "        print('我叫{0}'.format(self.name))\n",
    "        print('我今年{0}岁了'.format(self.age))\n",
    "        \n",
    "zj = Student()\n",
    "zj.name = 'zj'\n",
    "zj.age = 33\n",
    "zj.say()"
   ]
  },
  {
   "cell_type": "code",
   "execution_count": 45,
   "metadata": {},
   "outputs": [
    {
     "name": "stdout",
     "output_type": "stream",
     "text": [
      "aaa\n",
      "100\n",
      "********************\n",
      "fff\n",
      "1111\n",
      "********************\n",
      "fff\n",
      "1111\n",
      "ljb\n",
      "36\n",
      "bbb\n",
      "20\n"
     ]
    }
   ],
   "source": [
    "# 关于self的案例\n",
    "\n",
    "class A():\n",
    "    name = 'ljb'\n",
    "    age = 36\n",
    "    \n",
    "    # 以下函数为构造函数\n",
    "    def __init__(self):  # 给形式参数self赋值\n",
    "        self.name = 'aaa'\n",
    "        self.age = 100\n",
    "    \n",
    "    def say(self):\n",
    "        print(self.name)\n",
    "        print(self.age)\n",
    "        \n",
    "class B():\n",
    "    name = 'bbb'\n",
    "    age = 20\n",
    "    \n",
    "a = A()\n",
    "a.say()\n",
    "print('*'*20)\n",
    "a.name = 'fff'\n",
    "a.age = 1111\n",
    "a.say()  # 此时：1，self以外部赋值为优先；2，没外部赋值，则找类的内部是否有构造函数赋值\n",
    "print('*'*20)\n",
    "# A.say() 报错原因：缺少参数\n",
    "A.say(a) # 此时，self被a替换\n",
    "# 同样可以把A作为参数传入\n",
    "A.say(A)\n",
    "\n",
    "# 此时，传入的是类实例B，因为B具有name和age属性，所以不会报错\n",
    "A.say(B)\n",
    "\n",
    "# 以上代码，利用了鸭子模型（满足函数需求的变量，就可以调用）"
   ]
  },
  {
   "cell_type": "code",
   "execution_count": 57,
   "metadata": {},
   "outputs": [
    {
     "name": "stdout",
     "output_type": "stream",
     "text": [
      "ljb\n",
      "18\n",
      "{}\n"
     ]
    }
   ],
   "source": [
    "# 私有变量案例\n",
    "\n",
    "class Person():\n",
    "    # name是公有的成员\n",
    "    name = 'ljb'\n",
    "    # __age就是私有成员\n",
    "    __age = 18\n",
    "    \n",
    "p = Person()\n",
    "# name 是公有变量\n",
    "print(p.name)\n",
    "# __age是私有变量\n",
    "# 注意报错信息\n",
    "#print(p.__age)\n",
    "print(p._Person__age)\n",
    "\n",
    "print(p.__dict__)"
   ]
  },
  {
   "cell_type": "code",
   "execution_count": 56,
   "metadata": {},
   "outputs": [
    {
     "name": "stdout",
     "output_type": "stream",
     "text": [
      "{'__module__': '__main__', 'name': 'ljb', '_Person__age': 18, '__dict__': <attribute '__dict__' of 'Person' objects>, '__weakref__': <attribute '__weakref__' of 'Person' objects>, '__doc__': None}\n",
      "19\n"
     ]
    }
   ],
   "source": [
    "# name mangling计数\n",
    "print(Person.__dict__)\n",
    "\n",
    "p._Person__age = 19\n",
    "print(p._Person__age)"
   ]
  }
 ],
 "metadata": {
  "kernelspec": {
   "display_name": "Python 3",
   "language": "python",
   "name": "python3"
  },
  "language_info": {
   "codemirror_mode": {
    "name": "ipython",
    "version": 3
   },
   "file_extension": ".py",
   "mimetype": "text/x-python",
   "name": "python",
   "nbconvert_exporter": "python",
   "pygments_lexer": "ipython3",
   "version": "3.7.1"
  }
 },
 "nbformat": 4,
 "nbformat_minor": 2
}
