{
 "cells": [
  {
   "cell_type": "code",
   "execution_count": 1,
   "metadata": {},
   "outputs": [
    {
     "data": {
      "text/plain": [
       "['_Test__cz',\n",
       " '__class__',\n",
       " '__delattr__',\n",
       " '__dict__',\n",
       " '__dir__',\n",
       " '__doc__',\n",
       " '__eq__',\n",
       " '__format__',\n",
       " '__ge__',\n",
       " '__getattribute__',\n",
       " '__gt__',\n",
       " '__hash__',\n",
       " '__init__',\n",
       " '__init_subclass__',\n",
       " '__le__',\n",
       " '__lt__',\n",
       " '__module__',\n",
       " '__ne__',\n",
       " '__new__',\n",
       " '__reduce__',\n",
       " '__reduce_ex__',\n",
       " '__repr__',\n",
       " '__setattr__',\n",
       " '__sizeof__',\n",
       " '__str__',\n",
       " '__subclasshook__',\n",
       " '__weakref__',\n",
       " '_bar',\n",
       " 'foo']"
      ]
     },
     "execution_count": 1,
     "metadata": {},
     "output_type": "execute_result"
    }
   ],
   "source": [
    "class Test():\n",
    "    def __init__(self):\n",
    "        self.foo = 11\n",
    "        self._bar = 22\n",
    "        self.__cz = 33\n",
    "t = Test()\n",
    "dir(t)"
   ]
  },
  {
   "cell_type": "code",
   "execution_count": 4,
   "metadata": {},
   "outputs": [
    {
     "name": "stdout",
     "output_type": "stream",
     "text": [
      "23\n"
     ]
    }
   ],
   "source": [
    "20+3\n",
    "_\n",
    "print(_)"
   ]
  },
  {
   "cell_type": "code",
   "execution_count": 11,
   "metadata": {},
   "outputs": [
    {
     "data": {
      "text/plain": [
       "[1, 3, 1, 1, 3, 1, 1, 3, 1]"
      ]
     },
     "execution_count": 11,
     "metadata": {},
     "output_type": "execute_result"
    }
   ],
   "source": [
    "list()\n",
    "_.append(1)\n",
    "_.append(3)\n",
    "_.append(1)\n",
    "_"
   ]
  },
  {
   "cell_type": "code",
   "execution_count": 12,
   "metadata": {},
   "outputs": [
    {
     "name": "stdout",
     "output_type": "stream",
     "text": [
      "NoName\n",
      "0\n"
     ]
    }
   ],
   "source": [
    "# 继承的语法\n",
    "# 在python中，任何类都有一个共同的父类叫object\n",
    "class Person():\n",
    "    name = 'NoName'\n",
    "    age = 0\n",
    "    def sleep(self):\n",
    "        print('sleeping....')\n",
    "        \n",
    "# 父类写在括号内\n",
    "class Student(Person):\n",
    "    def make_test(self):\n",
    "        pass\n",
    "\n",
    "s = Student()\n",
    "print(s.name)\n",
    "print(s.age)\n",
    "    \n"
   ]
  },
  {
   "cell_type": "code",
   "execution_count": 19,
   "metadata": {},
   "outputs": [
    {
     "name": "stdout",
     "output_type": "stream",
     "text": [
      "NoName\n",
      "ljb\n",
      "sleeping....\n",
      "5678\n",
      "study\n"
     ]
    }
   ],
   "source": [
    "class Person():\n",
    "    name = 'NoName'\n",
    "    age = 0\n",
    "    __score = 60 # 私有的，自能自己使用\n",
    "    _petname = 'ljb'# 是保护的，子类可以用，但不能公用\n",
    "    def sleep(self):\n",
    "        print('sleeping....')\n",
    "        \n",
    "class Student(Person):\n",
    "    student_id = '5678'\n",
    "    def make_test(self):\n",
    "        print('study')\n",
    "\n",
    "s = Student()\n",
    "print(s.name)\n",
    "# \n",
    "print(s._petname)\n",
    "\n",
    "# 私有访问问题\n",
    "# 公开访问私有变量，报错\n",
    "# print(s.__score)\n",
    "s.sleep()\n",
    "print(s.student_id)\n",
    "s.make_test()"
   ]
  },
  {
   "cell_type": "code",
   "execution_count": 21,
   "metadata": {},
   "outputs": [
    {
     "name": "stdout",
     "output_type": "stream",
     "text": [
      "zjy\n"
     ]
    }
   ],
   "source": [
    "# 子类和父类定义同一个名称变量，则优先使用子类本身变量\n",
    "class Person():\n",
    "    name = 'NoName'\n",
    "    age = 0\n",
    "    __score = 60 \n",
    "    _petname = 'ljb'\n",
    "    def sleep(self):\n",
    "        print('sleeping....')\n",
    "        \n",
    "class Student(Person):\n",
    "    student_id = '5678'\n",
    "    name = 'zjy'\n",
    "    def make_test(self):\n",
    "        print('study')\n",
    "s = Student()\n",
    "print(s.name)"
   ]
  },
  {
   "cell_type": "code",
   "execution_count": 23,
   "metadata": {},
   "outputs": [
    {
     "name": "stdout",
     "output_type": "stream",
     "text": [
      "make some money\n",
      "make some money\n",
      "study\n"
     ]
    }
   ],
   "source": [
    "# 子类扩充父类功能的案例\n",
    "class Person():\n",
    "    name = 'NoName'\n",
    "    age = 0\n",
    "    __score = 60 \n",
    "    _petname = 'ljb'\n",
    "    def sleep(self):\n",
    "        print('sleeping....')\n",
    "    def work(self):\n",
    "        print('make some money')\n",
    "        \n",
    "class Student(Person):\n",
    "    student_id = '5678'\n",
    "    name = 'zjy'\n",
    "    def make_test(self):\n",
    "        print('study')\n",
    "    def work(self):\n",
    "        # 扩充父类的功能只需要调用父类相应的函数\n",
    "        Person.work(self)\n",
    "        # super代表得到父类\n",
    "        super().work()\n",
    "        self.make_test()\n",
    "\n",
    "s = Student()\n",
    "s.work()"
   ]
  },
  {
   "cell_type": "code",
   "execution_count": 24,
   "metadata": {},
   "outputs": [
    {
     "name": "stdout",
     "output_type": "stream",
     "text": [
      "I am init dog\n"
     ]
    }
   ],
   "source": [
    "# 构造函数的概念\n",
    "\n",
    "class Dog():\n",
    "    # __init__就是构造函数\n",
    "    # 每次实例化的时候，第一个被调用\n",
    "    # 因为主要工作是进行初始化，所以得名\n",
    "    def __init__(self):\n",
    "        print('I am init dog')\n",
    "\n",
    "# 实例化的时候，括号内的参数需要跟构造函数参数相匹配\n",
    "kaka = Dog()"
   ]
  },
  {
   "cell_type": "code",
   "execution_count": 29,
   "metadata": {},
   "outputs": [
    {
     "name": "stdout",
     "output_type": "stream",
     "text": [
      "I am init dog\n"
     ]
    }
   ],
   "source": [
    "# 继承中的构造函数-1\n",
    "class Animel():\n",
    "    def __init__(self):\n",
    "        print('Animel')\n",
    "\n",
    "class PaxingAnimel(Animel):\n",
    "    pass\n",
    "\n",
    "class Dog(PaxingAnimel):\n",
    "    def __init__(self):\n",
    "        print('I am init dog')\n",
    "\n",
    "# 实例化的时候，自动调用Dog的构造函数\n",
    "kaka = Dog()"
   ]
  },
  {
   "cell_type": "code",
   "execution_count": 30,
   "metadata": {},
   "outputs": [
    {
     "name": "stdout",
     "output_type": "stream",
     "text": [
      "I am init dog\n",
      "Paxing Dongwu\n"
     ]
    }
   ],
   "source": [
    "# 继承中的构造函数-2\n",
    "class Animel():\n",
    "    def __init__(self):\n",
    "        print('Animel')\n",
    "\n",
    "class PaxingAnimel(Animel):\n",
    "    def __init__(self):\n",
    "        print('Paxing Dongwu')\n",
    "\n",
    "class Dog(PaxingAnimel):\n",
    "    def __init__(self):\n",
    "        print('I am init dog')\n",
    "\n",
    "# 实例化的时候，自动调用Dog的构造函数\n",
    "# 因为找到了构造函数，则不再查找父类的构造函数\n",
    "kaka = Dog()\n",
    "\n",
    "# 没有定义构造函数\n",
    "class Cat(PaxingAnimel):\n",
    "    pass \n",
    "# 此时应该自动调用构造函数，因Cat没有构造函数，则查找父类构造函数\n",
    "c = Cat()"
   ]
  },
  {
   "cell_type": "code",
   "execution_count": 31,
   "metadata": {},
   "outputs": [
    {
     "name": "stdout",
     "output_type": "stream",
     "text": [
      "Paxing Dongwu\n"
     ]
    }
   ],
   "source": [
    "class Animel():\n",
    "    pass\n",
    "\n",
    "class PaxingAnimel(Animel):\n",
    "    def __init__(self):\n",
    "        print('Paxing Dongwu')\n",
    "\n",
    "class Dog(PaxingAnimel):\n",
    "    pass\n",
    "# 实例化时，会尝试找到一个构造函数才停止\n",
    "kaka = Dog()"
   ]
  },
  {
   "cell_type": "code",
   "execution_count": 34,
   "metadata": {},
   "outputs": [
    {
     "ename": "SyntaxError",
     "evalue": "invalid character in identifier (<ipython-input-34-9dc223813758>, line 7)",
     "output_type": "error",
     "traceback": [
      "\u001b[1;36m  File \u001b[1;32m\"<ipython-input-34-9dc223813758>\"\u001b[1;36m, line \u001b[1;32m7\u001b[0m\n\u001b[1;33m    def __init__(self，name):\u001b[0m\n\u001b[1;37m                         ^\u001b[0m\n\u001b[1;31mSyntaxError\u001b[0m\u001b[1;31m:\u001b[0m invalid character in identifier\n"
     ]
    }
   ],
   "source": [
    "# 继承中的构造函数-3\n",
    "class Animel():\n",
    "    def __init__(self):\n",
    "        print('Animel')\n",
    "\n",
    "class PaxingAnimel(Animel):\n",
    "    def __init__(self，name):\n",
    "        print('Paxing Dongwu {0}'.format(name))\n",
    "\n",
    "class Dog(PaxingAnimel):\n",
    "    def __init__(self):\n",
    "        print('I am init dog')\n",
    "        \n",
    "# 实例化Dog时，查找到Dog的构造函数，参数匹配，不报错        \n",
    "d = Dog()\n",
    "\n",
    "class Cat(PaxingAnimel):\n",
    "    pass\n",
    "# 此时，由于Cat没有构造函数，则向上查找\n",
    "# 因父类PaxingAnimel的构造函数需要两个参数，实例化的时候只给了一个，报错\n",
    "c = Cat()"
   ]
  },
  {
   "cell_type": "code",
   "execution_count": 37,
   "metadata": {},
   "outputs": [
    {
     "name": "stdout",
     "output_type": "stream",
     "text": [
      "Animel\n",
      "Animel\n"
     ]
    }
   ],
   "source": [
    "# 继承中的构造函数-4\n",
    "class Animel():\n",
    "    def __init__(self):\n",
    "        print('Animel')\n",
    "\n",
    "class PaxingAnimel(Animel):\n",
    "    pass\n",
    "\n",
    "class Dog(PaxingAnimel):\n",
    "    pass\n",
    "\n",
    "class Cat(PaxingAnimel):\n",
    "    pass\n",
    "\n",
    "d = Dog()\n",
    "\n",
    "c = Cat()"
   ]
  },
  {
   "cell_type": "code",
   "execution_count": 39,
   "metadata": {},
   "outputs": [
    {
     "name": "stdout",
     "output_type": "stream",
     "text": [
      "<class 'type'>\n",
      "Help on class super in module builtins:\n",
      "\n",
      "class super(object)\n",
      " |  super() -> same as super(__class__, <first argument>)\n",
      " |  super(type) -> unbound super object\n",
      " |  super(type, obj) -> bound super object; requires isinstance(obj, type)\n",
      " |  super(type, type2) -> bound super object; requires issubclass(type2, type)\n",
      " |  Typical use to call a cooperative superclass method:\n",
      " |  class C(B):\n",
      " |      def meth(self, arg):\n",
      " |          super().meth(arg)\n",
      " |  This works for class methods too:\n",
      " |  class C(B):\n",
      " |      @classmethod\n",
      " |      def cmeth(cls, arg):\n",
      " |          super().cmeth(arg)\n",
      " |  \n",
      " |  Methods defined here:\n",
      " |  \n",
      " |  __get__(self, instance, owner, /)\n",
      " |      Return an attribute of instance, which is of type owner.\n",
      " |  \n",
      " |  __getattribute__(self, name, /)\n",
      " |      Return getattr(self, name).\n",
      " |  \n",
      " |  __init__(self, /, *args, **kwargs)\n",
      " |      Initialize self.  See help(type(self)) for accurate signature.\n",
      " |  \n",
      " |  __repr__(self, /)\n",
      " |      Return repr(self).\n",
      " |  \n",
      " |  ----------------------------------------------------------------------\n",
      " |  Static methods defined here:\n",
      " |  \n",
      " |  __new__(*args, **kwargs) from builtins.type\n",
      " |      Create and return a new object.  See help(type) for accurate signature.\n",
      " |  \n",
      " |  ----------------------------------------------------------------------\n",
      " |  Data descriptors defined here:\n",
      " |  \n",
      " |  __self__\n",
      " |      the instance invoking super(); may be None\n",
      " |  \n",
      " |  __self_class__\n",
      " |      the type of the instance invoking super(); may be None\n",
      " |  \n",
      " |  __thisclass__\n",
      " |      the class invoking super()\n",
      "\n"
     ]
    }
   ],
   "source": [
    "print(type(super))\n",
    "help(super)"
   ]
  },
  {
   "cell_type": "code",
   "execution_count": null,
   "metadata": {},
   "outputs": [],
   "source": []
  }
 ],
 "metadata": {
  "kernelspec": {
   "display_name": "Python 3",
   "language": "python",
   "name": "python3"
  },
  "language_info": {
   "codemirror_mode": {
    "name": "ipython",
    "version": 3
   },
   "file_extension": ".py",
   "mimetype": "text/x-python",
   "name": "python",
   "nbconvert_exporter": "python",
   "pygments_lexer": "ipython3",
   "version": "3.7.1"
  }
 },
 "nbformat": 4,
 "nbformat_minor": 2
}
