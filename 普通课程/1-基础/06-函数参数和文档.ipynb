{
 "cells": [
  {
   "cell_type": "markdown",
   "metadata": {},
   "source": [
    "# 四类参数\n",
    "- 普通参数\n",
    "- 默认参数\n",
    "- 关键字参数\n",
    "- 收集参数\n",
    "\n",
    "## 关键字参数开始\n",
    "- 语法\n",
    "\n",
    "            def func(p1=v1,p2=v2...):\n",
    "                func_body\n",
    "                \n",
    "            调用函数:\n",
    "            func(p1=value1,p=value2...)\n",
    "- 比较麻烦，但也有好处：\n",
    "    - 不容易混淆，一般实参和形参只是按照位置一一对应即可，容易出错\n",
    "    - 使用关键字参数，可以不考虑参数位置"
   ]
  },
  {
   "cell_type": "code",
   "execution_count": 27,
   "metadata": {},
   "outputs": [
    {
     "name": "stdout",
     "output_type": "stream",
     "text": [
      "I am a student\n",
      "我叫6,今年lzy岁了，我住小石城 \n"
     ]
    }
   ],
   "source": [
    "# 关键字参数案例\n",
    "def stu(name,age,addr ):\n",
    "    print(\"I am a student\")\n",
    "    print(\"我叫{0},今年{1}岁了，我住{2} \".format(name,age,addr) )\n",
    "\n",
    "n= \"lzy\"\n",
    "a= 6\n",
    "addr= \"小石城\"\n",
    "\n",
    "# 普通参数，只是按照位置传递，容易出错\n",
    "stu(a, n, addr)\n"
   ]
  },
  {
   "cell_type": "code",
   "execution_count": 44,
   "metadata": {},
   "outputs": [
    {
     "name": "stdout",
     "output_type": "stream",
     "text": [
      "I am a student\n",
      "我叫lzy,今年6岁了，我住小石城 \n",
      "I am a student\n",
      "我叫lzy,今年6岁了，我住小石城 \n"
     ]
    }
   ],
   "source": [
    "# 下面自我编程，注意与下面案例的区别\n",
    "# 调用时：参数赋值了，后面的参数都要赋值；\n",
    "\n",
    "# 1自编\n",
    "def stu(name,age,addr ):\n",
    "    print(\"I am a student\")\n",
    "    print(\"我叫{0},今年{1}岁了，我住{2} \".format(name,age,addr) )\n",
    "\n",
    "n= \"lzy\"\n",
    "a= 6\n",
    "addr= \"小石城\"\n",
    "\n",
    "stu(name=n,age=a,addr=addr)\n",
    "\n",
    "# 2自编\n",
    "def stu(name,age,addr ):\n",
    "    print(\"I am a student\")\n",
    "    print(\"我叫{0},今年{1}岁了，我住{2} \".format(name,age,addr) )\n",
    "\n",
    "n= \"lzy\"\n",
    "a= 6\n",
    "addr= \"小石城\"\n",
    "\n",
    "stu(n,age=a,addr=addr)\n"
   ]
  },
  {
   "cell_type": "code",
   "execution_count": 4,
   "metadata": {},
   "outputs": [
    {
     "name": "stdout",
     "output_type": "stream",
     "text": [
      "I am a student\n",
      "我叫lzy,今年6岁了，我住小石城 \n"
     ]
    }
   ],
   "source": [
    "def stu_key(name=\"no name\", age=0, addr=\"no addr\" ):\n",
    "    print(\"I am a student\")\n",
    "    print(\"我叫{0},今年{1}岁了，我住{2} \".format(name,age,addr) )\n",
    "\n",
    "n = \"lzy\"\n",
    "a = 6\n",
    "addr = \"小石城\"\n",
    "\n",
    "# 关键字参数\n",
    "stu(age=a, addr=addr, name=n)"
   ]
  },
  {
   "cell_type": "markdown",
   "metadata": {},
   "source": [
    "## 收集参数\n",
    "- 把没有位置，不能和定义时的参数位置相对应的参数，放入一个特定的数据结构中\n",
    "- 语法\n",
    "\n",
    "        def func(*args):\n",
    "            func_body\n",
    "            按照list使用方式访问args得到传入的参数\n",
    "            \n",
    "        调用：\n",
    "        func(p1, p2, p3, ...)\n",
    "        \n",
    "- 参数名args不是必须这么写，但是我们推荐直接用args，约定俗成\n",
    "- 参数名args前需要有*\n",
    "- 收集参数可以和其他参数共存"
   ]
  },
  {
   "cell_type": "code",
   "execution_count": 50,
   "metadata": {},
   "outputs": [
    {
     "name": "stdout",
     "output_type": "stream",
     "text": [
      "Hello 大家好，我自我介绍下，简单说两句：\n",
      "<class 'tuple'>\n",
      "lzy 6 小石城 小学 \n",
      "\n",
      "Hello 大家好，我自我介绍下，简单说两句：\n",
      "<class 'tuple'>\n",
      "zj \n",
      "\n"
     ]
    }
   ],
   "source": [
    "# 收集参数代码\n",
    "# 函数模拟一个学生进行自我介绍，但具体内容不清楚\n",
    "# args看着一个list\n",
    "def stu( *args ):\n",
    "    print(\"Hello 大家好，我自我介绍下，简单说两句：\")\n",
    "    # type函数作用是检测变量的类型\n",
    "    print(type(args))\n",
    "    for i in args:\n",
    "        print(i, end=\" \")\n",
    "    print(\"\\n\")\n",
    "\n",
    "\n",
    "stu(\"lzy\", 6, \"小石城\", \"小学\"  )\n",
    "\n",
    "stu(\"zj\")"
   ]
  },
  {
   "cell_type": "code",
   "execution_count": 8,
   "metadata": {},
   "outputs": [
    {
     "name": "stdout",
     "output_type": "stream",
     "text": [
      "Hello 大家好，我自我介绍下，简单说两句：\n",
      "<class 'tuple'>\n",
      "\n"
     ]
    }
   ],
   "source": [
    "# 收集函数案例\n",
    "# 说明收集函数可以不带任何参数调用，此时收集参数为空tuple\n",
    "stu()"
   ]
  },
  {
   "cell_type": "code",
   "execution_count": 9,
   "metadata": {},
   "outputs": [
    {
     "ename": "TypeError",
     "evalue": "stu() got an unexpected keyword argument 'name'",
     "output_type": "error",
     "traceback": [
      "\u001b[0;31m-----------------------------------------------------------------------\u001b[0m",
      "\u001b[0;31mTypeError\u001b[0m                             Traceback (most recent call last)",
      "\u001b[0;32m<ipython-input-9-410bf4938500>\u001b[0m in \u001b[0;36m<module>\u001b[0;34m()\u001b[0m\n\u001b[1;32m      1\u001b[0m \u001b[0;31m# 如果使用关键字参数格式调用，会出问题\u001b[0m\u001b[0;34m\u001b[0m\u001b[0;34m\u001b[0m\u001b[0m\n\u001b[0;32m----> 2\u001b[0;31m \u001b[0mstu\u001b[0m\u001b[0;34m(\u001b[0m\u001b[0mname\u001b[0m\u001b[0;34m=\u001b[0m\u001b[0;34m\"lzy\"\u001b[0m\u001b[0;34m)\u001b[0m\u001b[0;34m\u001b[0m\u001b[0m\n\u001b[0m",
      "\u001b[0;31mTypeError\u001b[0m: stu() got an unexpected keyword argument 'name'"
     ]
    }
   ],
   "source": [
    "# 如果使用关键字参数格式调用，会出问题\n",
    "stu(name=\"lzy\")"
   ]
  },
  {
   "cell_type": "markdown",
   "metadata": {},
   "source": [
    "### 收集参数之关键字收集参数\n",
    "- 把关键字参数按照字典格式存入收集参数\n",
    "- 语法：\n",
    "\n",
    "        def func( **kwargs):\n",
    "            func_body\n",
    "            \n",
    "        #调用:\n",
    "        func(p1=v1, p2=v2, p3=v3, ...)\n",
    "- kwargs一般约定俗成\n",
    "- 调用的时候，把多余的关键字参数放入kwargs\n",
    "- 访问kwargs需要按字典格式访问\n"
   ]
  },
  {
   "cell_type": "code",
   "execution_count": 23,
   "metadata": {},
   "outputs": [
    {
     "name": "stdout",
     "output_type": "stream",
     "text": [
      "Hello,大家好，我先自我介绍下：\n",
      "<class 'dict'>\n",
      "name --- lzy\n",
      "age --- 6\n",
      "addr --- 小石城\n",
      "love --- zj\n",
      "work --- 小学\n",
      "******************************\n",
      "Hello,大家好，我先自我介绍下：\n",
      "<class 'dict'>\n",
      "name --- ljb\n"
     ]
    }
   ],
   "source": [
    "# 收集参数案例\n",
    "# 自我介绍\n",
    "# 调用的时候需要使用关键字参数调用\n",
    "def stu( **kwargs):\n",
    "    # 在函数体内对于kwargs的使用不用带*号\n",
    "    print(\"Hello,大家好，我先自我介绍下：\")\n",
    "    print(type(kwargs))\n",
    "    # 对于字典的访问，python2 和python3有区别\n",
    "    for k,v in kwargs.items():\n",
    "        print(k, \"---\", v)\n",
    "\n",
    "stu(name=\"lzy\", age=6, addr=\"小石城\", love=\"zj\",work=\"小学\")\n",
    "\n",
    "print(\"*\"*30)\n",
    "\n",
    "stu(name=\"ljb\")"
   ]
  },
  {
   "cell_type": "code",
   "execution_count": 25,
   "metadata": {},
   "outputs": [
    {
     "name": "stdout",
     "output_type": "stream",
     "text": [
      "Hello,大家好，我先自我介绍下：\n",
      "<class 'dict'>\n",
      "('name', 'lzy') ---\n",
      "('age', 6) ---\n",
      "('addr', '小石城') ---\n",
      "('love', 'zj') ---\n",
      "('work', '小学') ---\n",
      "******************************\n",
      "Hello,大家好，我先自我介绍下：\n",
      "<class 'dict'>\n",
      "('name', 'ljb') ---\n"
     ]
    }
   ],
   "source": [
    "# **kwargs关键函数中：一个值有2个：1为参数名，2为参数的赋值（类似dict字典形式）\n",
    "\n",
    "def stu( **kwargs):\n",
    "    # 在函数体内对于kwargs的使用不用带*号\n",
    "    print(\"Hello,大家好，我先自我介绍下：\")\n",
    "    print(type(kwargs))\n",
    "    # 对于字典的访问，python2 和python3有区别\n",
    "    for k in kwargs.items():\n",
    "        print(k, \"---\")\n",
    "\n",
    "stu(name=\"lzy\", age=6, addr=\"小石城\", love=\"zj\",work=\"小学\")\n",
    "\n",
    "print(\"*\"*30)\n",
    "\n",
    "stu(name=\"ljb\")"
   ]
  },
  {
   "cell_type": "code",
   "execution_count": 26,
   "metadata": {},
   "outputs": [
    {
     "name": "stdout",
     "output_type": "stream",
     "text": [
      "Hello,大家好，我先自我介绍下：\n",
      "<class 'dict'>\n"
     ]
    }
   ],
   "source": [
    "# 收集参数可以为空案例\n",
    "stu()"
   ]
  },
  {
   "cell_type": "markdown",
   "metadata": {},
   "source": [
    "### 收集参数混合调用的顺序问题\n",
    "- 收集参数，关键字参数，普通参数可以混合使用\n",
    "- 使用规则就是：普通参数和关键字参数优先\n",
    "- 定义的时候一般找普通参数，关键字参数，收集参数tuple，收集参数dict"
   ]
  },
  {
   "cell_type": "code",
   "execution_count": 58,
   "metadata": {},
   "outputs": [
    {
     "name": "stdout",
     "output_type": "stream",
     "text": [
      "Hello，大家好\n",
      "我叫lzy，我今年19大了。\n",
      "我没什么特别爱好\n",
      "********************\n",
      "####################\n",
      "Hello，大家好\n",
      "我叫lzy，我今年19大了。\n",
      "我的爱好是打游戏\n",
      "********************\n",
      "####################\n",
      "Hello，大家好\n",
      "我叫lzy，我今年19大了。\n",
      "我的爱好是学习\n",
      "********************\n",
      "i love zj\n",
      "####################\n",
      "hobby2 --- 打游戏\n",
      "hobby3 --- 看书\n"
     ]
    }
   ],
   "source": [
    "# 收集参数混合调用案例\n",
    "# stu模拟一个学生的自我介绍\n",
    "def stu(name, age, *args, hobby=\"没有\", **kwargs):\n",
    "    print(\"Hello，大家好\")\n",
    "    print(\"我叫{0}，我今年{1}大了。\".format(name,age))\n",
    "    if hobby == \"没有\":\n",
    "        print(\"我没什么特别爱好\")\n",
    "    else:\n",
    "        print(\"我的爱好是{0}\".format(hobby))\n",
    "    print(\"*\"*20)\n",
    "    \n",
    "    for i in args:\n",
    "        print(i)\n",
    "    print(\"#\"*20)\n",
    "    \n",
    "    for k,v in kwargs.items():\n",
    "        print(k, \"---\", v)\n",
    "        \n",
    "        \n",
    "# 开始调用函数\n",
    "name = \"lzy\"\n",
    "age = 19\n",
    "\n",
    "# 调用的不同格式\n",
    "stu(name,age)\n",
    "\n",
    "stu(name, age, hobby=\"打游戏\")\n",
    "\n",
    "stu(name, age, \"i love zj\", hobby=\"学习\", hobby2=\"打游戏\", hobby3=\"看书\")"
   ]
  },
  {
   "cell_type": "markdown",
   "metadata": {},
   "source": [
    "### 收集参数的解包问题\n",
    "- 把参数放入list或者字典中，直接把list/dict中的值放入收集参数中\n",
    "- 语法：看案例"
   ]
  },
  {
   "cell_type": "code",
   "execution_count": 64,
   "metadata": {},
   "outputs": [
    {
     "name": "stdout",
     "output_type": "stream",
     "text": [
      "\n",
      "\n",
      "哈哈哈哈哈\n",
      "<class 'list'>\n",
      "0\n",
      "['lzy', 6, 'zj', 33]\n",
      "哈哈哈哈哈\n",
      "<class 'str'>\n",
      "0\n",
      "lzy\n",
      "<class 'int'>\n",
      "1\n",
      "6\n",
      "<class 'str'>\n",
      "2\n",
      "zj\n",
      "<class 'int'>\n",
      "3\n",
      "33\n"
     ]
    }
   ],
   "source": [
    "# 收集参数的解包问题\n",
    "\n",
    "def stu(*args):\n",
    "    print(\"哈哈哈哈哈\")\n",
    "    n = 0\n",
    "    for i in args:\n",
    "        print(type(i))\n",
    "        print(n)\n",
    "        n += 1\n",
    "        print(i)\n",
    "        \n",
    "        \n",
    "#stu(\"lzy\", \"zj\", \"ljb\", 6, 33, 36)\n",
    "print(\"\\n\")\n",
    "\n",
    "l = [\"lzy\", 6, \"zj\", 33]\n",
    "\n",
    "stu(l)\n",
    "# 此时，args的表示形式是字典内一个list类型的元素，即 args = ([\"lzy\", 6, \"zj\", 33])\n",
    "# 很显然跟我们最初的想法不一样\n",
    "\n",
    "# 此时的调用，我们需要解包符号，即调用的时候前面加一个星号\n",
    "stu(*l)"
   ]
  },
  {
   "cell_type": "markdown",
   "metadata": {},
   "source": [
    "### 同理，dict类型收集参数一样可以解包，但是\n",
    "- 对dict类型进行解包\n",
    "- 需要用两个*号进行解包"
   ]
  },
  {
   "cell_type": "markdown",
   "metadata": {},
   "source": [
    "## 返回值\n",
    "- 函数和过程的区别\n",
    "    -有无返回值\n",
    "- 需要用return显示返回内容\n",
    "- 如果没有返回，则默认返回None\n",
    "- 推荐写法，无论有无返回值，最后都要以return结束"
   ]
  },
  {
   "cell_type": "code",
   "execution_count": 65,
   "metadata": {},
   "outputs": [
    {
     "name": "stdout",
     "output_type": "stream",
     "text": [
      "有返回值啊\n",
      "1\n",
      "没有返回值\n",
      "None\n"
     ]
    }
   ],
   "source": [
    "# 返回值示例\n",
    "\n",
    "def func_1():\n",
    "    print(\"有返回值啊\")\n",
    "    return 1\n",
    "\n",
    "def func_2():\n",
    "    print(\"没有返回值\")\n",
    "    return\n",
    "    \n",
    "    \n",
    "f1 = func_1()\n",
    "print(f1)\n",
    "\n",
    "f2 = func_2()\n",
    "print(f2)"
   ]
  },
  {
   "cell_type": "markdown",
   "metadata": {},
   "source": [
    "# 函数文档\n",
    "- 函数的文档的作用是对当前函数提供使用相关的参考信息\n",
    "- 文档的写法：\n",
    "    - 在函数内部开始的第一行使用三引号字符窜定义符\n",
    "    - 一般具有特定格式\n",
    "    - 参看案例\n",
    "- 文档查看\n",
    "    - 使用help函数，形如 help(func)\n",
    "    - 使用__doc__,参考案例 "
   ]
  },
  {
   "cell_type": "code",
   "execution_count": 71,
   "metadata": {
    "collapsed": true
   },
   "outputs": [],
   "source": [
    "# 文档案例\n",
    "# 函数stu是模拟一个学生的自我介绍的内容\n",
    "def stu(name, age, *args):\n",
    "    '''\n",
    "    这是第一行\n",
    "    这是第二行\n",
    "    这是第三行\n",
    "    \n",
    "    '''\n",
    "    print(\"This is hanshu stu\")"
   ]
  },
  {
   "cell_type": "code",
   "execution_count": 73,
   "metadata": {},
   "outputs": [
    {
     "name": "stdout",
     "output_type": "stream",
     "text": [
      "Help on function stu in module __main__:\n",
      "\n",
      "stu(name, age, *args)\n",
      "    这是第一行\n",
      "    这是第二行\n",
      "    这是第三行\n",
      "\n"
     ]
    },
    {
     "data": {
      "text/plain": [
       "'\\n    这是第一行\\n    这是第二行\\n    这是第三行\\n    \\n    '"
      ]
     },
     "execution_count": 73,
     "metadata": {},
     "output_type": "execute_result"
    }
   ],
   "source": [
    "# 查看函数文档\n",
    "help(stu)\n",
    "stu.__doc__ # __ 是2个 _"
   ]
  },
  {
   "cell_type": "code",
   "execution_count": 74,
   "metadata": {},
   "outputs": [
    {
     "name": "stdout",
     "output_type": "stream",
     "text": [
      "Help on function stu in module __main__:\n",
      "\n",
      "stu(name, age)\n",
      "    这是文档的文字内容\n",
      "    :param name: 表示学生的名字\n",
      "    :param age: 表示学生的年龄\n",
      "    :return: 此函数没有返回值\n",
      "\n",
      "None\n",
      "********************\n",
      "\n",
      "    这是文档的文字内容\n",
      "    :param name: 表示学生的名字\n",
      "    :param age: 表示学生的年龄\n",
      "    :return: 此函数没有返回值\n",
      "    \n"
     ]
    }
   ],
   "source": [
    "def stu(name, age):\n",
    "    '''\n",
    "    这是文档的文字内容\n",
    "    :param name: 表示学生的名字\n",
    "    :param age: 表示学生的年龄\n",
    "    :return: 此函数没有返回值\n",
    "    '''\n",
    "    pass\n",
    "\n",
    "print(help(stu))\n",
    "print(\"*\" * 20)\n",
    "print(stu.__doc__)"
   ]
  },
  {
   "cell_type": "code",
   "execution_count": null,
   "metadata": {
    "collapsed": true
   },
   "outputs": [],
   "source": []
  }
 ],
 "metadata": {
  "kernelspec": {
   "display_name": "Python 3",
   "language": "python",
   "name": "python3"
  },
  "language_info": {
   "codemirror_mode": {
    "name": "ipython",
    "version": 3
   },
   "file_extension": ".py",
   "mimetype": "text/x-python",
   "name": "python",
   "nbconvert_exporter": "python",
   "pygments_lexer": "ipython3",
   "version": "3.6.3"
  }
 },
 "nbformat": 4,
 "nbformat_minor": 2
}
