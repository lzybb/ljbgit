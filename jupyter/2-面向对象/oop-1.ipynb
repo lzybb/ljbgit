{
 "cells": [
  {
   "cell_type": "code",
   "execution_count": 4,
   "metadata": {},
   "outputs": [
    {
     "name": "stdout",
     "output_type": "stream",
     "text": [
      "ljb\n"
     ]
    }
   ],
   "source": [
    "class Student ():\n",
    "    name = 'ljb'\n",
    "    age = 18\n",
    "Student.__dict__\n",
    "\n",
    "# 实例化，对象\n",
    "ljb = Student()\n",
    "ljb.__dict__\n",
    "print(ljb.name)"
   ]
  },
  {
   "cell_type": "code",
   "execution_count": 5,
   "metadata": {},
   "outputs": [
    {
     "name": "stdout",
     "output_type": "stream",
     "text": [
      "ljb\n",
      "18\n",
      "********************\n",
      "1943555417400\n",
      "140709800621424\n",
      "********************\n",
      "ljb\n",
      "18\n",
      "1943555417400\n",
      "140709800621424\n"
     ]
    }
   ],
   "source": [
    "class A():\n",
    "    name = 'ljb'\n",
    "    age =18\n",
    "    # 注意self的写法，参数有一个self\n",
    "    def say(self):\n",
    "        self.name = 'aaaa'\n",
    "        self.age = 10\n",
    "print(A.name)\n",
    "print(A.age)\n",
    "print('*'*20)\n",
    "print(id(A.name))\n",
    "print(id(A.age))\n",
    "print('*'*20)\n",
    "\n",
    "a=A()\n",
    "print(a.name)\n",
    "print(a.age)\n",
    "print(id(a.name))\n",
    "print(id(a.age))"
   ]
  },
  {
   "cell_type": "code",
   "execution_count": 1,
   "metadata": {},
   "outputs": [
    {
     "name": "stdout",
     "output_type": "stream",
     "text": [
      "{'__module__': '__main__', 'name': 'ljb', 'age': 18, 'say': <function A.say at 0x000002AABB27CAE8>, '__dict__': <attribute '__dict__' of 'A' objects>, '__weakref__': <attribute '__weakref__' of 'A' objects>, '__doc__': None}\n",
      "{}\n",
      "{'name': 'zj'}\n"
     ]
    }
   ],
   "source": [
    "class A():\n",
    "    name = 'ljb'\n",
    "    age =18\n",
    "    def say(self):\n",
    "        self.name = 'aaaa'\n",
    "        self.age = 10\n",
    "        \n",
    "a = A()\n",
    "print(A.__dict__)\n",
    "print(a.__dict__)\n",
    "a.name = 'zj'\n",
    "print(a.__dict__)\n",
    "# 对象的成员进行锅赋值后，才会显示在对象中，不然对象成员暂时指向类中成员"
   ]
  },
  {
   "cell_type": "code",
   "execution_count": 2,
   "metadata": {},
   "outputs": [
    {
     "name": "stdout",
     "output_type": "stream",
     "text": [
      "My name is aaaa\n",
      "My age is 10\n"
     ]
    }
   ],
   "source": [
    "class Student():\n",
    "    name = 'ljb'\n",
    "    age =18\n",
    "    def say(self):\n",
    "        self.name = 'aaaa'\n",
    "        self.age = 10\n",
    "        print(\"My name is {0}\".format(self.name))\n",
    "        print(\"My age is {0}\".format(self.age))\n",
    "zj = Student()\n",
    "zj.say()"
   ]
  },
  {
   "cell_type": "code",
   "execution_count": 7,
   "metadata": {},
   "outputs": [
    {
     "name": "stdout",
     "output_type": "stream",
     "text": [
      "My name is zj\n",
      "My age is 33\n",
      "My age is 37\n",
      "Hello,nice to see you again\n",
      "ljb\n",
      "37\n"
     ]
    }
   ],
   "source": [
    "class Teacher():\n",
    "    name = \"ljb\"\n",
    "    age = 37\n",
    "    \n",
    "    def say(self):\n",
    "        self.name = 'zj'\n",
    "        self.age = 33\n",
    "        print('My name is {0}'.format(self.name))\n",
    "        print('My age is {0}'.format(self.age))\n",
    "        # 调用类的成员需要使用__class__.成员\n",
    "        print('My age is {0}'.format(__class__.age))\n",
    "    def sayAgain():\n",
    "        print(\"Hello,nice to see you again\")\n",
    "        print(__class__.name)\n",
    "        print(__class__.age)\n",
    "\n",
    "t = Teacher()\n",
    "t.say()\n",
    "# 调用绑定类函数使用类名\n",
    "Teacher.sayAgain()"
   ]
  },
  {
   "cell_type": "code",
   "execution_count": 11,
   "metadata": {},
   "outputs": [
    {
     "name": "stdout",
     "output_type": "stream",
     "text": [
      "zj\n",
      "33\n",
      "zj\n",
      "33\n",
      "ljb\n",
      "37\n",
      "******************************\n",
      "bbb\n",
      "30\n"
     ]
    }
   ],
   "source": [
    "# 关于self的案例\n",
    "\n",
    "class A():\n",
    "    name = 'ljb'\n",
    "    age = 37\n",
    "    \n",
    "    def __init__(self):\n",
    "        self.name = 'zj'\n",
    "        self.age = 33\n",
    "    def say(self):\n",
    "        print(self.name)\n",
    "        print(self.age)\n",
    "\n",
    "class B():\n",
    "    name = 'bbb'\n",
    "    age = 30\n",
    "\n",
    "a = A()\n",
    "a.say()\n",
    "\n",
    "# 此时，a作为参数\n",
    "A.say(a)\n",
    "# 同样可以把A作为参数传入\n",
    "A.say(A)\n",
    "\n",
    "print('*'*30)\n",
    "\n",
    "# 此时，传入的是类实例B，因为B具有name和age属性，所以不会报错\n",
    "A.say(B)\n",
    "\n",
    "# 以上代码，利用了鸭子模型"
   ]
  },
  {
   "cell_type": "code",
   "execution_count": 19,
   "metadata": {},
   "outputs": [
    {
     "name": "stdout",
     "output_type": "stream",
     "text": [
      "ljb\n",
      "{'__module__': '__main__', 'name': 'ljb', '_Person__age': 18, '__dict__': <attribute '__dict__' of 'Person' objects>, '__weakref__': <attribute '__weakref__' of 'Person' objects>, '__doc__': None}\n",
      "18\n"
     ]
    }
   ],
   "source": [
    "class Person():\n",
    "    # name是公有的成员\n",
    "    name = 'ljb'\n",
    "    # __age就是私有成员\n",
    "    __age = 18\n",
    "    \n",
    "p = Person()\n",
    "# name是公有变量\n",
    "print(p.name)\n",
    "# __age是私有变量\n",
    "# 注意报错信息\n",
    "#print(p.__age)\n",
    "print(Person.__dict__)\n",
    "# 注意名称的更改\n",
    "print(p._Person__age)"
   ]
  },
  {
   "cell_type": "code",
   "execution_count": null,
   "metadata": {},
   "outputs": [],
   "source": []
  }
 ],
 "metadata": {
  "kernelspec": {
   "display_name": "Python 3",
   "language": "python",
   "name": "python3"
  },
  "language_info": {
   "codemirror_mode": {
    "name": "ipython",
    "version": 3
   },
   "file_extension": ".py",
   "mimetype": "text/x-python",
   "name": "python",
   "nbconvert_exporter": "python",
   "pygments_lexer": "ipython3",
   "version": "3.7.1"
  }
 },
 "nbformat": 4,
 "nbformat_minor": 2
}
