{
 "cells": [
  {
   "cell_type": "markdown",
   "metadata": {},
   "source": [
    "# 三大结构\n",
    "- 顺序\n",
    "- 分支\n",
    "- 循环"
   ]
  },
  {
   "cell_type": "markdown",
   "metadata": {},
   "source": [
    "# 分支\n",
    "- 分支的基本语法 \n",
    "\n",
    "        if 条件表达式：\n",
    "            语句1\n",
    "            语句2\n",
    "            语句3\n",
    "            .......\n",
    "- 条件表达式就是计算结果必须为布尔值的表达式\n",
    "- 表达式后面的冒号不能少\n",
    "- 注意if后面的出现的语句，如果属于if语句块，则必须同一个缩进等级\n",
    "- 条件表达式结果为True执行if后面的缩进的语句块"
   ]
  },
  {
   "cell_type": "code",
   "execution_count": 6,
   "metadata": {},
   "outputs": [
    {
     "name": "stdout",
     "output_type": "stream",
     "text": [
      "回去叫家长\n",
      "找同龄人\n",
      "啦啦啦\n"
     ]
    }
   ],
   "source": [
    "# if语句联系\n",
    "# 如果age小于18岁，则打印信息\"去叫家长”\n",
    "age = 12\n",
    "if  age < 18:\n",
    "    print(\"回去叫家长\")\n",
    "    print(\"找同龄人\")\n",
    "    print(\"啦啦啦\")"
   ]
  },
  {
   "cell_type": "code",
   "execution_count": 8,
   "metadata": {},
   "outputs": [
    {
     "name": "stdout",
     "output_type": "stream",
     "text": [
      "可以上车咯，老司机们\n"
     ]
    }
   ],
   "source": [
    "# if语句联系\n",
    "# 如果age小于18岁，则打印信息\"去叫家长”\n",
    "age = 36\n",
    "if  age < 18:\n",
    "    print(\"回去叫家长\")\n",
    "    print(\"找同龄人\")\n",
    "    print(\"啦啦啦\")\n",
    "    \n",
    "print(\"可以上车咯，老司机们\")"
   ]
  },
  {
   "cell_type": "code",
   "execution_count": null,
   "metadata": {
    "collapsed": true
   },
   "outputs": [],
   "source": [
    "print(\"今天学习for循环\")\n",
    "gender = \"男\"\n",
    "if gender == \"女\":\n",
    "    print(\"过节啦\")\n",
    "\n",
    "print(\"开始讲for循环\")"
   ]
  },
  {
   "cell_type": "markdown",
   "metadata": {},
   "source": [
    "### 双向分支\n",
    "- if...else...语句\n",
    "\n",
    "        if 条件表达式:\n",
    "            语句1\n",
    "            语句2\n",
    "            .......\n",
    "        else：\n",
    "            语句1\n",
    "            语句2\n",
    "            ......\n",
    "            \n",
    "            \n",
    "- 双向分支有两个分支，当程序执行到if...else...语句的时候，一定会执行if或else中的一个，也仅执行一个\n",
    "- 缩进问题，if和else一个层级，其余语句一个层级"
   ]
  },
  {
   "cell_type": "code",
   "execution_count": 12,
   "metadata": {},
   "outputs": [
    {
     "name": "stdout",
     "output_type": "stream",
     "text": [
      "请输入性别：nv\n",
      "你输入的性别是：nv\n",
      "回家早点睡觉\n",
      "开始上课喽\n"
     ]
    }
   ],
   "source": [
    "# input的作用是\n",
    "# 1. 在屏幕上输出括号内的字符串\n",
    "# 2. 接受用户输入的内容并返回到程序\n",
    "# 3. input返回的内容一定是字符窜类型\n",
    "gender = input(\"请输入性别：\")\n",
    "print(\"你输入的性别是：{0}\".format(gender))\n",
    "\n",
    "if gender == \"男\":\n",
    "    print(\"来，我们纪念下今天，代码敲十遍\")\n",
    "else:\n",
    "        print(\"回家早点睡觉\")\n",
    "\n",
    "    \n",
    "print(\"开始上课喽\")    \n",
    "    "
   ]
  },
  {
   "cell_type": "code",
   "execution_count": null,
   "metadata": {
    "collapsed": true
   },
   "outputs": [],
   "source": [
    "# 考试成绩判断\n",
    "# 90以上： 输出优秀\n",
    "# 80-90： 良\n",
    "# 70-80： 中\n",
    "# 60-70： 平\n",
    "# 60以下: 输出：找家长来"
   ]
  },
  {
   "cell_type": "code",
   "execution_count": 16,
   "metadata": {},
   "outputs": [
    {
     "name": "stdout",
     "output_type": "stream",
     "text": [
      "请输入学生成绩:78\n",
      "中\n"
     ]
    }
   ],
   "source": [
    "# score 存放学生成绩\n",
    "# 注意input的返回值类型\n",
    "score = input(\"请输入学生成绩:\")\n",
    "# 需要把str转换成int\n",
    "score = int(score) #必须是数字字符串\n",
    "\n",
    "if score>= 90:\n",
    "    print(\"优\")\n",
    "if score>= 80 and score<90:\n",
    "    print(\"良\")\n",
    "if score>= 70 and score<80:\n",
    "    print(\"中\")\n",
    "if score>= 60 and score<70:\n",
    "    print(\"平\")\n",
    "if score< 60:\n",
    "    print(\"带家长来\")"
   ]
  },
  {
   "cell_type": "markdown",
   "metadata": {
    "collapsed": true
   },
   "source": [
    "## 多路分支\n",
    "- 很多分支的情况，简称多路分支\n",
    "\n",
    "\n",
    "        if 条件表达式：\n",
    "            语句1\n",
    "            ......\n",
    "        elif 条件表达式：\n",
    "            语句1\n",
    "            ......\n",
    "        ......\n",
    "        else:\n",
    "            语句1\n",
    "            ......\n",
    "- elif 可以有很多个\n",
    "- else 可选\n",
    "- 多路分支只会选一个执行"
   ]
  },
  {
   "cell_type": "code",
   "execution_count": 1,
   "metadata": {},
   "outputs": [
    {
     "name": "stdout",
     "output_type": "stream",
     "text": [
      "请输入学生成绩:67\n",
      "平\n"
     ]
    }
   ],
   "source": [
    "# score 存放学生成绩\n",
    "# 注意input的返回值类型\n",
    "score = input(\"请输入学生成绩:\")\n",
    "# 需要把str转换成int\n",
    "score = int(score) #必须是数字字符串\n",
    "\n",
    "if score>= 90:\n",
    "    print(\"优\")\n",
    "elif score>= 80 :\n",
    "    print(\"良\")\n",
    "elif score>= 70:\n",
    "    print(\"中\")\n",
    "elif score>= 60:\n",
    "    print(\"平\")\n",
    "else:\n",
    "    print(\"带家长来\")"
   ]
  },
  {
   "cell_type": "markdown",
   "metadata": {},
   "source": [
    "## if语句其他：\n",
    "- if语句可以嵌套使用，但不推荐\n",
    "- python没有switch-case语句\n"
   ]
  },
  {
   "cell_type": "markdown",
   "metadata": {},
   "source": [
    "# 循环语句\n",
    "- 重复执行某些固定动作或者处理基本固定的事物\n",
    "- 分类\n",
    "    - for循环\n",
    "    - while循环\n",
    "    \n",
    "## for循环    \n",
    "- for循环\n",
    "\n",
    "      for 变量 in 序列:\n",
    "          语句1\n",
    "          语句2\n",
    "          ......"
   ]
  },
  {
   "cell_type": "code",
   "execution_count": 3,
   "metadata": {},
   "outputs": [
    {
     "name": "stdout",
     "output_type": "stream",
     "text": [
      "张山\n",
      "李四\n",
      "王五\n",
      "静静\n"
     ]
    }
   ],
   "source": [
    "# 列表就是一列数字或者其他值，一般用中括号表示\n",
    "# 例如  [ '张山','李四','王五','静静' ]\n",
    "\n",
    "# 打印学生列表姓名\n",
    "\n",
    "for name in [ '张山','李四','王五','静静' ]:\n",
    "    print(name)"
   ]
  },
  {
   "cell_type": "code",
   "execution_count": 6,
   "metadata": {},
   "outputs": [
    {
     "name": "stdout",
     "output_type": "stream",
     "text": [
      "张山\n",
      "同学，好好学习！\n",
      "李四\n",
      "同学，好好学习！\n",
      "王五\n",
      "同学，好好学习！\n",
      "静静\n",
      "我最爱的静静出现了\n"
     ]
    }
   ],
   "source": [
    "# 打印学生列表姓名\n",
    "# 如果是静静，那是我的最爱啊\n",
    "# 如果是别的学生，那要拒绝他\n",
    "\n",
    "for name in [ '张山','李四','王五','静静' ]:\n",
    "    print(name)\n",
    "    if name == \"静静\":\n",
    "        print(\"我最爱的{0}出现了\".format(name))\n",
    "    else:\n",
    "        print(\"同学，好好学习！\")\n",
    "    "
   ]
  },
  {
   "cell_type": "markdown",
   "metadata": {},
   "source": [
    "## range介绍\n",
    "- 生成一个数字序列\n",
    "- 具体范围可以设定"
   ]
  },
  {
   "cell_type": "code",
   "execution_count": 9,
   "metadata": {},
   "outputs": [
    {
     "name": "stdout",
     "output_type": "stream",
     "text": [
      "1\n",
      "2\n",
      "3\n",
      "4\n",
      "5\n",
      "6\n",
      "7\n",
      "8\n",
      "9\n",
      "10\n"
     ]
    }
   ],
   "source": [
    "# range练习\n",
    "# 打印从1-10的数字\n",
    "# 注意，一般在Python中，如果由表示数字范围的两个数，一般是包含左边的数字不包含右边的数字\n",
    "# randint是特例，它左右都包含\n",
    "# range函数在python2 和 python3中有严重区别\n",
    "for i in range(1,11):\n",
    "    print(i)"
   ]
  },
  {
   "cell_type": "markdown",
   "metadata": {},
   "source": [
    "## for-else语句\n",
    "- 当for循环结束的时候，会执行else语句\n",
    "- else语句是可选语句"
   ]
  },
  {
   "cell_type": "code",
   "execution_count": 11,
   "metadata": {},
   "outputs": [
    {
     "name": "stdout",
     "output_type": "stream",
     "text": [
      "张山\n",
      "同学，好好学习！\n",
      "李四\n",
      "同学，好好学习！\n",
      "王五\n",
      "同学，好好学习！\n",
      "静静\n",
      "我最爱的静静出现了\n",
      "别的不归我管！\n"
     ]
    }
   ],
   "source": [
    "# for-else语句\n",
    "# 打印列表中的同学\n",
    "# 如果没有在列表中，或者列表结束了，我们需要打印提示语句，表示不再爱了\n",
    "\n",
    "\n",
    "# 打印学生列表姓名\n",
    "# 如果是静静，那是我的最爱啊\n",
    "# 如果是别的学生，那要拒绝他\n",
    "\n",
    "for name in [ '张山','李四','王五','静静' ]:\n",
    "    print(name)\n",
    "    if name == \"静静\":\n",
    "        print(\"我最爱的{0}出现了\".format(name))\n",
    "    else:\n",
    "        print(\"同学，好好学习！\")\n",
    "else:\n",
    "    print(\"别的不归我管！\")"
   ]
  },
  {
   "cell_type": "markdown",
   "metadata": {},
   "source": [
    "## for循环之break,continue,pass\n",
    "- break; 无条件结束整个循环，简称循环猝死\n",
    "- continue:无条件结束本次循环，重新进入下一轮循环\n",
    "- pass：表示路过"
   ]
  },
  {
   "cell_type": "code",
   "execution_count": 24,
   "metadata": {},
   "outputs": [
    {
     "name": "stdout",
     "output_type": "stream",
     "text": [
      "I love lzy\n",
      "I love lzy\n",
      "1\n",
      "2\n",
      "3\n",
      "4\n",
      "5\n",
      "6\n",
      "结束了\n"
     ]
    }
   ],
   "source": [
    "# 在数字1-10中，寻找数字7，一旦找到，打印出来，其余则什么都不做\n",
    "# for 循环中的变量表示，一般用i,k,m,n,或者indx,idx,item之类\n",
    "# 在python中，如果循环变量名称不重要，可以用下划线(_)代替\n",
    "\n",
    "for _ in range(1,3):\n",
    "    print('I love lzy')\n",
    "\n",
    "    \n",
    "for i in range(1,11):\n",
    "    if i == 7:\n",
    "        print('结束了')\n",
    "        break\n",
    "    else:\n",
    "        print(i)\n"
   ]
  },
  {
   "cell_type": "code",
   "execution_count": 30,
   "metadata": {},
   "outputs": [
    {
     "name": "stdout",
     "output_type": "stream",
     "text": [
      "2是偶数\n",
      "4是偶数\n",
      "6是偶数\n",
      "8是偶数\n",
      "10是偶数\n"
     ]
    }
   ],
   "source": [
    "# continue语句联系\n",
    "# 在数字1-10中，寻所有偶数，找到偶数并打印偶数\n",
    "\n",
    "\n",
    "    \n",
    "for i in range(1,11):\n",
    "    if (i % 2) != 0:\n",
    "        continue\n",
    "    else:\n",
    "        print(\"{0}是偶数\".format(i))"
   ]
  },
  {
   "cell_type": "code",
   "execution_count": 33,
   "metadata": {},
   "outputs": [
    {
     "name": "stdout",
     "output_type": "stream",
     "text": [
      "2是偶数\n",
      "4是偶数\n",
      "6是偶数\n",
      "8是偶数\n",
      "10是偶数\n"
     ]
    }
   ],
   "source": [
    "# continue语句联系 版本 2\n",
    "# 在数字1-10中，寻所有偶数，找到偶数并打印偶数\n",
    "    \n",
    "for i in range(1,11):\n",
    "    if (i % 2) == 0:\n",
    "        print(\"{0}是偶数\".format(i))"
   ]
  },
  {
   "cell_type": "code",
   "execution_count": 35,
   "metadata": {},
   "outputs": [
    {
     "name": "stdout",
     "output_type": "stream",
     "text": [
      "2是偶数\n",
      "4是偶数\n",
      "6是偶数\n",
      "8是偶数\n",
      "10是偶数\n"
     ]
    }
   ],
   "source": [
    "# continue语句联系  版本3\n",
    "# 在数字1-10中，寻所有偶数，找到偶数并打印偶数\n",
    "# 本案例完整显示continue的用法和作用\n",
    "\n",
    "    \n",
    "for i in range(1,11):\n",
    "    if (i % 2) == 1:\n",
    "        continue\n",
    "\n",
    "    print(\"{0}是偶数\".format(i))"
   ]
  },
  {
   "cell_type": "code",
   "execution_count": 39,
   "metadata": {},
   "outputs": [
    {
     "name": "stdout",
     "output_type": "stream",
     "text": [
      "占个坑\n",
      "占个坑\n",
      "占个坑\n",
      "占个坑\n",
      "占个坑\n",
      "占个坑\n",
      "占个坑\n",
      "占个坑\n",
      "占个坑\n",
      "占个坑\n"
     ]
    }
   ],
   "source": [
    "# pass例子，一般用于占位\n",
    "# pass没有跳过功能\n",
    "\n",
    "\n",
    "for i in range(1,11):\n",
    "    pass\n",
    "    print(\"占个坑\")\n",
    "    \n",
    "    \n",
    "    "
   ]
  }
 ],
 "metadata": {
  "kernelspec": {
   "display_name": "Python 3",
   "language": "python",
   "name": "python3"
  },
  "language_info": {
   "codemirror_mode": {
    "name": "ipython",
    "version": 3
   },
   "file_extension": ".py",
   "mimetype": "text/x-python",
   "name": "python",
   "nbconvert_exporter": "python",
   "pygments_lexer": "ipython3",
   "version": "3.6.3"
  }
 },
 "nbformat": 4,
 "nbformat_minor": 2
}
