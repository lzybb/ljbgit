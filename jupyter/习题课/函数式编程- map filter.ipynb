{
 "cells": [
  {
   "cell_type": "markdown",
   "metadata": {},
   "source": [
    "利用map()函数，把用户输入的不规范的英文，变成首字母大写，其他小写的规范的名字：比如说[\"ADMAm\",\"LISA\",\"JACk\"],[\"Admam\",\"Lisa\",\"Jack\"]"
   ]
  },
  {
   "cell_type": "code",
   "execution_count": 3,
   "metadata": {},
   "outputs": [
    {
     "name": "stdout",
     "output_type": "stream",
     "text": [
      "Admam\n",
      "Lisa\n",
      "Jack\n",
      "['Admam', 'Lisa', 'Jack']\n"
     ]
    }
   ],
   "source": [
    "def standards(s):\n",
    "    t = '0'\n",
    "    t = s.lower()\n",
    "    t = t.capitalize()\n",
    "    print(t)\n",
    "    return t\n",
    "l = map(standards, [\"ADMAm\", \"LISA\", \"JACk\"])\n",
    "print(list(l))"
   ]
  },
  {
   "cell_type": "markdown",
   "metadata": {},
   "source": [
    "回数：从左向右和从右向左读数都是一样的数，例如：12321，999，请利用filter()函数"
   ]
  },
  {
   "cell_type": "code",
   "execution_count": 26,
   "metadata": {},
   "outputs": [
    {
     "name": "stdout",
     "output_type": "stream",
     "text": [
      "[11, 22, 33, 44, 55, 66, 77, 88, 99, 101, 111, 121, 131, 141, 151, 161, 171, 181, 191, 202, 212, 222, 232, 242, 252, 262, 272, 282, 292, 303, 313, 323, 333, 343, 353, 363, 373, 383, 393, 404, 414, 424, 434, 444, 454, 464, 474, 484, 494, 505, 515, 525, 535, 545, 555, 565, 575, 585, 595, 606, 616, 626, 636, 646, 656, 666, 676, 686, 696, 707, 717, 727, 737, 747, 757, 767, 777, 787, 797, 808, 818, 828, 838, 848, 858, 868, 878, 888, 898, 909, 919, 929, 939, 949, 959, 969, 979, 989, 999]\n"
     ]
    }
   ],
   "source": [
    "def equal(a, b):\n",
    "    return a==b\n",
    "\n",
    "def is_ok(num):\n",
    "    s = str(num)\n",
    "    for i in range(len(s)-1):\n",
    "        if s[i]==s[len(s)-i-1]:\n",
    "            pass\n",
    "        else:\n",
    "            break\n",
    "            return False\n",
    "        return True\n",
    "        \n",
    "output = filter(is_ok, range(1,1000))\n",
    "print(list(output))\n"
   ]
  },
  {
   "cell_type": "markdown",
   "metadata": {},
   "source": [
    "权重\n",
    "goods=[{\"name\":\"good1\",\"price\":200,\"sales\":100,\"stars\":5,\"comments\":400},\n",
    "       {\"name\":\"good2\",\"price\":115,\"sales\":200,\"stars\":3,\"comments\":170},\n",
    "       {\"name\":\"good3\",\"price\":468,\"sales\":400,\"stars\":4,\"comments\":300},\n",
    "       {\"name\":\"good4\",\"price\":234,\"sales\":700,\"stars\":2,\"comments\":440},\n",
    "       {\"name\":\"good5\",\"price\":145,\"sales\":800,\"stars\":1,\"comments\":4200},\n",
    "      ]\n",
    "      \n",
    "权重是100\n",
    "价格占：40%,销售量：17%，评级：13%，评论：30%"
   ]
  },
  {
   "cell_type": "code",
   "execution_count": 1,
   "metadata": {},
   "outputs": [
    {
     "name": "stdout",
     "output_type": "stream",
     "text": [
      "[{'name': 'good5', 'price': 145, 'sales': 800, 'stars': 1, 'comments': 4200}, {'name': 'good3', 'price': 468, 'sales': 400, 'stars': 4, 'comments': 300}, {'name': 'good4', 'price': 234, 'sales': 700, 'stars': 2, 'comments': 440}, {'name': 'good1', 'price': 200, 'sales': 100, 'stars': 5, 'comments': 400}, {'name': 'good2', 'price': 115, 'sales': 200, 'stars': 3, 'comments': 170}]\n"
     ]
    }
   ],
   "source": [
    "goods=[{\"name\":\"good1\",\"price\":200,\"sales\":100,\"stars\":5,\"comments\":400},\n",
    "       {\"name\":\"good2\",\"price\":115,\"sales\":200,\"stars\":3,\"comments\":170},\n",
    "       {\"name\":\"good3\",\"price\":468,\"sales\":400,\"stars\":4,\"comments\":300},\n",
    "       {\"name\":\"good4\",\"price\":234,\"sales\":700,\"stars\":2,\"comments\":440},\n",
    "       {\"name\":\"good5\",\"price\":145,\"sales\":800,\"stars\":1,\"comments\":4200}]\n",
    "# sorted() 进行排序\n",
    "def my_sorted(arg):\n",
    "    price = arg[\"price\"]\n",
    "    sales = arg[\"sales\"]\n",
    "    stars = arg[\"stars\"]\n",
    "    comments = arg[\"comments\"]\n",
    "    data = price*0.4+sales*0.17+stars*0.13+comments*0.3\n",
    "    return data\n",
    "\n",
    "s = sorted(goods, key=my_sorted, reverse=True)\n",
    "print(s)"
   ]
  },
  {
   "cell_type": "code",
   "execution_count": null,
   "metadata": {},
   "outputs": [],
   "source": [
    "# r = sorted(goods, key=lambda x:x['price'*0.4], reverse=True)\n",
    " "
   ]
  }
 ],
 "metadata": {
  "kernelspec": {
   "display_name": "Python 3",
   "language": "python",
   "name": "python3"
  },
  "language_info": {
   "codemirror_mode": {
    "name": "ipython",
    "version": 3
   },
   "file_extension": ".py",
   "mimetype": "text/x-python",
   "name": "python",
   "nbconvert_exporter": "python",
   "pygments_lexer": "ipython3",
   "version": "3.7.3"
  }
 },
 "nbformat": 4,
 "nbformat_minor": 2
}
