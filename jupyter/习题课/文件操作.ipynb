{
 "cells": [
  {
   "cell_type": "markdown",
   "metadata": {},
   "source": [
    "编写一个程序，接受用户输入的内容，并且保存为新的文件\n",
    "如果用户单独输入 :w\n",
    "表示文件保存退出\n",
    "open()\n",
    "input()\n",
    "\"w\""
   ]
  },
  {
   "cell_type": "code",
   "execution_count": 3,
   "metadata": {},
   "outputs": [
    {
     "name": "stdout",
     "output_type": "stream",
     "text": [
      "请用户输入文件名test02.txt\n",
      "请输入内容，（单独输入：w 保存退出）\n",
      "1211111\n",
      "22222\n",
      "33333\n",
      "44444\n",
      "55555\n",
      "66666\n",
      "77777\n",
      "8888\n",
      ":w\n"
     ]
    }
   ],
   "source": [
    "file_name = input(\"请用户输入文件名\")\n",
    "\n",
    "def file_write(file_name):\n",
    "    with open(file_name, \"w\") as f:\n",
    "        print(\"请输入内容，（单独输入：w 保存退出）\")\n",
    "        while True:\n",
    "            write_something = input()\n",
    "            #\n",
    "            if write_something !=\":w\":\n",
    "                f.write('%s\\n'%write_something)\n",
    "            else:\n",
    "                break\n",
    "                \n",
    "file_write(file_name)"
   ]
  },
  {
   "cell_type": "markdown",
   "metadata": {},
   "source": [
    "编写一个程序，比较用户输入的文件是否相同，如果不同，显示出所有不同处的行号\n",
    "- file.readline()\n",
    "- open()\n",
    "- differ()"
   ]
  },
  {
   "cell_type": "code",
   "execution_count": 5,
   "metadata": {},
   "outputs": [
    {
     "name": "stdout",
     "output_type": "stream",
     "text": [
      "请输入需要比较的第一个文件名test01.txt\n",
      "请输入需要比较的第二个文件名test02.txt\n",
      "两个文件有6处不同\n",
      "第1行不同\n",
      "第4行不同\n",
      "第6行不同\n",
      "第7行不同\n",
      "第8行不同\n",
      "第9行不同\n"
     ]
    }
   ],
   "source": [
    "file1 = input(\"请输入需要比较的第一个文件名\")\n",
    "file2 = input(\"请输入需要比较的第二个文件名\")\n",
    "\n",
    "def file_compare(file1, file2):\n",
    "    f1 = open(file1)\n",
    "    f2 = open(file2)\n",
    "    count = 0 # 统计的行数\n",
    "    differ = [] # 统计不一样的数量\n",
    "    \n",
    "    for line1 in f1:\n",
    "        line2 = f2.readline()\n",
    "        count +=1\n",
    "        if line1 != line2:\n",
    "            differ.append(count)    \n",
    "    f1.close()\n",
    "    f2.close()\n",
    "    return differ\n",
    "    \n",
    "differ = file_compare(file1, file2)\n",
    "if len(differ)==0:\n",
    "    print(\"两个文件完全相同\")\n",
    "else:\n",
    "    print(\"两个文件有%d处不同\"%len(differ))\n",
    "    for i in differ:\n",
    "        print(\"第%d行不同\"%i)"
   ]
  },
  {
   "cell_type": "markdown",
   "metadata": {},
   "source": [
    "编写一个程序，当用户输入文件名和行数的时候，将该文件的前n行内容打印出来\n",
    "iuput 去接受一个文件名\n",
    "input 去接受一个行数"
   ]
  },
  {
   "cell_type": "code",
   "execution_count": 9,
   "metadata": {},
   "outputs": [
    {
     "name": "stdout",
     "output_type": "stream",
     "text": [
      "请输入你要打开的文件名：test01.txt\n",
      "请输入你要显示的前几行：6\n",
      "\n",
      "文件test01.txt的前6行的内容如下：\n",
      "11111\n",
      "\n",
      "22222\n",
      "\n",
      "33333\n",
      "\n",
      "444444\n",
      "\n",
      "55555\n",
      "\n",
      "\n",
      "\n"
     ]
    }
   ],
   "source": [
    "file_name = input(r\"请输入你要打开的文件名：\")\n",
    "line_num = input(r\"请输入你要显示的前几行：\")\n",
    "\n",
    "def file_view(file_name, line_num):\n",
    "    print(\"\\n文件%s的前%s行的内容如下：\"%(file_name, line_num))\n",
    "    \n",
    "    with open(file_name,'r') as f:\n",
    "        for i in range(int(line_num)):\n",
    "            print(f.readline())\n",
    "            \n",
    "file_view(file_name, line_num)"
   ]
  },
  {
   "cell_type": "code",
   "execution_count": null,
   "metadata": {},
   "outputs": [],
   "source": []
  }
 ],
 "metadata": {
  "kernelspec": {
   "display_name": "Python 3",
   "language": "python",
   "name": "python3"
  },
  "language_info": {
   "codemirror_mode": {
    "name": "ipython",
    "version": 3
   },
   "file_extension": ".py",
   "mimetype": "text/x-python",
   "name": "python",
   "nbconvert_exporter": "python",
   "pygments_lexer": "ipython3",
   "version": "3.7.3"
  }
 },
 "nbformat": 4,
 "nbformat_minor": 2
}
